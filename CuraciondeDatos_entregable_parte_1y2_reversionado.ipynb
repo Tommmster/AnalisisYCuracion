{
  "cells": [
    {
      "cell_type": "markdown",
      "metadata": {
        "id": "view-in-github",
        "colab_type": "text"
      },
      "source": [
        "<a href=\"https://colab.research.google.com/github/Tommmster/AnalisisYCuracion/blob/master/CuraciondeDatos_entregable_parte_1y2_reversionado.ipynb\" target=\"_parent\"><img src=\"https://colab.research.google.com/assets/colab-badge.svg\" alt=\"Open In Colab\"/></a>"
      ]
    },
    {
      "cell_type": "markdown",
      "id": "e0ff301b-5595-4a0b-a2b8-3d5609a0485d",
      "metadata": {
        "id": "e0ff301b-5595-4a0b-a2b8-3d5609a0485d"
      },
      "source": [
        "**Diplomatura en Ciencia de Datos, Aprendizaje Automático y sus Aplicaciones**\n",
        "\n",
        "**Exploración y Curación de Datos**\n",
        "\n",
        "*Edición 2022*\n",
        "\n",
        "----\n",
        "\n",
        "# Trabajo práctico entregable - parte 1\n",
        "\n",
        "En esta notebook, vamos a cargar el conjunto de datos de [la compentencia Kaggle](https://www.kaggle.com/dansbecker/melbourne-housing-snapshot) sobre estimación de precios de ventas de propiedades en Melbourne, Australia.\n",
        "\n",
        "Utilizaremos el conjunto de datos reducido producido por [DanB](https://www.kaggle.com/dansbecker). Hemos subido una copia a un servidor de la Universidad Nacional de Córdoba para facilitar su acceso remoto."
      ]
    },
    {
      "cell_type": "code",
      "execution_count": 1,
      "id": "f5ac98f7-51f3-4f91-ac49-60ef5fe249be",
      "metadata": {
        "id": "f5ac98f7-51f3-4f91-ac49-60ef5fe249be",
        "colab": {
          "base_uri": "https://localhost:8080/"
        },
        "outputId": "149e792f-6a9a-403d-dfb2-95d26e3a4472"
      },
      "outputs": [
        {
          "output_type": "stream",
          "name": "stdout",
          "text": [
            "Looking in indexes: https://pypi.org/simple, https://us-python.pkg.dev/colab-wheels/public/simple/\n",
            "Collecting decouple\n",
            "  Downloading decouple-0.0.7.tar.gz (3.3 kB)\n",
            "Building wheels for collected packages: decouple\n",
            "  Building wheel for decouple (setup.py) ... \u001b[?25l\u001b[?25hdone\n",
            "  Created wheel for decouple: filename=decouple-0.0.7-py3-none-any.whl size=4483 sha256=444988dda8896960eeb655d6f0c1ad52aa55b66cb4a034449dc9c18c42795811\n",
            "  Stored in directory: /root/.cache/pip/wheels/c0/f8/ba/513f9e16fec0df6b2dfd693ae2c057773e912c478b6019f24f\n",
            "Successfully built decouple\n",
            "Installing collected packages: decouple\n",
            "Successfully installed decouple-0.0.7\n"
          ]
        }
      ],
      "source": [
        "import matplotlib\n",
        "import matplotlib.pyplot as plt\n",
        "import numpy\n",
        "import pandas\n",
        "\n",
        "import seaborn\n",
        "seaborn.set_context('talk')\n",
        "\n",
        "\n",
        "#!pip install matplotlib-venn\n",
        "!pip install decouple\n",
        "\n",
        "#from decouple import config\n",
        "from sqlalchemy import create_engine, text"
      ]
    },
    {
      "cell_type": "code",
      "execution_count": 2,
      "id": "ce478cbd-0f49-4f15-8dc5-1fe1a5b39f17",
      "metadata": {
        "id": "ce478cbd-0f49-4f15-8dc5-1fe1a5b39f17",
        "colab": {
          "base_uri": "https://localhost:8080/",
          "height": 36
        },
        "outputId": "b11f101f-f63c-4e03-df42-a3873d26a2d2"
      },
      "outputs": [
        {
          "output_type": "execute_result",
          "data": {
            "text/plain": [
              "'5.5.0'"
            ],
            "application/vnd.google.colaboratory.intrinsic+json": {
              "type": "string"
            }
          },
          "metadata": {},
          "execution_count": 2
        }
      ],
      "source": [
        "import plotly\n",
        "plotly.__version__\n",
        "# Make sure it's 4.14.3"
      ]
    },
    {
      "cell_type": "code",
      "execution_count": 61,
      "id": "5ba8bfd5-199a-4390-a5b4-11ec9669b3e1",
      "metadata": {
        "id": "5ba8bfd5-199a-4390-a5b4-11ec9669b3e1"
      },
      "outputs": [],
      "source": [
        "# melb_data es un archivo que contiene las propiedades a aquilar con descripcion de las mismas , habitaciones, precio, vendedor , fecha \n",
        "melb_df = pandas.read_csv(\n",
        "    'https://cs.famaf.unc.edu.ar/~mteruel/datasets/diplodatos/melb_data.csv')\n"
      ]
    },
    {
      "cell_type": "code",
      "source": [
        "melb_df.columns"
      ],
      "metadata": {
        "colab": {
          "base_uri": "https://localhost:8080/"
        },
        "id": "9y4TI08d2hWf",
        "outputId": "fbb13659-c31e-4f7d-8b60-2b50703dd78f"
      },
      "id": "9y4TI08d2hWf",
      "execution_count": 62,
      "outputs": [
        {
          "output_type": "execute_result",
          "data": {
            "text/plain": [
              "Index(['Suburb', 'Address', 'Rooms', 'Type', 'Price', 'Method', 'SellerG',\n",
              "       'Date', 'Distance', 'Postcode', 'Bedroom2', 'Bathroom', 'Car',\n",
              "       'Landsize', 'BuildingArea', 'YearBuilt', 'CouncilArea', 'Lattitude',\n",
              "       'Longtitude', 'Regionname', 'Propertycount'],\n",
              "      dtype='object')"
            ]
          },
          "metadata": {},
          "execution_count": 62
        }
      ]
    },
    {
      "cell_type": "markdown",
      "id": "6cffe5bf-2498-498c-aa06-3e61422d91e6",
      "metadata": {
        "id": "6cffe5bf-2498-498c-aa06-3e61422d91e6"
      },
      "source": [
        "## Ejercicio 1 SQL: \n",
        "\n",
        "1. Crear una base de datos en SQLite utilizando la libreria [SQLalchemy](https://stackoverflow.com/questions/2268050/execute-sql-from-file-in-sqlalchemy).\n",
        "https://docs.sqlalchemy.org/en/14/core/engines.html#sqlite\n",
        "\n",
        "2. Ingestar los datos provistos en 'https://cs.famaf.unc.edu.ar/~mteruel/datasets/diplodatos/melb_data.csv' en una tabla y el dataset generado en clase con datos de airbnb y sus precios por codigo postal en otra.\n",
        "\n",
        "3. Implementar consultas en SQL que respondan con la siguiente información:\n",
        "\n",
        "    - cantidad de registros totales por ciudad.\n",
        "    - cantidad de registros totales por barrio y ciudad.\n",
        "\n",
        "4. Combinar los datasets de ambas tablas ingestadas utilizando el comando JOIN de SQL  para obtener un resultado similar a lo realizado con Pandas en clase.  \n",
        "\n"
      ]
    },
    {
      "cell_type": "markdown",
      "id": "c5468c4f-5cdf-4df4-a317-60e1fb0c00db",
      "metadata": {
        "id": "c5468c4f-5cdf-4df4-a317-60e1fb0c00db"
      },
      "source": [
        "## Ejercicio 2: \n",
        "\n",
        "1. Seleccionar un subconjunto de columnas que les parezcan relevantes al problema de predicción del valor de la propiedad. Justificar las columnas seleccionadas y las que no lo fueron.\n",
        " - Eliminar los valores extremos que no sean relevantes para la predicción de valores de las propiedades.\n",
        "\n",
        "2. Agregar información adicional respectiva al entorno de una propiedad a partir del [conjunto de datos de AirBnB](https://www.kaggle.com/tylerx/melbourne-airbnb-open-data?select=cleansed_listings_dec18.csv) utilizado en el práctico. \n",
        "  1. Seleccionar qué variables agregar y qué combinaciones aplicar a cada una. Por ejemplo, pueden utilizar solo la columna `price`, o aplicar múltiples transformaciones como la mediana o el mínimo.\n",
        "  1. Utilizar la variable zipcode para unir los conjuntos de datos. Sólo incluir los zipcodes que tengan una cantidad mínima de registros (a elección) como para que la información agregada sea relevante.\n",
        "  2. Investigar al menos otras 2 variables que puedan servir para combinar los datos, y justificar si serían adecuadas o no. Pueden asumir que cuentan con la ayuda de anotadores expertos para encontrar equivalencias entre barrios o direcciones, o que cuentan con algoritmos para encontrar las n ubicaciones más cercanas a una propiedad a partir de sus coordenadas geográficas. **NO** es necesario que realicen la implementación.\n",
        "\n",
        "Pueden leer otras columnas del conjunto de AirBnB además de las que están en `interesting_cols`, si les parecen relevantes."
      ]
    },
    {
      "cell_type": "markdown",
      "source": [
        "# Dudas\n",
        "2.1.1 No entendemos a qué transfomaciones se hace referencia. ¿Cuál es el punto del ejercicio? ¿Proveer un valor de precio por zipcode?\n",
        "\n",
        "2.2.2 \n",
        "- ¿Cómo podemos decidir el valor mínimo de ocurrencias por zipcode? Se habla de 30 ocurrencias.\n",
        "- Preguntar si a partir de este punto generamos el archivo para seguir en el Entregable 2\n",
        "\n",
        "2.2.3 "
      ],
      "metadata": {
        "id": "r4ZocR-IlZSi"
      },
      "id": "r4ZocR-IlZSi"
    },
    {
      "cell_type": "markdown",
      "id": "c5303f27-3b15-441b-b291-8caf1c734139",
      "metadata": {
        "id": "c5303f27-3b15-441b-b291-8caf1c734139"
      },
      "source": [
        "## Ejercicio 3:\n",
        "\n",
        "Crear y guardar un nuevo conjunto de datos con todas las transformaciones realizadas anteriormente."
      ]
    },
    {
      "cell_type": "markdown",
      "id": "abfd3eeb-d466-424b-b58e-d1364ac39206",
      "metadata": {
        "id": "abfd3eeb-d466-424b-b58e-d1364ac39206"
      },
      "source": [
        "## Ejercicios opcionales:\n",
        "\n",
        "1. Armar un script en python (archivo .py) [ETL](https://towardsdatascience.com/what-to-log-from-python-etl-pipelines-9e0cfe29950e) que corra los pasos de extraccion, transformacion y carga, armando una funcion para cada etapa del proceso y luego un main que corra todos los pasos requeridos.\n",
        "\n",
        "2. Armar un DAG en Apache Airflow que corra el ETL. (https://airflow.apache.org/docs/apache-airflow/stable/tutorial.html)"
      ]
    },
    {
      "cell_type": "markdown",
      "source": [
        "# Ejercicio 1 SQL *Resolucion*\n"
      ],
      "metadata": {
        "id": "t50-CKAiKjJw"
      },
      "id": "t50-CKAiKjJw"
    },
    {
      "cell_type": "markdown",
      "source": [
        "*1. Crear una base de datos en SQLite*"
      ],
      "metadata": {
        "id": "xww0ef2wL-fQ"
      },
      "id": "xww0ef2wL-fQ"
    },
    {
      "cell_type": "code",
      "execution_count": null,
      "id": "5d210b95-836f-45ac-a52d-1a4dafdb447a",
      "metadata": {
        "id": "5d210b95-836f-45ac-a52d-1a4dafdb447a"
      },
      "outputs": [],
      "source": [
        "import pandas as pd\n",
        "from sqlalchemy import create_engine, text\n",
        "\n",
        "# crea una conexion a la base de datos BDCuracion\n",
        "engine = create_engine('sqlite:///BDCuracion.db', echo=True)"
      ]
    },
    {
      "cell_type": "markdown",
      "source": [
        "2. *Ingestar los datos provistos en 'https://cs.famaf.unc.edu.ar/~mteruel/datasets/diplodatos/melb_data.csv' en una tabla y el dataset generado en clase con datos de airbnb y sus precios por codigo postal en otra.*"
      ],
      "metadata": {
        "id": "7XaB5KOYML8t"
      },
      "id": "7XaB5KOYML8t"
    },
    {
      "cell_type": "code",
      "source": [
        "melb_df.to_sql('melbourn', con=engine, if_exists=\"replace\")"
      ],
      "metadata": {
        "id": "Kn6ErtCyNNf3"
      },
      "id": "Kn6ErtCyNNf3",
      "execution_count": null,
      "outputs": []
    },
    {
      "cell_type": "code",
      "source": [
        "from google.colab import drive\n",
        "drive.mount('/content/drive')"
      ],
      "metadata": {
        "id": "1euTn05OMWtg"
      },
      "id": "1euTn05OMWtg",
      "execution_count": null,
      "outputs": []
    },
    {
      "cell_type": "code",
      "source": [
        "#Aqui antes debemos subir el archivo generado en clase , el cual contiene los precios por codigos postal obtenido de la competencia de Kaggle\n",
        "airbnb_df = pd.read_csv(\n",
        "    '/content/airbnb_price_by_zipcode.csv')"
      ],
      "metadata": {
        "id": "0m1ExnWIOo0V"
      },
      "id": "0m1ExnWIOo0V",
      "execution_count": null,
      "outputs": []
    },
    {
      "cell_type": "code",
      "source": [
        "airbnb_df.to_sql('airbnb', con=engine, if_exists=\"replace\")"
      ],
      "metadata": {
        "id": "c-5v9kpSPHPc"
      },
      "id": "c-5v9kpSPHPc",
      "execution_count": null,
      "outputs": []
    },
    {
      "cell_type": "markdown",
      "source": [
        "3. *Implementar consultas en SQL que respondan con la siguiente información:\n",
        "Cantidad de registros totales por ciudad. Cantidad de registros totales por barrio y ciudad.*"
      ],
      "metadata": {
        "id": "I5LdrwVtQGBW"
      },
      "id": "I5LdrwVtQGBW"
    },
    {
      "cell_type": "code",
      "source": [
        "query1 = 'SELECT COUNT(1) , CouncilArea FROM melbourn GROUP BY CouncilArea '\n",
        "query2 = 'SELECT COUNT(1) ,  Suburb, CouncilArea FROM melbourn GROUP BY Suburb, CouncilArea '\n",
        "\n",
        "queries = [query1, query2]"
      ],
      "metadata": {
        "id": "xiInjSn6Q49O"
      },
      "id": "xiInjSn6Q49O",
      "execution_count": null,
      "outputs": []
    },
    {
      "cell_type": "code",
      "source": [
        "with engine.connect() as con:\n",
        "    for query in queries:\n",
        "      rs = con.execute(query)\n",
        "      print(query)\n",
        "      for row in rs:\n",
        "          print(row)\n",
        "\n",
        "      print('\\n\\n')"
      ],
      "metadata": {
        "id": "NMSnEWcATbcN"
      },
      "id": "NMSnEWcATbcN",
      "execution_count": null,
      "outputs": []
    },
    {
      "cell_type": "markdown",
      "source": [
        "4. *Combinar los datasets de ambas tablas ingestadas utilizando el comando JOIN de SQL para obtener un resultado similar a lo realizado con Pandas en clase.*"
      ],
      "metadata": {
        "id": "cRkBgUsXilX2"
      },
      "id": "cRkBgUsXilX2"
    },
    {
      "cell_type": "code",
      "source": [
        "query3= 'SELECT Suburb, Address, Rooms, Type, Price, Method, SellerG,Date, Distance, Postcode, Bedroom2, Bathroom, Car,  Landsize, BuildingArea, YearBuilt, CouncilArea, Lattitude,  Longtitude, Regionname, Propertycount, zipcode, airbnb_price_mean, airbnb_record_count, airbnb_weekly_price_mean, airbnb_monthly_price_mean FROM melbourn  LEFT JOIN airbnb on melbourn.Postcode=airbnb.zipcode'\n",
        "\n",
        "with engine.connect() as con:\n",
        "      rs = con.execute(query3)\n",
        "      print(query)\n",
        "      for row in rs:\n",
        "          print(row)\n",
        "\n",
        "      print('\\n\\n')\n"
      ],
      "metadata": {
        "id": "RkMDJsVmitss"
      },
      "id": "RkMDJsVmitss",
      "execution_count": null,
      "outputs": []
    },
    {
      "cell_type": "markdown",
      "source": [
        "# Ejercicio 2 Resolución"
      ],
      "metadata": {
        "id": "HtczWTeqk0Zd"
      },
      "id": "HtczWTeqk0Zd"
    },
    {
      "cell_type": "markdown",
      "source": [
        " 1. Seleccionar un subconjunto de columnas que les parezcan relevantes al problema de predicción del valor de la propiedad. Justificar las columnas seleccionadas y las que no lo fueron.\n",
        " \n"
      ],
      "metadata": {
        "id": "CHSMUUeelCBz"
      },
      "id": "CHSMUUeelCBz"
    },
    {
      "cell_type": "markdown",
      "source": [
        "## Eliminar los valores extremos que no sean relevantes para la predicción de valores de las propiedades."
      ],
      "metadata": {
        "id": "waRr366T_RV_"
      },
      "id": "waRr366T_RV_"
    },
    {
      "cell_type": "code",
      "source": [
        "import matplotlib.pyplot as plt\n",
        "import seaborn as sns\n",
        "sns.set_context('talk')\n",
        "import plotly.express as px\n",
        "import numpy\n",
        "import pandas\n",
        "\n",
        "from plotly.offline import download_plotlyjs, init_notebook_mode, plot, iplot\n",
        "init_notebook_mode(connected=True)\n",
        "\n",
        "%matplotlib inline\n",
        "\n",
        "#seteamos visualizacion \n",
        "pandas.options.display.float_format = '{:.2f}'.format\n",
        "pandas.set_option('display.float_format', lambda x: '%.2f' % x)"
      ],
      "metadata": {
        "id": "tzq2nF2-p63Z",
        "colab": {
          "base_uri": "https://localhost:8080/",
          "height": 17
        },
        "outputId": "aecbab56-96fd-4716-9a49-d48d8e7beed9"
      },
      "id": "tzq2nF2-p63Z",
      "execution_count": 59,
      "outputs": [
        {
          "output_type": "display_data",
          "data": {
            "text/html": [
              "        <script type=\"text/javascript\">\n",
              "        window.PlotlyConfig = {MathJaxConfig: 'local'};\n",
              "        if (window.MathJax) {MathJax.Hub.Config({SVG: {font: \"STIX-Web\"}});}\n",
              "        if (typeof require !== 'undefined') {\n",
              "        require.undef(\"plotly\");\n",
              "        requirejs.config({\n",
              "            paths: {\n",
              "                'plotly': ['https://cdn.plot.ly/plotly-2.8.3.min']\n",
              "            }\n",
              "        });\n",
              "        require(['plotly'], function(Plotly) {\n",
              "            window._Plotly = Plotly;\n",
              "        });\n",
              "        }\n",
              "        </script>\n",
              "        "
            ]
          },
          "metadata": {}
        }
      ]
    },
    {
      "cell_type": "markdown",
      "source": [
        "Nos debemos centrar en la tarea de estimar el precio de cada propiedad, para ellos debemos conocer las caracteristicas de las mismas y el primer paso a realizar es una exploración de los datos y las distribuciones de sus variables, concocer si estas variables tienen nulos o valor cero, si esto es esperable o no, a los fines de conocer si son validas o no para ser elegidas para mi data set. Se aclara lo siguiente:\n",
        "\n",
        "|melb_df | Contiene los datos de Melbourn melb_data.csv|\n",
        "|--------|---------------------------------|\n",
        "|airbnb_df | Contiene los datos de Airbnb |\n"
      ],
      "metadata": {
        "id": "npa-kCmZvnN_"
      },
      "id": "npa-kCmZvnN_"
    },
    {
      "cell_type": "code",
      "source": [
        "#melb_df.describe() solo muestra variables numéricas\n",
        "melb_df.info()"
      ],
      "metadata": {
        "id": "SMj30yvA3T5c",
        "colab": {
          "base_uri": "https://localhost:8080/"
        },
        "outputId": "4b8ad69b-5fc4-4611-84c3-fc1138a06c9a"
      },
      "id": "SMj30yvA3T5c",
      "execution_count": 65,
      "outputs": [
        {
          "output_type": "stream",
          "name": "stdout",
          "text": [
            "<class 'pandas.core.frame.DataFrame'>\n",
            "RangeIndex: 13580 entries, 0 to 13579\n",
            "Data columns (total 21 columns):\n",
            " #   Column         Non-Null Count  Dtype  \n",
            "---  ------         --------------  -----  \n",
            " 0   Suburb         13580 non-null  object \n",
            " 1   Address        13580 non-null  object \n",
            " 2   Rooms          13580 non-null  int64  \n",
            " 3   Type           13580 non-null  object \n",
            " 4   Price          13580 non-null  float64\n",
            " 5   Method         13580 non-null  object \n",
            " 6   SellerG        13580 non-null  object \n",
            " 7   Date           13580 non-null  object \n",
            " 8   Distance       13580 non-null  float64\n",
            " 9   Postcode       13580 non-null  float64\n",
            " 10  Bedroom2       13580 non-null  float64\n",
            " 11  Bathroom       13580 non-null  float64\n",
            " 12  Car            13518 non-null  float64\n",
            " 13  Landsize       13580 non-null  float64\n",
            " 14  BuildingArea   7130 non-null   float64\n",
            " 15  YearBuilt      8205 non-null   float64\n",
            " 16  CouncilArea    12211 non-null  object \n",
            " 17  Lattitude      13580 non-null  float64\n",
            " 18  Longtitude     13580 non-null  float64\n",
            " 19  Regionname     13580 non-null  object \n",
            " 20  Propertycount  13580 non-null  float64\n",
            "dtypes: float64(12), int64(1), object(8)\n",
            "memory usage: 2.2+ MB\n"
          ]
        }
      ]
    },
    {
      "cell_type": "markdown",
      "source": [
        "### Valores faltantes\n",
        "Las siguientes variables tienen datos faltantes:\n",
        "\n",
        "\n",
        "*   *YearBuilt*\n",
        "*   *BuildingArea*\n",
        "*   *CouncilArea*\n",
        "*   *Car*\n",
        "\n"
      ],
      "metadata": {
        "id": "rDzdQOe0oeS-"
      },
      "id": "rDzdQOe0oeS-"
    },
    {
      "cell_type": "code",
      "source": [
        "plt.figure(figsize=(25,25))\n",
        "seaborn.displot(\n",
        "    data=melb_df.isna().melt(value_name=\"missing\"),\n",
        "    y=\"variable\",\n",
        "    hue=\"missing\",\n",
        "    palette = \"colorblind\",\n",
        "    multiple=\"fill\",\n",
        "    aspect=1.25\n",
        ")"
      ],
      "metadata": {
        "id": "03uwKZvmnFZq",
        "colab": {
          "base_uri": "https://localhost:8080/",
          "height": 406
        },
        "outputId": "c0e0e668-1c8a-4607-c037-c3db0174563a"
      },
      "id": "03uwKZvmnFZq",
      "execution_count": 66,
      "outputs": [
        {
          "output_type": "execute_result",
          "data": {
            "text/plain": [
              "<seaborn.axisgrid.FacetGrid at 0x7f6518ad3b50>"
            ]
          },
          "metadata": {},
          "execution_count": 66
        },
        {
          "output_type": "display_data",
          "data": {
            "text/plain": [
              "<Figure size 1800x1800 with 0 Axes>"
            ]
          },
          "metadata": {}
        },
        {
          "output_type": "display_data",
          "data": {
            "text/plain": [
              "<Figure size 550.65x360 with 1 Axes>"
            ],
            "image/png": "[encoded data removed]"
          },
          "metadata": {
            "needs_background": "light"
          }
        }
      ]
    },
    {
      "cell_type": "markdown",
      "source": [
        "### Valores cero\n",
        "Vemos  valores 0 en las columnas\n",
        "*  *Bedrooms2* \n",
        "*  *Bathroom* \n",
        "*  *Car* \n",
        "*  *Landsize* \n",
        "*  *BuildingArea*\n"
      ],
      "metadata": {
        "id": "77CD1rp_sdOR"
      },
      "id": "77CD1rp_sdOR"
    },
    {
      "cell_type": "code",
      "source": [
        "min_values = melb_df.describe().loc['min']\n",
        "min_values.sort_values()"
      ],
      "metadata": {
        "colab": {
          "base_uri": "https://localhost:8080/"
        },
        "id": "6_lnqgjIq5bc",
        "outputId": "206454fd-449a-4436-d871-a4c135f004e2"
      },
      "id": "6_lnqgjIq5bc",
      "execution_count": 63,
      "outputs": [
        {
          "output_type": "execute_result",
          "data": {
            "text/plain": [
              "Lattitude         -38.18\n",
              "Distance            0.00\n",
              "Bedroom2            0.00\n",
              "Bathroom            0.00\n",
              "Car                 0.00\n",
              "Landsize            0.00\n",
              "BuildingArea        0.00\n",
              "Rooms               1.00\n",
              "Longtitude        144.43\n",
              "Propertycount     249.00\n",
              "YearBuilt        1196.00\n",
              "Postcode         3000.00\n",
              "Price           85000.00\n",
              "Name: min, dtype: float64"
            ]
          },
          "metadata": {},
          "execution_count": 63
        }
      ]
    },
    {
      "cell_type": "markdown",
      "source": [
        "Estos puede haber sido por causado por una mala recoleccion de datos, o falta de datos.  Recordemos que tenemos 13580 casos, por lo cual hay variables con una cantidad muy chica de ceros, y otras con una cantidad importante. La pregunta a responder es: Son estos ceros valores posibles de la variable o datos faltantes codificados asi?.*\n",
        "\n",
        "*Parece que hay variables con valores faltantes, que han sido reconocidos por pandas como NaN, y valores 0 que podrían ser tambien datos faltantes.*\n",
        "\n",
        "\n",
        "*En esta muestra vemos las variables Landsize, BuildingArea, YearBuilt. con problemas potenciales*\n",
        "\n",
        "*Landsize tiene valores 0.*\n",
        "\n",
        "*BuildingArea y YearBuilt tienen NaN*"
      ],
      "metadata": {
        "id": "kL5lUxwCqgpp"
      },
      "id": "kL5lUxwCqgpp"
    },
    {
      "cell_type": "code",
      "source": [
        "cols = melb_df[melb_df == 0].count(axis=0)\n",
        "ds = cols[cols > 0]\n",
        "ds"
      ],
      "metadata": {
        "colab": {
          "base_uri": "https://localhost:8080/"
        },
        "id": "7FqQ_MlcrlEB",
        "outputId": "845ee762-50f7-46a5-a3fa-2a5d771e2fb3"
      },
      "id": "7FqQ_MlcrlEB",
      "execution_count": 9,
      "outputs": [
        {
          "output_type": "execute_result",
          "data": {
            "text/plain": [
              "Distance           6\n",
              "Bedroom2          16\n",
              "Bathroom          34\n",
              "Car             1026\n",
              "Landsize        1939\n",
              "BuildingArea      17\n",
              "dtype: int64"
            ]
          },
          "metadata": {},
          "execution_count": 9
        }
      ]
    },
    {
      "cell_type": "markdown",
      "source": [
        "\n",
        "---\n",
        "### Selección de variables continuas\n",
        "Para seleccionar las variables que nos permitan predecir el precio de una propiedad, calculamos la matriz de correlación y fijamos la columna `Price`. Removemos columnas que no son numéricas en naturaleza: `Lattitude`, `Longitude`, `Postcode`\n",
        "\n",
        "\n"
      ],
      "metadata": {
        "id": "lEnmgh1-u8w3"
      },
      "id": "lEnmgh1-u8w3"
    },
    {
      "cell_type": "code",
      "source": [
        "melb_df.corr()['Price'].drop(['Lattitude', 'Longtitude', 'Postcode', 'Price'], inplace= False).sort_values()"
      ],
      "metadata": {
        "colab": {
          "base_uri": "https://localhost:8080/"
        },
        "id": "JtWYhh5nLPPK",
        "outputId": "be400d19-d5c5-4c11-b3c0-4e15a9448adf"
      },
      "id": "JtWYhh5nLPPK",
      "execution_count": 67,
      "outputs": [
        {
          "output_type": "execute_result",
          "data": {
            "text/plain": [
              "YearBuilt       -0.32\n",
              "Distance        -0.16\n",
              "Propertycount   -0.04\n",
              "Landsize         0.04\n",
              "BuildingArea     0.09\n",
              "Car              0.24\n",
              "Bathroom         0.47\n",
              "Bedroom2         0.48\n",
              "Rooms            0.50\n",
              "Name: Price, dtype: float64"
            ]
          },
          "metadata": {},
          "execution_count": 67
        }
      ]
    },
    {
      "cell_type": "markdown",
      "source": [
        "Vemos que la cantidad de habitaciones y baños (`Rooms`, `Bedroom2`, `Bathroom`) parecen ser los mejores predictores de precio. A su vez, la antiguedad de la construcción influye negativamente en el valor de una propiedad, y tanto la cantidad de propiedades en el suburbio (`Propertycount`) como el tamaño de la propiedad (`Landsize`) y la superficie construida (`BuildingArea`) parecen tener poca correlación con el precio. Finalmente, la correlación entre el precio y la variable `Distance` parece no ser tan fuerte (hay un 'indicio' en que los precios caen a medida que la distancia al centro de la ciudad aumenta). Esta última variable no será incluida ya que puede ser cubierta por "
      ],
      "metadata": {
        "id": "EshRM0n1lSSg"
      },
      "id": "EshRM0n1lSSg"
    },
    {
      "cell_type": "code",
      "source": [
        "relevant_cont_vars = ['Bedroom2', 'Rooms', 'Bathroom', 'YearBuilt', 'Car']"
      ],
      "metadata": {
        "id": "SPcNs08NSnlM"
      },
      "id": "SPcNs08NSnlM",
      "execution_count": 68,
      "outputs": []
    },
    {
      "cell_type": "markdown",
      "source": [
        "### Selección de variables categóricas\n",
        "En cuanto a las variables categóricas, vamos a comenzar eliminando las siguientes columnas\n",
        "\n",
        "* `SellerG` (vendedor)\n",
        "* `Date` (fecha de la transaccion)\n",
        "* `Address` (dirección de la propiedad). En este caso particular, consideramos que esta información ya está presente en las columnas `Suburb`, `CouncilArea` y `Regionname`"
      ],
      "metadata": {
        "id": "8p7pw_X3QHye"
      },
      "id": "8p7pw_X3QHye"
    },
    {
      "cell_type": "code",
      "source": [
        "categorical_vars = melb_df.select_dtypes(include=['object']).columns.values\n",
        "categorical_vars"
      ],
      "metadata": {
        "id": "wNxm3C-xPxOV",
        "colab": {
          "base_uri": "https://localhost:8080/"
        },
        "outputId": "4064d3a8-2315-44d2-a5af-3db842ed3570"
      },
      "id": "wNxm3C-xPxOV",
      "execution_count": 69,
      "outputs": [
        {
          "output_type": "execute_result",
          "data": {
            "text/plain": [
              "array(['Suburb', 'Address', 'Type', 'Method', 'SellerG', 'Date',\n",
              "       'CouncilArea', 'Regionname'], dtype=object)"
            ]
          },
          "metadata": {},
          "execution_count": 69
        }
      ]
    },
    {
      "cell_type": "code",
      "source": [
        "categorical_df = melb_df[categorical_vars]\n",
        "categorical_df.nunique()"
      ],
      "metadata": {
        "colab": {
          "base_uri": "https://localhost:8080/"
        },
        "id": "5rMTUQpPQQW2",
        "outputId": "ea440ca5-8076-4ba3-9ef3-a1521cefa1c5"
      },
      "id": "5rMTUQpPQQW2",
      "execution_count": 70,
      "outputs": [
        {
          "output_type": "execute_result",
          "data": {
            "text/plain": [
              "Suburb           314\n",
              "Address        13378\n",
              "Type               3\n",
              "Method             5\n",
              "SellerG          268\n",
              "Date              58\n",
              "CouncilArea       33\n",
              "Regionname         8\n",
              "dtype: int64"
            ]
          },
          "metadata": {},
          "execution_count": 70
        }
      ]
    },
    {
      "cell_type": "code",
      "source": [
        "prop_type = {'u': 'Unidad (u)', 'h': 'Hotel (h)', 't': 'Townhouse(t)'}\n",
        "vs = { prop_type[tipo] : melb_df[melb_df['Type'] == tipo].Price.mean() for tipo in categorical_df.Type.unique()}\n",
        "sorted(vs.items(), key = lambda m: m[1], reverse= True)\n",
        "  "
      ],
      "metadata": {
        "colab": {
          "base_uri": "https://localhost:8080/"
        },
        "id": "qy14svbTT2uH",
        "outputId": "990a99e8-3308-4fc1-86e0-c92403d869da"
      },
      "id": "qy14svbTT2uH",
      "execution_count": 71,
      "outputs": [
        {
          "output_type": "execute_result",
          "data": {
            "text/plain": [
              "[('Hotel (h)', 1242664.761138745),\n",
              " ('Townhouse(t)', 933735.0538599641),\n",
              " ('Unidad (u)', 605127.4845873384)]"
            ]
          },
          "metadata": {},
          "execution_count": 71
        }
      ]
    },
    {
      "cell_type": "code",
      "source": [
        "melb_df.Type.value_counts()"
      ],
      "metadata": {
        "colab": {
          "base_uri": "https://localhost:8080/"
        },
        "id": "lqewFp6xlXXg",
        "outputId": "c322879e-7b46-48be-c0d7-bd5283639e0c"
      },
      "id": "lqewFp6xlXXg",
      "execution_count": 15,
      "outputs": [
        {
          "output_type": "execute_result",
          "data": {
            "text/plain": [
              "h    9449\n",
              "u    3017\n",
              "t    1114\n",
              "Name: Type, dtype: int64"
            ]
          },
          "metadata": {},
          "execution_count": 15
        }
      ]
    },
    {
      "cell_type": "markdown",
      "source": [
        "Utilizando la media, podemos ver el tipo de propiedad afecta el precio de los inmuebles.  Con el siguiente gráfico verificamos que la media y la mediana no son (muy) distintas"
      ],
      "metadata": {
        "id": "pjY1OsdMWYRl"
      },
      "id": "pjY1OsdMWYRl"
    },
    {
      "cell_type": "code",
      "source": [
        "plt.figure(figsize=(15,10))\n",
        "plt.title('Precio de propiedad según el tipo')\n",
        "seaborn.boxplot(x=\"Type\", y=\"Price\",  data=melb_df, showmeans=True, meanprops={\"marker\":\".\",\n",
        "                       \"markerfacecolor\":\"white\", \n",
        "                       \"markeredgecolor\":\"black\",\n",
        "                      \"markersize\":\"10\"})"
      ],
      "metadata": {
        "colab": {
          "base_uri": "https://localhost:8080/",
          "height": 666
        },
        "outputId": "a8ff4d4c-194b-4918-be22-1eb51ec1f6da",
        "id": "qyWv5ScXVrPU"
      },
      "execution_count": 16,
      "outputs": [
        {
          "output_type": "execute_result",
          "data": {
            "text/plain": [
              "<matplotlib.axes._subplots.AxesSubplot at 0x7f651d3d3fd0>"
            ]
          },
          "metadata": {},
          "execution_count": 16
        },
        {
          "output_type": "display_data",
          "data": {
            "text/plain": [
              "<Figure size 1080x720 with 1 Axes>"
            ],
            "image/png": "[encoded data removed]"
          },
          "metadata": {
            "needs_background": "light"
          }
        }
      ],
      "id": "qyWv5ScXVrPU"
    },
    {
      "cell_type": "markdown",
      "source": [
        "Respecto a la región (`Regionname`), vemos que también afecta al precio, aunque notamos que la cantidad de observaciones para esta variable no se encuentra balanceada"
      ],
      "metadata": {
        "id": "P6T8xFn9dABA"
      },
      "id": "P6T8xFn9dABA"
    },
    {
      "cell_type": "code",
      "source": [
        "categorical_df.Regionname.value_counts()"
      ],
      "metadata": {
        "colab": {
          "base_uri": "https://localhost:8080/"
        },
        "id": "ZJ3y0SvXS15Y",
        "outputId": "5216d68c-d7cb-4f3d-eb35-da57d00d6d8b"
      },
      "id": "ZJ3y0SvXS15Y",
      "execution_count": 17,
      "outputs": [
        {
          "output_type": "execute_result",
          "data": {
            "text/plain": [
              "Southern Metropolitan         4695\n",
              "Northern Metropolitan         3890\n",
              "Western Metropolitan          2948\n",
              "Eastern Metropolitan          1471\n",
              "South-Eastern Metropolitan     450\n",
              "Eastern Victoria                53\n",
              "Northern Victoria               41\n",
              "Western Victoria                32\n",
              "Name: Regionname, dtype: int64"
            ]
          },
          "metadata": {},
          "execution_count": 17
        }
      ]
    },
    {
      "cell_type": "markdown",
      "source": [
        "Para aquellas regiones con pocas observaciones (aquellas regiones alejadas del centro), podemos ver que tanto la media como la mediana del precio tienen valores mas bajos"
      ],
      "metadata": {
        "id": "Z-cxcwLAoN6v"
      },
      "id": "Z-cxcwLAoN6v"
    },
    {
      "cell_type": "code",
      "source": [
        "melb_df.groupby('Regionname')['Price'].agg(['mean', 'median','count']).sort_values(by='mean', ascending=False)"
      ],
      "metadata": {
        "colab": {
          "base_uri": "https://localhost:8080/",
          "height": 332
        },
        "id": "l-bhK_xea-0b",
        "outputId": "9a67071c-fdee-4ee6-cfad-b900503fd8ae"
      },
      "id": "l-bhK_xea-0b",
      "execution_count": 18,
      "outputs": [
        {
          "output_type": "execute_result",
          "data": {
            "text/plain": [
              "                                 mean     median  count\n",
              "Regionname                                             \n",
              "Southern Metropolitan      1372963.37 1250000.00   4695\n",
              "Eastern Metropolitan       1104079.63 1010000.00   1471\n",
              "South-Eastern Metropolitan  922943.78  850000.00    450\n",
              "Northern Metropolitan       898171.08  806250.00   3890\n",
              "Western Metropolitan        866420.52  793000.00   2948\n",
              "Eastern Victoria            699980.79  670000.00     53\n",
              "Northern Victoria           594829.27  540000.00     41\n",
              "Western Victoria            397523.44  400000.00     32"
            ],
            "text/html": [
              "\n",
              "  <div id=\"df-958e8994-6690-49eb-a1bc-90e690cec0ca\">\n",
              "    <div class=\"colab-df-container\">\n",
              "      <div>\n",
              "<style scoped>\n",
              "    .dataframe tbody tr th:only-of-type {\n",
              "        vertical-align: middle;\n",
              "    }\n",
              "\n",
              "    .dataframe tbody tr th {\n",
              "        vertical-align: top;\n",
              "    }\n",
              "\n",
              "    .dataframe thead th {\n",
              "        text-align: right;\n",
              "    }\n",
              "</style>\n",
              "<table border=\"1\" class=\"dataframe\">\n",
              "  <thead>\n",
              "    <tr style=\"text-align: right;\">\n",
              "      <th></th>\n",
              "      <th>mean</th>\n",
              "      <th>median</th>\n",
              "      <th>count</th>\n",
              "    </tr>\n",
              "    <tr>\n",
              "      <th>Regionname</th>\n",
              "      <th></th>\n",
              "      <th></th>\n",
              "      <th></th>\n",
              "    </tr>\n",
              "  </thead>\n",
              "  <tbody>\n",
              "    <tr>\n",
              "      <th>Southern Metropolitan</th>\n",
              "      <td>1372963.37</td>\n",
              "      <td>1250000.00</td>\n",
              "      <td>4695</td>\n",
              "    </tr>\n",
              "    <tr>\n",
              "      <th>Eastern Metropolitan</th>\n",
              "      <td>1104079.63</td>\n",
              "      <td>1010000.00</td>\n",
              "      <td>1471</td>\n",
              "    </tr>\n",
              "    <tr>\n",
              "      <th>South-Eastern Metropolitan</th>\n",
              "      <td>922943.78</td>\n",
              "      <td>850000.00</td>\n",
              "      <td>450</td>\n",
              "    </tr>\n",
              "    <tr>\n",
              "      <th>Northern Metropolitan</th>\n",
              "      <td>898171.08</td>\n",
              "      <td>806250.00</td>\n",
              "      <td>3890</td>\n",
              "    </tr>\n",
              "    <tr>\n",
              "      <th>Western Metropolitan</th>\n",
              "      <td>866420.52</td>\n",
              "      <td>793000.00</td>\n",
              "      <td>2948</td>\n",
              "    </tr>\n",
              "    <tr>\n",
              "      <th>Eastern Victoria</th>\n",
              "      <td>699980.79</td>\n",
              "      <td>670000.00</td>\n",
              "      <td>53</td>\n",
              "    </tr>\n",
              "    <tr>\n",
              "      <th>Northern Victoria</th>\n",
              "      <td>594829.27</td>\n",
              "      <td>540000.00</td>\n",
              "      <td>41</td>\n",
              "    </tr>\n",
              "    <tr>\n",
              "      <th>Western Victoria</th>\n",
              "      <td>397523.44</td>\n",
              "      <td>400000.00</td>\n",
              "      <td>32</td>\n",
              "    </tr>\n",
              "  </tbody>\n",
              "</table>\n",
              "</div>\n",
              "      <button class=\"colab-df-convert\" onclick=\"convertToInteractive('df-958e8994-6690-49eb-a1bc-90e690cec0ca')\"\n",
              "              title=\"Convert this dataframe to an interactive table.\"\n",
              "              style=\"display:none;\">\n",
              "        \n",
              "  <svg xmlns=\"http://www.w3.org/2000/svg\" height=\"24px\"viewBox=\"0 0 24 24\"\n",
              "       width=\"24px\">\n",
              "    <path d=\"M0 0h24v24H0V0z\" fill=\"none\"/>\n",
              "    <path d=\"M18.56 5.44l.94 2.06.94-2.06 2.06-.94-2.06-.94-.94-2.06-.94 2.06-2.06.94zm-11 1L8.5 8.5l.94-2.06 2.06-.94-2.06-.94L8.5 2.5l-.94 2.06-2.06.94zm10 10l.94 2.06.94-2.06 2.06-.94-2.06-.94-.94-2.06-.94 2.06-2.06.94z\"/><path d=\"M17.41 7.96l-1.37-1.37c-.4-.4-.92-.59-1.43-.59-.52 0-1.04.2-1.43.59L10.3 9.45l-7.72 7.72c-.78.78-.78 2.05 0 2.83L4 21.41c.39.39.9.59 1.41.59.51 0 1.02-.2 1.41-.59l7.78-7.78 2.81-2.81c.8-.78.8-2.07 0-2.86zM5.41 20L4 18.59l7.72-7.72 1.47 1.35L5.41 20z\"/>\n",
              "  </svg>\n",
              "      </button>\n",
              "      \n",
              "  <style>\n",
              "    .colab-df-container {\n",
              "      display:flex;\n",
              "      flex-wrap:wrap;\n",
              "      gap: 12px;\n",
              "    }\n",
              "\n",
              "    .colab-df-convert {\n",
              "      background-color: #E8F0FE;\n",
              "      border: none;\n",
              "      border-radius: 50%;\n",
              "      cursor: pointer;\n",
              "      display: none;\n",
              "      fill: #1967D2;\n",
              "      height: 32px;\n",
              "      padding: 0 0 0 0;\n",
              "      width: 32px;\n",
              "    }\n",
              "\n",
              "    .colab-df-convert:hover {\n",
              "      background-color: #E2EBFA;\n",
              "      box-shadow: 0px 1px 2px rgba(60, 64, 67, 0.3), 0px 1px 3px 1px rgba(60, 64, 67, 0.15);\n",
              "      fill: #174EA6;\n",
              "    }\n",
              "\n",
              "    [theme=dark] .colab-df-convert {\n",
              "      background-color: #3B4455;\n",
              "      fill: #D2E3FC;\n",
              "    }\n",
              "\n",
              "    [theme=dark] .colab-df-convert:hover {\n",
              "      background-color: #434B5C;\n",
              "      box-shadow: 0px 1px 3px 1px rgba(0, 0, 0, 0.15);\n",
              "      filter: drop-shadow(0px 1px 2px rgba(0, 0, 0, 0.3));\n",
              "      fill: #FFFFFF;\n",
              "    }\n",
              "  </style>\n",
              "\n",
              "      <script>\n",
              "        const buttonEl =\n",
              "          document.querySelector('#df-958e8994-6690-49eb-a1bc-90e690cec0ca button.colab-df-convert');\n",
              "        buttonEl.style.display =\n",
              "          google.colab.kernel.accessAllowed ? 'block' : 'none';\n",
              "\n",
              "        async function convertToInteractive(key) {\n",
              "          const element = document.querySelector('#df-958e8994-6690-49eb-a1bc-90e690cec0ca');\n",
              "          const dataTable =\n",
              "            await google.colab.kernel.invokeFunction('convertToInteractive',\n",
              "                                                     [key], {});\n",
              "          if (!dataTable) return;\n",
              "\n",
              "          const docLinkHtml = 'Like what you see? Visit the ' +\n",
              "            '<a target=\"_blank\" href=https://colab.research.google.com/notebooks/data_table.ipynb>data table notebook</a>'\n",
              "            + ' to learn more about interactive tables.';\n",
              "          element.innerHTML = '';\n",
              "          dataTable['output_type'] = 'display_data';\n",
              "          await google.colab.output.renderOutput(dataTable, element);\n",
              "          const docLink = document.createElement('div');\n",
              "          docLink.innerHTML = docLinkHtml;\n",
              "          element.appendChild(docLink);\n",
              "        }\n",
              "      </script>\n",
              "    </div>\n",
              "  </div>\n",
              "  "
            ]
          },
          "metadata": {},
          "execution_count": 18
        }
      ]
    },
    {
      "cell_type": "code",
      "source": [
        "plt.figure(figsize=(25,10))\n",
        "plt.title('Precio de propiedad según Región')\n",
        "bp = seaborn.boxplot(x=\"Regionname\", y=\"Price\",  data=melb_df, showmeans=True, meanprops={\"marker\":\".\",\n",
        "                       \"markerfacecolor\":\"white\", \n",
        "                       \"markeredgecolor\":\"black\",\n",
        "                      \"markersize\":\"10\"})\n",
        "\n",
        "bp.set_xticklabels(bp.get_xticklabels(), rotation=45)\n",
        "pass"
      ],
      "metadata": {
        "colab": {
          "base_uri": "https://localhost:8080/",
          "height": 573
        },
        "id": "rGuGWCWYaM0B",
        "outputId": "80c7ebf4-0656-4649-cd77-90ba493b5060"
      },
      "id": "rGuGWCWYaM0B",
      "execution_count": 19,
      "outputs": [
        {
          "output_type": "display_data",
          "data": {
            "text/plain": [
              "<Figure size 1800x720 with 1 Axes>"
            ],
            "image/png": "[encoded data removed]"
          },
          "metadata": {
            "needs_background": "light"
          }
        }
      ]
    },
    {
      "cell_type": "markdown",
      "source": [
        "En cuanto al suburbio (`Suburb`), debido a la gran cantidad de valores distintos (superior a 300) se decidió agregar una nueva variable, que categorice al suburbio según el valor medio de las propiedades que contiene"
      ],
      "metadata": {
        "id": "-_YWzVjDtQRE"
      },
      "id": "-_YWzVjDtQRE"
    },
    {
      "cell_type": "code",
      "source": [
        "grouped_by_suburb = melb_df.groupby('Suburb')['Price'].agg(['mean']).sort_values(by='mean', ascending=False).rename(columns = {'mean': 'mean_price'}, inplace = False)\n",
        "\n",
        "type(grouped_by_suburb)\n",
        "grouped_by_suburb[['mean_price']]\n",
        "\n"
      ],
      "metadata": {
        "colab": {
          "base_uri": "https://localhost:8080/",
          "height": 455
        },
        "id": "EdlkCeOwtoYr",
        "outputId": "b7a497b0-84e8-459d-de90-f64f9ca61ce7"
      },
      "id": "EdlkCeOwtoYr",
      "execution_count": 20,
      "outputs": [
        {
          "output_type": "execute_result",
          "data": {
            "text/plain": [
              "               mean_price\n",
              "Suburb                   \n",
              "Kooyong        2185000.00\n",
              "Canterbury     2180240.74\n",
              "Middle Park    2082529.41\n",
              "Albert Park    1941355.07\n",
              "Brighton       1930158.00\n",
              "...                   ...\n",
              "Melton South    380736.11\n",
              "Wallan          366000.00\n",
              "Kurunjang       353000.00\n",
              "Rockbank        340000.00\n",
              "Bacchus Marsh   285000.00\n",
              "\n",
              "[314 rows x 1 columns]"
            ],
            "text/html": [
              "\n",
              "  <div id=\"df-7347c37b-1923-40d7-a4ae-1ada09f3c4ec\">\n",
              "    <div class=\"colab-df-container\">\n",
              "      <div>\n",
              "<style scoped>\n",
              "    .dataframe tbody tr th:only-of-type {\n",
              "        vertical-align: middle;\n",
              "    }\n",
              "\n",
              "    .dataframe tbody tr th {\n",
              "        vertical-align: top;\n",
              "    }\n",
              "\n",
              "    .dataframe thead th {\n",
              "        text-align: right;\n",
              "    }\n",
              "</style>\n",
              "<table border=\"1\" class=\"dataframe\">\n",
              "  <thead>\n",
              "    <tr style=\"text-align: right;\">\n",
              "      <th></th>\n",
              "      <th>mean_price</th>\n",
              "    </tr>\n",
              "    <tr>\n",
              "      <th>Suburb</th>\n",
              "      <th></th>\n",
              "    </tr>\n",
              "  </thead>\n",
              "  <tbody>\n",
              "    <tr>\n",
              "      <th>Kooyong</th>\n",
              "      <td>2185000.00</td>\n",
              "    </tr>\n",
              "    <tr>\n",
              "      <th>Canterbury</th>\n",
              "      <td>2180240.74</td>\n",
              "    </tr>\n",
              "    <tr>\n",
              "      <th>Middle Park</th>\n",
              "      <td>2082529.41</td>\n",
              "    </tr>\n",
              "    <tr>\n",
              "      <th>Albert Park</th>\n",
              "      <td>1941355.07</td>\n",
              "    </tr>\n",
              "    <tr>\n",
              "      <th>Brighton</th>\n",
              "      <td>1930158.00</td>\n",
              "    </tr>\n",
              "    <tr>\n",
              "      <th>...</th>\n",
              "      <td>...</td>\n",
              "    </tr>\n",
              "    <tr>\n",
              "      <th>Melton South</th>\n",
              "      <td>380736.11</td>\n",
              "    </tr>\n",
              "    <tr>\n",
              "      <th>Wallan</th>\n",
              "      <td>366000.00</td>\n",
              "    </tr>\n",
              "    <tr>\n",
              "      <th>Kurunjang</th>\n",
              "      <td>353000.00</td>\n",
              "    </tr>\n",
              "    <tr>\n",
              "      <th>Rockbank</th>\n",
              "      <td>340000.00</td>\n",
              "    </tr>\n",
              "    <tr>\n",
              "      <th>Bacchus Marsh</th>\n",
              "      <td>285000.00</td>\n",
              "    </tr>\n",
              "  </tbody>\n",
              "</table>\n",
              "<p>314 rows × 1 columns</p>\n",
              "</div>\n",
              "      <button class=\"colab-df-convert\" onclick=\"convertToInteractive('df-7347c37b-1923-40d7-a4ae-1ada09f3c4ec')\"\n",
              "              title=\"Convert this dataframe to an interactive table.\"\n",
              "              style=\"display:none;\">\n",
              "        \n",
              "  <svg xmlns=\"http://www.w3.org/2000/svg\" height=\"24px\"viewBox=\"0 0 24 24\"\n",
              "       width=\"24px\">\n",
              "    <path d=\"M0 0h24v24H0V0z\" fill=\"none\"/>\n",
              "    <path d=\"M18.56 5.44l.94 2.06.94-2.06 2.06-.94-2.06-.94-.94-2.06-.94 2.06-2.06.94zm-11 1L8.5 8.5l.94-2.06 2.06-.94-2.06-.94L8.5 2.5l-.94 2.06-2.06.94zm10 10l.94 2.06.94-2.06 2.06-.94-2.06-.94-.94-2.06-.94 2.06-2.06.94z\"/><path d=\"M17.41 7.96l-1.37-1.37c-.4-.4-.92-.59-1.43-.59-.52 0-1.04.2-1.43.59L10.3 9.45l-7.72 7.72c-.78.78-.78 2.05 0 2.83L4 21.41c.39.39.9.59 1.41.59.51 0 1.02-.2 1.41-.59l7.78-7.78 2.81-2.81c.8-.78.8-2.07 0-2.86zM5.41 20L4 18.59l7.72-7.72 1.47 1.35L5.41 20z\"/>\n",
              "  </svg>\n",
              "      </button>\n",
              "      \n",
              "  <style>\n",
              "    .colab-df-container {\n",
              "      display:flex;\n",
              "      flex-wrap:wrap;\n",
              "      gap: 12px;\n",
              "    }\n",
              "\n",
              "    .colab-df-convert {\n",
              "      background-color: #E8F0FE;\n",
              "      border: none;\n",
              "      border-radius: 50%;\n",
              "      cursor: pointer;\n",
              "      display: none;\n",
              "      fill: #1967D2;\n",
              "      height: 32px;\n",
              "      padding: 0 0 0 0;\n",
              "      width: 32px;\n",
              "    }\n",
              "\n",
              "    .colab-df-convert:hover {\n",
              "      background-color: #E2EBFA;\n",
              "      box-shadow: 0px 1px 2px rgba(60, 64, 67, 0.3), 0px 1px 3px 1px rgba(60, 64, 67, 0.15);\n",
              "      fill: #174EA6;\n",
              "    }\n",
              "\n",
              "    [theme=dark] .colab-df-convert {\n",
              "      background-color: #3B4455;\n",
              "      fill: #D2E3FC;\n",
              "    }\n",
              "\n",
              "    [theme=dark] .colab-df-convert:hover {\n",
              "      background-color: #434B5C;\n",
              "      box-shadow: 0px 1px 3px 1px rgba(0, 0, 0, 0.15);\n",
              "      filter: drop-shadow(0px 1px 2px rgba(0, 0, 0, 0.3));\n",
              "      fill: #FFFFFF;\n",
              "    }\n",
              "  </style>\n",
              "\n",
              "      <script>\n",
              "        const buttonEl =\n",
              "          document.querySelector('#df-7347c37b-1923-40d7-a4ae-1ada09f3c4ec button.colab-df-convert');\n",
              "        buttonEl.style.display =\n",
              "          google.colab.kernel.accessAllowed ? 'block' : 'none';\n",
              "\n",
              "        async function convertToInteractive(key) {\n",
              "          const element = document.querySelector('#df-7347c37b-1923-40d7-a4ae-1ada09f3c4ec');\n",
              "          const dataTable =\n",
              "            await google.colab.kernel.invokeFunction('convertToInteractive',\n",
              "                                                     [key], {});\n",
              "          if (!dataTable) return;\n",
              "\n",
              "          const docLinkHtml = 'Like what you see? Visit the ' +\n",
              "            '<a target=\"_blank\" href=https://colab.research.google.com/notebooks/data_table.ipynb>data table notebook</a>'\n",
              "            + ' to learn more about interactive tables.';\n",
              "          element.innerHTML = '';\n",
              "          dataTable['output_type'] = 'display_data';\n",
              "          await google.colab.output.renderOutput(dataTable, element);\n",
              "          const docLink = document.createElement('div');\n",
              "          docLink.innerHTML = docLinkHtml;\n",
              "          element.appendChild(docLink);\n",
              "        }\n",
              "      </script>\n",
              "    </div>\n",
              "  </div>\n",
              "  "
            ]
          },
          "metadata": {},
          "execution_count": 20
        }
      ]
    },
    {
      "cell_type": "markdown",
      "source": [
        "Para realizar la categorización dividimos el espectro de precios medios en diez intervalos, y le asignamos un número a cada suburbio"
      ],
      "metadata": {
        "id": "cgdr8oOLthst"
      },
      "id": "cgdr8oOLthst"
    },
    {
      "cell_type": "code",
      "source": [
        "\n",
        "# Fijamos las categorias a partir de los valores medios\n",
        "max_price, min_price = grouped_by_suburb.mean_price.max(), grouped_by_suburb.mean_price.min()\n",
        "n_suburb_classes = 10\n",
        "bucket_width = (max_price - min_price) / n_suburb_classes\n",
        "\n",
        "# Esto es puramente ilustrativo, para mostrar los límites de los intervalos\n",
        "[min_price + bucket_width * n for n in range(11)]"
      ],
      "metadata": {
        "colab": {
          "base_uri": "https://localhost:8080/"
        },
        "id": "xvbD05IQtw4r",
        "outputId": "af04468f-be44-451d-ff19-205e6aab739e"
      },
      "id": "xvbD05IQtw4r",
      "execution_count": 21,
      "outputs": [
        {
          "output_type": "execute_result",
          "data": {
            "text/plain": [
              "[285000.0,\n",
              " 475000.0,\n",
              " 665000.0,\n",
              " 855000.0,\n",
              " 1045000.0,\n",
              " 1235000.0,\n",
              " 1425000.0,\n",
              " 1615000.0,\n",
              " 1805000.0,\n",
              " 1995000.0,\n",
              " 2185000.0]"
            ]
          },
          "metadata": {},
          "execution_count": 21
        }
      ]
    },
    {
      "cell_type": "code",
      "source": [
        "def assign_suburb_class(e, value):\n",
        "  \"\"\"\n",
        "  Return a suburb class. Lower is cheaper\n",
        "  \"\"\"\n",
        "  v = (value(e) - min_price) // bucket_width\n",
        "  return \"S_{}\".format(int(v))\n",
        "\n",
        "\n",
        "grouped_by_suburb['Suburb_cat'] = grouped_by_suburb.apply(assign_suburb_class, axis = 1, args = [lambda g: (g.mean_price)])\n",
        "\n",
        "\n",
        "print(f\"width: {bucket_width}, min: {min_price} top: {max_price}\")\n",
        "\n",
        "\n",
        "# drop the mean price, it's no longer useful\n",
        "grouped_by_suburb.drop (columns=['mean_price'], inplace = True)\n",
        "grouped_by_suburb"
      ],
      "metadata": {
        "colab": {
          "base_uri": "https://localhost:8080/",
          "height": 474
        },
        "id": "gbYsLmLfPDZQ",
        "outputId": "5e8ec85d-7eb7-483e-fbc4-56990c8d70d2"
      },
      "id": "gbYsLmLfPDZQ",
      "execution_count": 22,
      "outputs": [
        {
          "output_type": "stream",
          "name": "stdout",
          "text": [
            "width: 190000.0, min: 285000.0 top: 2185000.0\n"
          ]
        },
        {
          "output_type": "execute_result",
          "data": {
            "text/plain": [
              "              Suburb_cat\n",
              "Suburb                  \n",
              "Kooyong             S_10\n",
              "Canterbury           S_9\n",
              "Middle Park          S_9\n",
              "Albert Park          S_8\n",
              "Brighton             S_8\n",
              "...                  ...\n",
              "Melton South         S_0\n",
              "Wallan               S_0\n",
              "Kurunjang            S_0\n",
              "Rockbank             S_0\n",
              "Bacchus Marsh        S_0\n",
              "\n",
              "[314 rows x 1 columns]"
            ],
            "text/html": [
              "\n",
              "  <div id=\"df-0a525e36-9e01-489b-ae79-092ef0292c33\">\n",
              "    <div class=\"colab-df-container\">\n",
              "      <div>\n",
              "<style scoped>\n",
              "    .dataframe tbody tr th:only-of-type {\n",
              "        vertical-align: middle;\n",
              "    }\n",
              "\n",
              "    .dataframe tbody tr th {\n",
              "        vertical-align: top;\n",
              "    }\n",
              "\n",
              "    .dataframe thead th {\n",
              "        text-align: right;\n",
              "    }\n",
              "</style>\n",
              "<table border=\"1\" class=\"dataframe\">\n",
              "  <thead>\n",
              "    <tr style=\"text-align: right;\">\n",
              "      <th></th>\n",
              "      <th>Suburb_cat</th>\n",
              "    </tr>\n",
              "    <tr>\n",
              "      <th>Suburb</th>\n",
              "      <th></th>\n",
              "    </tr>\n",
              "  </thead>\n",
              "  <tbody>\n",
              "    <tr>\n",
              "      <th>Kooyong</th>\n",
              "      <td>S_10</td>\n",
              "    </tr>\n",
              "    <tr>\n",
              "      <th>Canterbury</th>\n",
              "      <td>S_9</td>\n",
              "    </tr>\n",
              "    <tr>\n",
              "      <th>Middle Park</th>\n",
              "      <td>S_9</td>\n",
              "    </tr>\n",
              "    <tr>\n",
              "      <th>Albert Park</th>\n",
              "      <td>S_8</td>\n",
              "    </tr>\n",
              "    <tr>\n",
              "      <th>Brighton</th>\n",
              "      <td>S_8</td>\n",
              "    </tr>\n",
              "    <tr>\n",
              "      <th>...</th>\n",
              "      <td>...</td>\n",
              "    </tr>\n",
              "    <tr>\n",
              "      <th>Melton South</th>\n",
              "      <td>S_0</td>\n",
              "    </tr>\n",
              "    <tr>\n",
              "      <th>Wallan</th>\n",
              "      <td>S_0</td>\n",
              "    </tr>\n",
              "    <tr>\n",
              "      <th>Kurunjang</th>\n",
              "      <td>S_0</td>\n",
              "    </tr>\n",
              "    <tr>\n",
              "      <th>Rockbank</th>\n",
              "      <td>S_0</td>\n",
              "    </tr>\n",
              "    <tr>\n",
              "      <th>Bacchus Marsh</th>\n",
              "      <td>S_0</td>\n",
              "    </tr>\n",
              "  </tbody>\n",
              "</table>\n",
              "<p>314 rows × 1 columns</p>\n",
              "</div>\n",
              "      <button class=\"colab-df-convert\" onclick=\"convertToInteractive('df-0a525e36-9e01-489b-ae79-092ef0292c33')\"\n",
              "              title=\"Convert this dataframe to an interactive table.\"\n",
              "              style=\"display:none;\">\n",
              "        \n",
              "  <svg xmlns=\"http://www.w3.org/2000/svg\" height=\"24px\"viewBox=\"0 0 24 24\"\n",
              "       width=\"24px\">\n",
              "    <path d=\"M0 0h24v24H0V0z\" fill=\"none\"/>\n",
              "    <path d=\"M18.56 5.44l.94 2.06.94-2.06 2.06-.94-2.06-.94-.94-2.06-.94 2.06-2.06.94zm-11 1L8.5 8.5l.94-2.06 2.06-.94-2.06-.94L8.5 2.5l-.94 2.06-2.06.94zm10 10l.94 2.06.94-2.06 2.06-.94-2.06-.94-.94-2.06-.94 2.06-2.06.94z\"/><path d=\"M17.41 7.96l-1.37-1.37c-.4-.4-.92-.59-1.43-.59-.52 0-1.04.2-1.43.59L10.3 9.45l-7.72 7.72c-.78.78-.78 2.05 0 2.83L4 21.41c.39.39.9.59 1.41.59.51 0 1.02-.2 1.41-.59l7.78-7.78 2.81-2.81c.8-.78.8-2.07 0-2.86zM5.41 20L4 18.59l7.72-7.72 1.47 1.35L5.41 20z\"/>\n",
              "  </svg>\n",
              "      </button>\n",
              "      \n",
              "  <style>\n",
              "    .colab-df-container {\n",
              "      display:flex;\n",
              "      flex-wrap:wrap;\n",
              "      gap: 12px;\n",
              "    }\n",
              "\n",
              "    .colab-df-convert {\n",
              "      background-color: #E8F0FE;\n",
              "      border: none;\n",
              "      border-radius: 50%;\n",
              "      cursor: pointer;\n",
              "      display: none;\n",
              "      fill: #1967D2;\n",
              "      height: 32px;\n",
              "      padding: 0 0 0 0;\n",
              "      width: 32px;\n",
              "    }\n",
              "\n",
              "    .colab-df-convert:hover {\n",
              "      background-color: #E2EBFA;\n",
              "      box-shadow: 0px 1px 2px rgba(60, 64, 67, 0.3), 0px 1px 3px 1px rgba(60, 64, 67, 0.15);\n",
              "      fill: #174EA6;\n",
              "    }\n",
              "\n",
              "    [theme=dark] .colab-df-convert {\n",
              "      background-color: #3B4455;\n",
              "      fill: #D2E3FC;\n",
              "    }\n",
              "\n",
              "    [theme=dark] .colab-df-convert:hover {\n",
              "      background-color: #434B5C;\n",
              "      box-shadow: 0px 1px 3px 1px rgba(0, 0, 0, 0.15);\n",
              "      filter: drop-shadow(0px 1px 2px rgba(0, 0, 0, 0.3));\n",
              "      fill: #FFFFFF;\n",
              "    }\n",
              "  </style>\n",
              "\n",
              "      <script>\n",
              "        const buttonEl =\n",
              "          document.querySelector('#df-0a525e36-9e01-489b-ae79-092ef0292c33 button.colab-df-convert');\n",
              "        buttonEl.style.display =\n",
              "          google.colab.kernel.accessAllowed ? 'block' : 'none';\n",
              "\n",
              "        async function convertToInteractive(key) {\n",
              "          const element = document.querySelector('#df-0a525e36-9e01-489b-ae79-092ef0292c33');\n",
              "          const dataTable =\n",
              "            await google.colab.kernel.invokeFunction('convertToInteractive',\n",
              "                                                     [key], {});\n",
              "          if (!dataTable) return;\n",
              "\n",
              "          const docLinkHtml = 'Like what you see? Visit the ' +\n",
              "            '<a target=\"_blank\" href=https://colab.research.google.com/notebooks/data_table.ipynb>data table notebook</a>'\n",
              "            + ' to learn more about interactive tables.';\n",
              "          element.innerHTML = '';\n",
              "          dataTable['output_type'] = 'display_data';\n",
              "          await google.colab.output.renderOutput(dataTable, element);\n",
              "          const docLink = document.createElement('div');\n",
              "          docLink.innerHTML = docLinkHtml;\n",
              "          element.appendChild(docLink);\n",
              "        }\n",
              "      </script>\n",
              "    </div>\n",
              "  </div>\n",
              "  "
            ]
          },
          "metadata": {},
          "execution_count": 22
        }
      ]
    },
    {
      "cell_type": "code",
      "source": [
        "grouped_by_suburb['Suburb_cat'].value_counts()"
      ],
      "metadata": {
        "colab": {
          "base_uri": "https://localhost:8080/"
        },
        "id": "LLmKGPtLn9md",
        "outputId": "f5a06ef5-3c62-4973-c073-430b8eb71571"
      },
      "id": "LLmKGPtLn9md",
      "execution_count": 23,
      "outputs": [
        {
          "output_type": "execute_result",
          "data": {
            "text/plain": [
              "S_1     74\n",
              "S_2     71\n",
              "S_3     58\n",
              "S_4     44\n",
              "S_5     26\n",
              "S_7     13\n",
              "S_0     11\n",
              "S_6     10\n",
              "S_8      4\n",
              "S_9      2\n",
              "S_10     1\n",
              "Name: Suburb_cat, dtype: int64"
            ]
          },
          "metadata": {},
          "execution_count": 23
        }
      ]
    },
    {
      "cell_type": "code",
      "source": [
        "# generamos un nuevo dataframe \n",
        "melb_df_2 = pandas.merge(left = melb_df, right = grouped_by_suburb, left_on = 'Suburb', right_index = True)\n",
        "melb_df_2.columns"
      ],
      "metadata": {
        "colab": {
          "base_uri": "https://localhost:8080/"
        },
        "id": "wmMVXef2k9dD",
        "outputId": "7d62a8fa-08e1-47ed-83cf-f21babb952b1"
      },
      "id": "wmMVXef2k9dD",
      "execution_count": 24,
      "outputs": [
        {
          "output_type": "execute_result",
          "data": {
            "text/plain": [
              "Index(['Suburb', 'Address', 'Rooms', 'Type', 'Price', 'Method', 'SellerG',\n",
              "       'Date', 'Distance', 'Postcode', 'Bedroom2', 'Bathroom', 'Car',\n",
              "       'Landsize', 'BuildingArea', 'YearBuilt', 'CouncilArea', 'Lattitude',\n",
              "       'Longtitude', 'Regionname', 'Propertycount', 'Suburb_cat'],\n",
              "      dtype='object')"
            ]
          },
          "metadata": {},
          "execution_count": 24
        }
      ]
    },
    {
      "cell_type": "code",
      "source": [
        "# verificamos que los datos siguen iguales\n",
        "melb_df_2[['Suburb', 'Suburb_cat']].drop_duplicates().groupby(['Suburb_cat']).count()"
      ],
      "metadata": {
        "colab": {
          "base_uri": "https://localhost:8080/",
          "height": 426
        },
        "id": "RKOrxEaCnmjn",
        "outputId": "3202f6d5-b2ca-4144-c10b-d48bd84d18c5"
      },
      "id": "RKOrxEaCnmjn",
      "execution_count": 25,
      "outputs": [
        {
          "output_type": "execute_result",
          "data": {
            "text/plain": [
              "            Suburb\n",
              "Suburb_cat        \n",
              "S_0             11\n",
              "S_1             74\n",
              "S_10             1\n",
              "S_2             71\n",
              "S_3             58\n",
              "S_4             44\n",
              "S_5             26\n",
              "S_6             10\n",
              "S_7             13\n",
              "S_8              4\n",
              "S_9              2"
            ],
            "text/html": [
              "\n",
              "  <div id=\"df-b0201ae8-174f-443c-955b-eaad89044b06\">\n",
              "    <div class=\"colab-df-container\">\n",
              "      <div>\n",
              "<style scoped>\n",
              "    .dataframe tbody tr th:only-of-type {\n",
              "        vertical-align: middle;\n",
              "    }\n",
              "\n",
              "    .dataframe tbody tr th {\n",
              "        vertical-align: top;\n",
              "    }\n",
              "\n",
              "    .dataframe thead th {\n",
              "        text-align: right;\n",
              "    }\n",
              "</style>\n",
              "<table border=\"1\" class=\"dataframe\">\n",
              "  <thead>\n",
              "    <tr style=\"text-align: right;\">\n",
              "      <th></th>\n",
              "      <th>Suburb</th>\n",
              "    </tr>\n",
              "    <tr>\n",
              "      <th>Suburb_cat</th>\n",
              "      <th></th>\n",
              "    </tr>\n",
              "  </thead>\n",
              "  <tbody>\n",
              "    <tr>\n",
              "      <th>S_0</th>\n",
              "      <td>11</td>\n",
              "    </tr>\n",
              "    <tr>\n",
              "      <th>S_1</th>\n",
              "      <td>74</td>\n",
              "    </tr>\n",
              "    <tr>\n",
              "      <th>S_10</th>\n",
              "      <td>1</td>\n",
              "    </tr>\n",
              "    <tr>\n",
              "      <th>S_2</th>\n",
              "      <td>71</td>\n",
              "    </tr>\n",
              "    <tr>\n",
              "      <th>S_3</th>\n",
              "      <td>58</td>\n",
              "    </tr>\n",
              "    <tr>\n",
              "      <th>S_4</th>\n",
              "      <td>44</td>\n",
              "    </tr>\n",
              "    <tr>\n",
              "      <th>S_5</th>\n",
              "      <td>26</td>\n",
              "    </tr>\n",
              "    <tr>\n",
              "      <th>S_6</th>\n",
              "      <td>10</td>\n",
              "    </tr>\n",
              "    <tr>\n",
              "      <th>S_7</th>\n",
              "      <td>13</td>\n",
              "    </tr>\n",
              "    <tr>\n",
              "      <th>S_8</th>\n",
              "      <td>4</td>\n",
              "    </tr>\n",
              "    <tr>\n",
              "      <th>S_9</th>\n",
              "      <td>2</td>\n",
              "    </tr>\n",
              "  </tbody>\n",
              "</table>\n",
              "</div>\n",
              "      <button class=\"colab-df-convert\" onclick=\"convertToInteractive('df-b0201ae8-174f-443c-955b-eaad89044b06')\"\n",
              "              title=\"Convert this dataframe to an interactive table.\"\n",
              "              style=\"display:none;\">\n",
              "        \n",
              "  <svg xmlns=\"http://www.w3.org/2000/svg\" height=\"24px\"viewBox=\"0 0 24 24\"\n",
              "       width=\"24px\">\n",
              "    <path d=\"M0 0h24v24H0V0z\" fill=\"none\"/>\n",
              "    <path d=\"M18.56 5.44l.94 2.06.94-2.06 2.06-.94-2.06-.94-.94-2.06-.94 2.06-2.06.94zm-11 1L8.5 8.5l.94-2.06 2.06-.94-2.06-.94L8.5 2.5l-.94 2.06-2.06.94zm10 10l.94 2.06.94-2.06 2.06-.94-2.06-.94-.94-2.06-.94 2.06-2.06.94z\"/><path d=\"M17.41 7.96l-1.37-1.37c-.4-.4-.92-.59-1.43-.59-.52 0-1.04.2-1.43.59L10.3 9.45l-7.72 7.72c-.78.78-.78 2.05 0 2.83L4 21.41c.39.39.9.59 1.41.59.51 0 1.02-.2 1.41-.59l7.78-7.78 2.81-2.81c.8-.78.8-2.07 0-2.86zM5.41 20L4 18.59l7.72-7.72 1.47 1.35L5.41 20z\"/>\n",
              "  </svg>\n",
              "      </button>\n",
              "      \n",
              "  <style>\n",
              "    .colab-df-container {\n",
              "      display:flex;\n",
              "      flex-wrap:wrap;\n",
              "      gap: 12px;\n",
              "    }\n",
              "\n",
              "    .colab-df-convert {\n",
              "      background-color: #E8F0FE;\n",
              "      border: none;\n",
              "      border-radius: 50%;\n",
              "      cursor: pointer;\n",
              "      display: none;\n",
              "      fill: #1967D2;\n",
              "      height: 32px;\n",
              "      padding: 0 0 0 0;\n",
              "      width: 32px;\n",
              "    }\n",
              "\n",
              "    .colab-df-convert:hover {\n",
              "      background-color: #E2EBFA;\n",
              "      box-shadow: 0px 1px 2px rgba(60, 64, 67, 0.3), 0px 1px 3px 1px rgba(60, 64, 67, 0.15);\n",
              "      fill: #174EA6;\n",
              "    }\n",
              "\n",
              "    [theme=dark] .colab-df-convert {\n",
              "      background-color: #3B4455;\n",
              "      fill: #D2E3FC;\n",
              "    }\n",
              "\n",
              "    [theme=dark] .colab-df-convert:hover {\n",
              "      background-color: #434B5C;\n",
              "      box-shadow: 0px 1px 3px 1px rgba(0, 0, 0, 0.15);\n",
              "      filter: drop-shadow(0px 1px 2px rgba(0, 0, 0, 0.3));\n",
              "      fill: #FFFFFF;\n",
              "    }\n",
              "  </style>\n",
              "\n",
              "      <script>\n",
              "        const buttonEl =\n",
              "          document.querySelector('#df-b0201ae8-174f-443c-955b-eaad89044b06 button.colab-df-convert');\n",
              "        buttonEl.style.display =\n",
              "          google.colab.kernel.accessAllowed ? 'block' : 'none';\n",
              "\n",
              "        async function convertToInteractive(key) {\n",
              "          const element = document.querySelector('#df-b0201ae8-174f-443c-955b-eaad89044b06');\n",
              "          const dataTable =\n",
              "            await google.colab.kernel.invokeFunction('convertToInteractive',\n",
              "                                                     [key], {});\n",
              "          if (!dataTable) return;\n",
              "\n",
              "          const docLinkHtml = 'Like what you see? Visit the ' +\n",
              "            '<a target=\"_blank\" href=https://colab.research.google.com/notebooks/data_table.ipynb>data table notebook</a>'\n",
              "            + ' to learn more about interactive tables.';\n",
              "          element.innerHTML = '';\n",
              "          dataTable['output_type'] = 'display_data';\n",
              "          await google.colab.output.renderOutput(dataTable, element);\n",
              "          const docLink = document.createElement('div');\n",
              "          docLink.innerHTML = docLinkHtml;\n",
              "          element.appendChild(docLink);\n",
              "        }\n",
              "      </script>\n",
              "    </div>\n",
              "  </div>\n",
              "  "
            ]
          },
          "metadata": {},
          "execution_count": 25
        }
      ]
    },
    {
      "cell_type": "markdown",
      "source": [
        "Los valores de `CouncilArea` (se refieren al area de gobierno dentro del tejido urbano) no serán modificados"
      ],
      "metadata": {
        "id": "5WGAOmT-vfSM"
      },
      "id": "5WGAOmT-vfSM"
    },
    {
      "cell_type": "code",
      "source": [
        "relevant_cat_vars = ['Regionname', 'Type', 'Suburb_cat', 'CouncilArea', 'Postcode']"
      ],
      "metadata": {
        "id": "zsX9v5VEmPYg"
      },
      "id": "zsX9v5VEmPYg",
      "execution_count": 45,
      "outputs": []
    },
    {
      "cell_type": "markdown",
      "source": [
        "Vamos a trabajar con las variables **Rooms**, **Bathroom**, **Car**, **Type**, **Regionname**, **BuildingArea**, **Method**, **Landsize**, relacionada con la variable a predecir: **Price**. \n",
        "\n",
        "\n",
        "Para comenzar analizamos aquellas variables que describen la propiedad por si misma, de acuerdo a sus caracteristicas y considerando algunos aspectos esperados. Por ejemplo si el tipo de casa es `h` (*house*) se espera que tenga por lo menos 1 baño (*bathroom*), dormitorio (*bedroom2*) o 1 ambiente(*rooms*)."
      ],
      "metadata": {
        "id": "PadnPVHIu4lw"
      },
      "id": "PadnPVHIu4lw"
    },
    {
      "cell_type": "code",
      "source": [
        "#interesting_variables = ['Rooms', 'Car', 'Type', 'Regionname', 'BuildingArea', 'Landsize']\n",
        "interesting_variables = relevant_cont_vars + relevant_cat_vars\n",
        "interesting_variables"
      ],
      "metadata": {
        "id": "sSpFPB0ZvGen",
        "colab": {
          "base_uri": "https://localhost:8080/"
        },
        "outputId": "34aa56da-9b9a-459d-872a-891280a0e3d0"
      },
      "id": "sSpFPB0ZvGen",
      "execution_count": 46,
      "outputs": [
        {
          "output_type": "execute_result",
          "data": {
            "text/plain": [
              "['Bedroom2',\n",
              " 'Rooms',\n",
              " 'Bathroom',\n",
              " 'YearBuilt',\n",
              " 'Regionname',\n",
              " 'Type',\n",
              " 'Suburb_cat',\n",
              " 'CouncilArea',\n",
              " 'Postcode']"
            ]
          },
          "metadata": {},
          "execution_count": 46
        }
      ]
    },
    {
      "cell_type": "code",
      "source": [
        "melb_df = melb_df_2 [interesting_variables]"
      ],
      "metadata": {
        "id": "HKR6ZVx-HXCx"
      },
      "id": "HKR6ZVx-HXCx",
      "execution_count": 47,
      "outputs": []
    },
    {
      "cell_type": "markdown",
      "source": [
        "### Valores extremos\n",
        "\n",
        "Una vez seleccionadas las columnas, pasamos a analizar los valores extremos"
      ],
      "metadata": {
        "id": "FkVd1EW_6jSp"
      },
      "id": "FkVd1EW_6jSp"
    },
    {
      "cell_type": "code",
      "source": [
        "#melbourne df subset\n",
        "melb_df = melb_df_2[interesting_variables]"
      ],
      "metadata": {
        "id": "YeIyLXkG7MEw"
      },
      "id": "YeIyLXkG7MEw",
      "execution_count": 48,
      "outputs": []
    },
    {
      "cell_type": "code",
      "source": [
        "melb_df[interesting_variables].describe()"
      ],
      "metadata": {
        "colab": {
          "base_uri": "https://localhost:8080/",
          "height": 300
        },
        "id": "TRHpkMwM6xr2",
        "outputId": "4325d598-92ba-4629-8142-604792313bd0"
      },
      "id": "TRHpkMwM6xr2",
      "execution_count": 49,
      "outputs": [
        {
          "output_type": "execute_result",
          "data": {
            "text/plain": [
              "       Bedroom2    Rooms  Bathroom  YearBuilt  Postcode\n",
              "count  13580.00 13580.00  13580.00    8205.00  13580.00\n",
              "mean       2.91     2.94      1.53    1964.68   3105.30\n",
              "std        0.97     0.96      0.69      37.27     90.68\n",
              "min        0.00     1.00      0.00    1196.00   3000.00\n",
              "25%        2.00     2.00      1.00    1940.00   3044.00\n",
              "50%        3.00     3.00      1.00    1970.00   3084.00\n",
              "75%        3.00     3.00      2.00    1999.00   3148.00\n",
              "max       20.00    10.00      8.00    2018.00   3977.00"
            ],
            "text/html": [
              "\n",
              "  <div id=\"df-5ff4d604-1aa6-4d05-b432-65be6a23eac8\">\n",
              "    <div class=\"colab-df-container\">\n",
              "      <div>\n",
              "<style scoped>\n",
              "    .dataframe tbody tr th:only-of-type {\n",
              "        vertical-align: middle;\n",
              "    }\n",
              "\n",
              "    .dataframe tbody tr th {\n",
              "        vertical-align: top;\n",
              "    }\n",
              "\n",
              "    .dataframe thead th {\n",
              "        text-align: right;\n",
              "    }\n",
              "</style>\n",
              "<table border=\"1\" class=\"dataframe\">\n",
              "  <thead>\n",
              "    <tr style=\"text-align: right;\">\n",
              "      <th></th>\n",
              "      <th>Bedroom2</th>\n",
              "      <th>Rooms</th>\n",
              "      <th>Bathroom</th>\n",
              "      <th>YearBuilt</th>\n",
              "      <th>Postcode</th>\n",
              "    </tr>\n",
              "  </thead>\n",
              "  <tbody>\n",
              "    <tr>\n",
              "      <th>count</th>\n",
              "      <td>13580.00</td>\n",
              "      <td>13580.00</td>\n",
              "      <td>13580.00</td>\n",
              "      <td>8205.00</td>\n",
              "      <td>13580.00</td>\n",
              "    </tr>\n",
              "    <tr>\n",
              "      <th>mean</th>\n",
              "      <td>2.91</td>\n",
              "      <td>2.94</td>\n",
              "      <td>1.53</td>\n",
              "      <td>1964.68</td>\n",
              "      <td>3105.30</td>\n",
              "    </tr>\n",
              "    <tr>\n",
              "      <th>std</th>\n",
              "      <td>0.97</td>\n",
              "      <td>0.96</td>\n",
              "      <td>0.69</td>\n",
              "      <td>37.27</td>\n",
              "      <td>90.68</td>\n",
              "    </tr>\n",
              "    <tr>\n",
              "      <th>min</th>\n",
              "      <td>0.00</td>\n",
              "      <td>1.00</td>\n",
              "      <td>0.00</td>\n",
              "      <td>1196.00</td>\n",
              "      <td>3000.00</td>\n",
              "    </tr>\n",
              "    <tr>\n",
              "      <th>25%</th>\n",
              "      <td>2.00</td>\n",
              "      <td>2.00</td>\n",
              "      <td>1.00</td>\n",
              "      <td>1940.00</td>\n",
              "      <td>3044.00</td>\n",
              "    </tr>\n",
              "    <tr>\n",
              "      <th>50%</th>\n",
              "      <td>3.00</td>\n",
              "      <td>3.00</td>\n",
              "      <td>1.00</td>\n",
              "      <td>1970.00</td>\n",
              "      <td>3084.00</td>\n",
              "    </tr>\n",
              "    <tr>\n",
              "      <th>75%</th>\n",
              "      <td>3.00</td>\n",
              "      <td>3.00</td>\n",
              "      <td>2.00</td>\n",
              "      <td>1999.00</td>\n",
              "      <td>3148.00</td>\n",
              "    </tr>\n",
              "    <tr>\n",
              "      <th>max</th>\n",
              "      <td>20.00</td>\n",
              "      <td>10.00</td>\n",
              "      <td>8.00</td>\n",
              "      <td>2018.00</td>\n",
              "      <td>3977.00</td>\n",
              "    </tr>\n",
              "  </tbody>\n",
              "</table>\n",
              "</div>\n",
              "      <button class=\"colab-df-convert\" onclick=\"convertToInteractive('df-5ff4d604-1aa6-4d05-b432-65be6a23eac8')\"\n",
              "              title=\"Convert this dataframe to an interactive table.\"\n",
              "              style=\"display:none;\">\n",
              "        \n",
              "  <svg xmlns=\"http://www.w3.org/2000/svg\" height=\"24px\"viewBox=\"0 0 24 24\"\n",
              "       width=\"24px\">\n",
              "    <path d=\"M0 0h24v24H0V0z\" fill=\"none\"/>\n",
              "    <path d=\"M18.56 5.44l.94 2.06.94-2.06 2.06-.94-2.06-.94-.94-2.06-.94 2.06-2.06.94zm-11 1L8.5 8.5l.94-2.06 2.06-.94-2.06-.94L8.5 2.5l-.94 2.06-2.06.94zm10 10l.94 2.06.94-2.06 2.06-.94-2.06-.94-.94-2.06-.94 2.06-2.06.94z\"/><path d=\"M17.41 7.96l-1.37-1.37c-.4-.4-.92-.59-1.43-.59-.52 0-1.04.2-1.43.59L10.3 9.45l-7.72 7.72c-.78.78-.78 2.05 0 2.83L4 21.41c.39.39.9.59 1.41.59.51 0 1.02-.2 1.41-.59l7.78-7.78 2.81-2.81c.8-.78.8-2.07 0-2.86zM5.41 20L4 18.59l7.72-7.72 1.47 1.35L5.41 20z\"/>\n",
              "  </svg>\n",
              "      </button>\n",
              "      \n",
              "  <style>\n",
              "    .colab-df-container {\n",
              "      display:flex;\n",
              "      flex-wrap:wrap;\n",
              "      gap: 12px;\n",
              "    }\n",
              "\n",
              "    .colab-df-convert {\n",
              "      background-color: #E8F0FE;\n",
              "      border: none;\n",
              "      border-radius: 50%;\n",
              "      cursor: pointer;\n",
              "      display: none;\n",
              "      fill: #1967D2;\n",
              "      height: 32px;\n",
              "      padding: 0 0 0 0;\n",
              "      width: 32px;\n",
              "    }\n",
              "\n",
              "    .colab-df-convert:hover {\n",
              "      background-color: #E2EBFA;\n",
              "      box-shadow: 0px 1px 2px rgba(60, 64, 67, 0.3), 0px 1px 3px 1px rgba(60, 64, 67, 0.15);\n",
              "      fill: #174EA6;\n",
              "    }\n",
              "\n",
              "    [theme=dark] .colab-df-convert {\n",
              "      background-color: #3B4455;\n",
              "      fill: #D2E3FC;\n",
              "    }\n",
              "\n",
              "    [theme=dark] .colab-df-convert:hover {\n",
              "      background-color: #434B5C;\n",
              "      box-shadow: 0px 1px 3px 1px rgba(0, 0, 0, 0.15);\n",
              "      filter: drop-shadow(0px 1px 2px rgba(0, 0, 0, 0.3));\n",
              "      fill: #FFFFFF;\n",
              "    }\n",
              "  </style>\n",
              "\n",
              "      <script>\n",
              "        const buttonEl =\n",
              "          document.querySelector('#df-5ff4d604-1aa6-4d05-b432-65be6a23eac8 button.colab-df-convert');\n",
              "        buttonEl.style.display =\n",
              "          google.colab.kernel.accessAllowed ? 'block' : 'none';\n",
              "\n",
              "        async function convertToInteractive(key) {\n",
              "          const element = document.querySelector('#df-5ff4d604-1aa6-4d05-b432-65be6a23eac8');\n",
              "          const dataTable =\n",
              "            await google.colab.kernel.invokeFunction('convertToInteractive',\n",
              "                                                     [key], {});\n",
              "          if (!dataTable) return;\n",
              "\n",
              "          const docLinkHtml = 'Like what you see? Visit the ' +\n",
              "            '<a target=\"_blank\" href=https://colab.research.google.com/notebooks/data_table.ipynb>data table notebook</a>'\n",
              "            + ' to learn more about interactive tables.';\n",
              "          element.innerHTML = '';\n",
              "          dataTable['output_type'] = 'display_data';\n",
              "          await google.colab.output.renderOutput(dataTable, element);\n",
              "          const docLink = document.createElement('div');\n",
              "          docLink.innerHTML = docLinkHtml;\n",
              "          element.appendChild(docLink);\n",
              "        }\n",
              "      </script>\n",
              "    </div>\n",
              "  </div>\n",
              "  "
            ]
          },
          "metadata": {},
          "execution_count": 49
        }
      ]
    },
    {
      "cell_type": "markdown",
      "source": [
        "Si bien existe un registro con un valor de `20` y un registro con un valor de `10` para la columna `Bedroom2`, no eliminamos esos registros ya que los valores en las columnas restantes no contienen valores extremos\n"
      ],
      "metadata": {
        "id": "oQga1VGJ6dWx"
      },
      "id": "oQga1VGJ6dWx"
    },
    {
      "cell_type": "code",
      "source": [
        "melb_df[melb_df.Bedroom2 == 20 ]"
      ],
      "metadata": {
        "colab": {
          "base_uri": "https://localhost:8080/",
          "height": 81
        },
        "id": "lptAteuL6mib",
        "outputId": "2867b6f5-7b96-4b2b-c5d8-000428f01c97"
      },
      "id": "lptAteuL6mib",
      "execution_count": 51,
      "outputs": [
        {
          "output_type": "execute_result",
          "data": {
            "text/plain": [
              "      Bedroom2  Rooms  Bathroom  YearBuilt             Regionname Type  \\\n",
              "7404     20.00      3      1.00        NaN  Southern Metropolitan    h   \n",
              "\n",
              "     Suburb_cat CouncilArea  Postcode  \n",
              "7404        S_4   Glen Eira   3145.00  "
            ],
            "text/html": [
              "\n",
              "  <div id=\"df-afd3ac0d-b252-47d1-b553-296278ef10be\">\n",
              "    <div class=\"colab-df-container\">\n",
              "      <div>\n",
              "<style scoped>\n",
              "    .dataframe tbody tr th:only-of-type {\n",
              "        vertical-align: middle;\n",
              "    }\n",
              "\n",
              "    .dataframe tbody tr th {\n",
              "        vertical-align: top;\n",
              "    }\n",
              "\n",
              "    .dataframe thead th {\n",
              "        text-align: right;\n",
              "    }\n",
              "</style>\n",
              "<table border=\"1\" class=\"dataframe\">\n",
              "  <thead>\n",
              "    <tr style=\"text-align: right;\">\n",
              "      <th></th>\n",
              "      <th>Bedroom2</th>\n",
              "      <th>Rooms</th>\n",
              "      <th>Bathroom</th>\n",
              "      <th>YearBuilt</th>\n",
              "      <th>Regionname</th>\n",
              "      <th>Type</th>\n",
              "      <th>Suburb_cat</th>\n",
              "      <th>CouncilArea</th>\n",
              "      <th>Postcode</th>\n",
              "    </tr>\n",
              "  </thead>\n",
              "  <tbody>\n",
              "    <tr>\n",
              "      <th>7404</th>\n",
              "      <td>20.00</td>\n",
              "      <td>3</td>\n",
              "      <td>1.00</td>\n",
              "      <td>NaN</td>\n",
              "      <td>Southern Metropolitan</td>\n",
              "      <td>h</td>\n",
              "      <td>S_4</td>\n",
              "      <td>Glen Eira</td>\n",
              "      <td>3145.00</td>\n",
              "    </tr>\n",
              "  </tbody>\n",
              "</table>\n",
              "</div>\n",
              "      <button class=\"colab-df-convert\" onclick=\"convertToInteractive('df-afd3ac0d-b252-47d1-b553-296278ef10be')\"\n",
              "              title=\"Convert this dataframe to an interactive table.\"\n",
              "              style=\"display:none;\">\n",
              "        \n",
              "  <svg xmlns=\"http://www.w3.org/2000/svg\" height=\"24px\"viewBox=\"0 0 24 24\"\n",
              "       width=\"24px\">\n",
              "    <path d=\"M0 0h24v24H0V0z\" fill=\"none\"/>\n",
              "    <path d=\"M18.56 5.44l.94 2.06.94-2.06 2.06-.94-2.06-.94-.94-2.06-.94 2.06-2.06.94zm-11 1L8.5 8.5l.94-2.06 2.06-.94-2.06-.94L8.5 2.5l-.94 2.06-2.06.94zm10 10l.94 2.06.94-2.06 2.06-.94-2.06-.94-.94-2.06-.94 2.06-2.06.94z\"/><path d=\"M17.41 7.96l-1.37-1.37c-.4-.4-.92-.59-1.43-.59-.52 0-1.04.2-1.43.59L10.3 9.45l-7.72 7.72c-.78.78-.78 2.05 0 2.83L4 21.41c.39.39.9.59 1.41.59.51 0 1.02-.2 1.41-.59l7.78-7.78 2.81-2.81c.8-.78.8-2.07 0-2.86zM5.41 20L4 18.59l7.72-7.72 1.47 1.35L5.41 20z\"/>\n",
              "  </svg>\n",
              "      </button>\n",
              "      \n",
              "  <style>\n",
              "    .colab-df-container {\n",
              "      display:flex;\n",
              "      flex-wrap:wrap;\n",
              "      gap: 12px;\n",
              "    }\n",
              "\n",
              "    .colab-df-convert {\n",
              "      background-color: #E8F0FE;\n",
              "      border: none;\n",
              "      border-radius: 50%;\n",
              "      cursor: pointer;\n",
              "      display: none;\n",
              "      fill: #1967D2;\n",
              "      height: 32px;\n",
              "      padding: 0 0 0 0;\n",
              "      width: 32px;\n",
              "    }\n",
              "\n",
              "    .colab-df-convert:hover {\n",
              "      background-color: #E2EBFA;\n",
              "      box-shadow: 0px 1px 2px rgba(60, 64, 67, 0.3), 0px 1px 3px 1px rgba(60, 64, 67, 0.15);\n",
              "      fill: #174EA6;\n",
              "    }\n",
              "\n",
              "    [theme=dark] .colab-df-convert {\n",
              "      background-color: #3B4455;\n",
              "      fill: #D2E3FC;\n",
              "    }\n",
              "\n",
              "    [theme=dark] .colab-df-convert:hover {\n",
              "      background-color: #434B5C;\n",
              "      box-shadow: 0px 1px 3px 1px rgba(0, 0, 0, 0.15);\n",
              "      filter: drop-shadow(0px 1px 2px rgba(0, 0, 0, 0.3));\n",
              "      fill: #FFFFFF;\n",
              "    }\n",
              "  </style>\n",
              "\n",
              "      <script>\n",
              "        const buttonEl =\n",
              "          document.querySelector('#df-afd3ac0d-b252-47d1-b553-296278ef10be button.colab-df-convert');\n",
              "        buttonEl.style.display =\n",
              "          google.colab.kernel.accessAllowed ? 'block' : 'none';\n",
              "\n",
              "        async function convertToInteractive(key) {\n",
              "          const element = document.querySelector('#df-afd3ac0d-b252-47d1-b553-296278ef10be');\n",
              "          const dataTable =\n",
              "            await google.colab.kernel.invokeFunction('convertToInteractive',\n",
              "                                                     [key], {});\n",
              "          if (!dataTable) return;\n",
              "\n",
              "          const docLinkHtml = 'Like what you see? Visit the ' +\n",
              "            '<a target=\"_blank\" href=https://colab.research.google.com/notebooks/data_table.ipynb>data table notebook</a>'\n",
              "            + ' to learn more about interactive tables.';\n",
              "          element.innerHTML = '';\n",
              "          dataTable['output_type'] = 'display_data';\n",
              "          await google.colab.output.renderOutput(dataTable, element);\n",
              "          const docLink = document.createElement('div');\n",
              "          docLink.innerHTML = docLinkHtml;\n",
              "          element.appendChild(docLink);\n",
              "        }\n",
              "      </script>\n",
              "    </div>\n",
              "  </div>\n",
              "  "
            ]
          },
          "metadata": {},
          "execution_count": 51
        }
      ]
    },
    {
      "cell_type": "code",
      "source": [
        "melb_df[melb_df.Bedroom2 == 10 ]"
      ],
      "metadata": {
        "colab": {
          "base_uri": "https://localhost:8080/",
          "height": 81
        },
        "id": "Q0gefmV76015",
        "outputId": "de87b0b1-1897-486a-9868-6cac18cc2a75"
      },
      "id": "Q0gefmV76015",
      "execution_count": 53,
      "outputs": [
        {
          "output_type": "execute_result",
          "data": {
            "text/plain": [
              "       Bedroom2  Rooms  Bathroom  YearBuilt             Regionname Type  \\\n",
              "11304     10.00     10      3.00    2006.00  Northern Metropolitan    h   \n",
              "\n",
              "      Suburb_cat CouncilArea  Postcode  \n",
              "11304        S_2     Darebin   3083.00  "
            ],
            "text/html": [
              "\n",
              "  <div id=\"df-f3f4113c-bd15-4538-b15c-8a9429c38dfc\">\n",
              "    <div class=\"colab-df-container\">\n",
              "      <div>\n",
              "<style scoped>\n",
              "    .dataframe tbody tr th:only-of-type {\n",
              "        vertical-align: middle;\n",
              "    }\n",
              "\n",
              "    .dataframe tbody tr th {\n",
              "        vertical-align: top;\n",
              "    }\n",
              "\n",
              "    .dataframe thead th {\n",
              "        text-align: right;\n",
              "    }\n",
              "</style>\n",
              "<table border=\"1\" class=\"dataframe\">\n",
              "  <thead>\n",
              "    <tr style=\"text-align: right;\">\n",
              "      <th></th>\n",
              "      <th>Bedroom2</th>\n",
              "      <th>Rooms</th>\n",
              "      <th>Bathroom</th>\n",
              "      <th>YearBuilt</th>\n",
              "      <th>Regionname</th>\n",
              "      <th>Type</th>\n",
              "      <th>Suburb_cat</th>\n",
              "      <th>CouncilArea</th>\n",
              "      <th>Postcode</th>\n",
              "    </tr>\n",
              "  </thead>\n",
              "  <tbody>\n",
              "    <tr>\n",
              "      <th>11304</th>\n",
              "      <td>10.00</td>\n",
              "      <td>10</td>\n",
              "      <td>3.00</td>\n",
              "      <td>2006.00</td>\n",
              "      <td>Northern Metropolitan</td>\n",
              "      <td>h</td>\n",
              "      <td>S_2</td>\n",
              "      <td>Darebin</td>\n",
              "      <td>3083.00</td>\n",
              "    </tr>\n",
              "  </tbody>\n",
              "</table>\n",
              "</div>\n",
              "      <button class=\"colab-df-convert\" onclick=\"convertToInteractive('df-f3f4113c-bd15-4538-b15c-8a9429c38dfc')\"\n",
              "              title=\"Convert this dataframe to an interactive table.\"\n",
              "              style=\"display:none;\">\n",
              "        \n",
              "  <svg xmlns=\"http://www.w3.org/2000/svg\" height=\"24px\"viewBox=\"0 0 24 24\"\n",
              "       width=\"24px\">\n",
              "    <path d=\"M0 0h24v24H0V0z\" fill=\"none\"/>\n",
              "    <path d=\"M18.56 5.44l.94 2.06.94-2.06 2.06-.94-2.06-.94-.94-2.06-.94 2.06-2.06.94zm-11 1L8.5 8.5l.94-2.06 2.06-.94-2.06-.94L8.5 2.5l-.94 2.06-2.06.94zm10 10l.94 2.06.94-2.06 2.06-.94-2.06-.94-.94-2.06-.94 2.06-2.06.94z\"/><path d=\"M17.41 7.96l-1.37-1.37c-.4-.4-.92-.59-1.43-.59-.52 0-1.04.2-1.43.59L10.3 9.45l-7.72 7.72c-.78.78-.78 2.05 0 2.83L4 21.41c.39.39.9.59 1.41.59.51 0 1.02-.2 1.41-.59l7.78-7.78 2.81-2.81c.8-.78.8-2.07 0-2.86zM5.41 20L4 18.59l7.72-7.72 1.47 1.35L5.41 20z\"/>\n",
              "  </svg>\n",
              "      </button>\n",
              "      \n",
              "  <style>\n",
              "    .colab-df-container {\n",
              "      display:flex;\n",
              "      flex-wrap:wrap;\n",
              "      gap: 12px;\n",
              "    }\n",
              "\n",
              "    .colab-df-convert {\n",
              "      background-color: #E8F0FE;\n",
              "      border: none;\n",
              "      border-radius: 50%;\n",
              "      cursor: pointer;\n",
              "      display: none;\n",
              "      fill: #1967D2;\n",
              "      height: 32px;\n",
              "      padding: 0 0 0 0;\n",
              "      width: 32px;\n",
              "    }\n",
              "\n",
              "    .colab-df-convert:hover {\n",
              "      background-color: #E2EBFA;\n",
              "      box-shadow: 0px 1px 2px rgba(60, 64, 67, 0.3), 0px 1px 3px 1px rgba(60, 64, 67, 0.15);\n",
              "      fill: #174EA6;\n",
              "    }\n",
              "\n",
              "    [theme=dark] .colab-df-convert {\n",
              "      background-color: #3B4455;\n",
              "      fill: #D2E3FC;\n",
              "    }\n",
              "\n",
              "    [theme=dark] .colab-df-convert:hover {\n",
              "      background-color: #434B5C;\n",
              "      box-shadow: 0px 1px 3px 1px rgba(0, 0, 0, 0.15);\n",
              "      filter: drop-shadow(0px 1px 2px rgba(0, 0, 0, 0.3));\n",
              "      fill: #FFFFFF;\n",
              "    }\n",
              "  </style>\n",
              "\n",
              "      <script>\n",
              "        const buttonEl =\n",
              "          document.querySelector('#df-f3f4113c-bd15-4538-b15c-8a9429c38dfc button.colab-df-convert');\n",
              "        buttonEl.style.display =\n",
              "          google.colab.kernel.accessAllowed ? 'block' : 'none';\n",
              "\n",
              "        async function convertToInteractive(key) {\n",
              "          const element = document.querySelector('#df-f3f4113c-bd15-4538-b15c-8a9429c38dfc');\n",
              "          const dataTable =\n",
              "            await google.colab.kernel.invokeFunction('convertToInteractive',\n",
              "                                                     [key], {});\n",
              "          if (!dataTable) return;\n",
              "\n",
              "          const docLinkHtml = 'Like what you see? Visit the ' +\n",
              "            '<a target=\"_blank\" href=https://colab.research.google.com/notebooks/data_table.ipynb>data table notebook</a>'\n",
              "            + ' to learn more about interactive tables.';\n",
              "          element.innerHTML = '';\n",
              "          dataTable['output_type'] = 'display_data';\n",
              "          await google.colab.output.renderOutput(dataTable, element);\n",
              "          const docLink = document.createElement('div');\n",
              "          docLink.innerHTML = docLinkHtml;\n",
              "          element.appendChild(docLink);\n",
              "        }\n",
              "      </script>\n",
              "    </div>\n",
              "  </div>\n",
              "  "
            ]
          },
          "metadata": {},
          "execution_count": 53
        }
      ]
    },
    {
      "cell_type": "code",
      "source": [
        "melb_df[interesting_variables].info()"
      ],
      "metadata": {
        "colab": {
          "base_uri": "https://localhost:8080/"
        },
        "id": "NWE4MSm566Eo",
        "outputId": "e5be16ab-6667-47af-fe29-b54d7af6c9d2"
      },
      "id": "NWE4MSm566Eo",
      "execution_count": 50,
      "outputs": [
        {
          "output_type": "stream",
          "name": "stdout",
          "text": [
            "<class 'pandas.core.frame.DataFrame'>\n",
            "Int64Index: 13580 entries, 0 to 13494\n",
            "Data columns (total 9 columns):\n",
            " #   Column       Non-Null Count  Dtype  \n",
            "---  ------       --------------  -----  \n",
            " 0   Bedroom2     13580 non-null  float64\n",
            " 1   Rooms        13580 non-null  int64  \n",
            " 2   Bathroom     13580 non-null  float64\n",
            " 3   YearBuilt    8205 non-null   float64\n",
            " 4   Regionname   13580 non-null  object \n",
            " 5   Type         13580 non-null  object \n",
            " 6   Suburb_cat   13580 non-null  object \n",
            " 7   CouncilArea  12211 non-null  object \n",
            " 8   Postcode     13580 non-null  float64\n",
            "dtypes: float64(4), int64(1), object(4)\n",
            "memory usage: 1.5+ MB\n"
          ]
        }
      ]
    },
    {
      "cell_type": "markdown",
      "source": [
        "De las columnas analizadas podemos concluir lo siguiente:\n",
        "* Se considera que aquellas variables que informan sobre las caracteristicas \n",
        "del inmueble: **Bedroom2**, **Rooms**, **Bathrooms** son relevantes para el analisis de prediccion del Precio, dado que segun las graficas observadas puede apreciarse su distribucion es bastante razonable.\n"
      ],
      "metadata": {
        "id": "l0lZs5GbYkPd"
      },
      "id": "l0lZs5GbYkPd"
    },
    {
      "cell_type": "code",
      "source": [
        "melb_df.columns"
      ],
      "metadata": {
        "id": "0dSbY5NZ8BMK",
        "colab": {
          "base_uri": "https://localhost:8080/"
        },
        "outputId": "03e65118-5bfa-48b2-c91e-e5ad43d754f5"
      },
      "id": "0dSbY5NZ8BMK",
      "execution_count": 32,
      "outputs": [
        {
          "output_type": "execute_result",
          "data": {
            "text/plain": [
              "Index(['Bedroom2', 'Rooms', 'Bathroom', 'YearBuilt', 'Regionname', 'Type',\n",
              "       'Suburb_cat', 'CouncilArea'],\n",
              "      dtype='object')"
            ]
          },
          "metadata": {},
          "execution_count": 32
        }
      ]
    },
    {
      "cell_type": "code",
      "source": [
        "# se eliminara la columna Bedroom2 , previamente se efectuara una copia del dataframe.\n",
        "\n",
        "melb_df_bkp = melb_df.copy(deep=True)\n",
        "\n",
        "melb_df=melb_df.drop('Bedroom2',axis=1)\n",
        "\n",
        "melb_df.columns"
      ],
      "metadata": {
        "id": "U-5tUv-D7QvN",
        "colab": {
          "base_uri": "https://localhost:8080/"
        },
        "outputId": "5fe2ce0f-6eb9-4638-bf35-feab2a9371d2"
      },
      "id": "U-5tUv-D7QvN",
      "execution_count": 33,
      "outputs": [
        {
          "output_type": "execute_result",
          "data": {
            "text/plain": [
              "Index(['Rooms', 'Bathroom', 'YearBuilt', 'Regionname', 'Type', 'Suburb_cat',\n",
              "       'CouncilArea'],\n",
              "      dtype='object')"
            ]
          },
          "metadata": {},
          "execution_count": 33
        }
      ]
    },
    {
      "cell_type": "markdown",
      "source": [
        "---\n",
        "## Ejercicio 2, parte 2 \n"
      ],
      "metadata": {
        "id": "aMSsoHQnhWtA"
      },
      "id": "aMSsoHQnhWtA"
    },
    {
      "cell_type": "markdown",
      "source": [
        "2. Agregar información adicional respectiva al entorno de una propiedad a partir del [conjunto de datos de AirBnB](https://www.kaggle.com/tylerx/melbourne-airbnb-open-data?select=cleansed_listings_dec18.csv) utilizado en el práctico. \n",
        "  1. Seleccionar qué variables agregar y qué combinaciones aplicar a cada una. Por ejemplo, pueden utilizar solo la columna `price`, o aplicar múltiples transformaciones como la mediana o el mínimo.\n",
        "  1. Utilizar la variable zipcode para unir los conjuntos de datos. Sólo incluir los zipcodes que tengan una cantidad mínima de registros (a elección) como para que la información agregada sea relevante.\n",
        "  2. Investigar al menos otras 2 variables que puedan servir para combinar los datos, y justificar si serían adecuadas o no. Pueden asumir que cuentan con la ayuda de anotadores expertos para encontrar equivalencias entre barrios o direcciones, o que cuentan con algoritmos para encontrar las n ubicaciones más cercanas a una propiedad a partir de sus coordenadas geográficas. **NO** es necesario que realicen la implementación."
      ],
      "metadata": {
        "id": "kisCq2mU3pUD"
      },
      "id": "kisCq2mU3pUD"
    },
    {
      "cell_type": "markdown",
      "source": [
        "1. *Analizamos las variables dadas en el archivo de AirBnB consideramos las mas relavantes:*"
      ],
      "metadata": {
        "id": "pp8jlSqpIDCl"
      },
      "id": "pp8jlSqpIDCl"
    },
    {
      "cell_type": "code",
      "source": [
        "interesting_cols = [\n",
        "  'description', 'neighborhood_overview',\n",
        "  'street', 'neighborhood', 'city', 'suburb', 'state', 'zipcode',\n",
        "  'price', 'weekly_price', 'monthly_price',\n",
        "  'latitude', 'longitude','property_type', 'bathrooms', 'bedrooms'\n",
        "]\n",
        "\n"
      ],
      "metadata": {
        "id": "Fe00kbGCnf00"
      },
      "id": "Fe00kbGCnf00",
      "execution_count": 37,
      "outputs": []
    },
    {
      "cell_type": "code",
      "source": [
        "df_airbnb_adic = pandas.read_csv(\n",
        "    'https://cs.famaf.unc.edu.ar/~mteruel/datasets/diplodatos/cleansed_listings_dec18.csv',\n",
        "    usecols=interesting_cols)"
      ],
      "metadata": {
        "id": "YEMQGO2JH0NQ",
        "colab": {
          "base_uri": "https://localhost:8080/"
        },
        "outputId": "68058aa3-3087-4006-b1f6-9ae86a52a72a"
      },
      "id": "YEMQGO2JH0NQ",
      "execution_count": 38,
      "outputs": [
        {
          "output_type": "stream",
          "name": "stderr",
          "text": [
            "/usr/local/lib/python3.7/dist-packages/IPython/core/interactiveshell.py:2882: DtypeWarning:\n",
            "\n",
            "Columns (35) have mixed types.Specify dtype option on import or set low_memory=False.\n",
            "\n"
          ]
        }
      ]
    },
    {
      "cell_type": "code",
      "source": [
        "len(df_airbnb_adic)"
      ],
      "metadata": {
        "id": "-yEjwnehFXny",
        "colab": {
          "base_uri": "https://localhost:8080/"
        },
        "outputId": "c5eacfea-4099-4159-aa7f-3d37f43682f8"
      },
      "id": "-yEjwnehFXny",
      "execution_count": 39,
      "outputs": [
        {
          "output_type": "execute_result",
          "data": {
            "text/plain": [
              "22895"
            ]
          },
          "metadata": {},
          "execution_count": 39
        }
      ]
    },
    {
      "cell_type": "code",
      "source": [
        "df_airbnb_adic.zipcode.value_counts()[:5]"
      ],
      "metadata": {
        "id": "0aM01v__FlDg",
        "colab": {
          "base_uri": "https://localhost:8080/"
        },
        "outputId": "95e87969-842c-48f3-ccaf-b03ddfbeb67c"
      },
      "id": "0aM01v__FlDg",
      "execution_count": 40,
      "outputs": [
        {
          "output_type": "execute_result",
          "data": {
            "text/plain": [
              "3000.0    2491\n",
              "3000       876\n",
              "3006.0     860\n",
              "3182.0     579\n",
              "3182       556\n",
              "Name: zipcode, dtype: int64"
            ]
          },
          "metadata": {},
          "execution_count": 40
        }
      ]
    },
    {
      "cell_type": "markdown",
      "source": [
        " Sin embargo, la columna **zipcode** tiene tipos diferentes. Debemos estandarizarlo antes de continuar con la combinación de los dato"
      ],
      "metadata": {
        "id": "pmVBdjbvQObp"
      },
      "id": "pmVBdjbvQObp"
    },
    {
      "cell_type": "code",
      "source": [
        "df_airbnb_adic['zipcode'] = pandas.to_numeric(df_airbnb_adic.zipcode, errors='coerce')"
      ],
      "metadata": {
        "id": "RFlXwxJaQkmI"
      },
      "id": "RFlXwxJaQkmI",
      "execution_count": 41,
      "outputs": []
    },
    {
      "cell_type": "code",
      "source": [
        "df_airbnb_adic.zipcode.value_counts()"
      ],
      "metadata": {
        "id": "p2ZYxtL6QtGG",
        "colab": {
          "base_uri": "https://localhost:8080/"
        },
        "outputId": "d78ba819-b7b7-4691-d236-4175b71001a1"
      },
      "id": "p2ZYxtL6QtGG",
      "execution_count": 42,
      "outputs": [
        {
          "output_type": "execute_result",
          "data": {
            "text/plain": [
              "3000.00     3367\n",
              "3006.00     1268\n",
              "3182.00     1135\n",
              "3141.00      881\n",
              "3004.00      728\n",
              "            ... \n",
              "3785.00        1\n",
              "3096.00        1\n",
              "30122.00       1\n",
              "3912.00        1\n",
              "4068.00        1\n",
              "Name: zipcode, Length: 247, dtype: int64"
            ]
          },
          "metadata": {},
          "execution_count": 42
        }
      ]
    },
    {
      "cell_type": "markdown",
      "source": [
        "de esta forma unificamos el formato del campo zipcode. Y\n",
        "Necesitamos establecer una relación entre conjuntos de datos `df_melbourne` y `df_airbnb_adic` a través de este campo, pero primero debemos verificar que los codigos postales correspondan a la misma zona. Para ello primero realizaremos la intersección y realizamos un análisis al respecto:"
      ],
      "metadata": {
        "id": "tKkdnUpRRA1j"
      },
      "id": "tKkdnUpRRA1j"
    },
    {
      "cell_type": "code",
      "source": [
        "# buscamos la intersecion de los 248 valores de AIRBNB 191 tambien estan en melb \n",
        "intersection = numpy.intersect1d(\n",
        "    df_airbnb_adic.zipcode.values, melb_df.Postcode.values, assume_unique=False)\n",
        "print(\"Airbnb unique zipcodes\", len(df_airbnb_adic.zipcode.unique()))\n",
        "print(\"Sales unique zipcodes\", len(melb_df.Postcode.unique()))\n",
        "print(\"Common zipcodes\", len(intersection))"
      ],
      "metadata": {
        "id": "R6QOVf0jSF6c",
        "colab": {
          "base_uri": "https://localhost:8080/",
          "height": 373
        },
        "outputId": "ae822c3d-d186-4b44-bf69-a91f4da7a2b2"
      },
      "id": "R6QOVf0jSF6c",
      "execution_count": 44,
      "outputs": [
        {
          "output_type": "error",
          "ename": "AttributeError",
          "evalue": "ignored",
          "traceback": [
            "\u001b[0;31m---------------------------------------------------------------------------\u001b[0m",
            "\u001b[0;31mAttributeError\u001b[0m                            Traceback (most recent call last)",
            "\u001b[0;32m<ipython-input-44-7214219dbad6>\u001b[0m in \u001b[0;36m<module>\u001b[0;34m()\u001b[0m\n\u001b[1;32m      1\u001b[0m \u001b[0;31m# buscamos la intersecion de los 248 valores de AIRBNB 191 tambien estan en melb\u001b[0m\u001b[0;34m\u001b[0m\u001b[0;34m\u001b[0m\u001b[0;34m\u001b[0m\u001b[0m\n\u001b[1;32m      2\u001b[0m intersection = numpy.intersect1d(\n\u001b[0;32m----> 3\u001b[0;31m     df_airbnb_adic.zipcode.values, melb_df.Postcode.values, assume_unique=False)\n\u001b[0m\u001b[1;32m      4\u001b[0m \u001b[0mprint\u001b[0m\u001b[0;34m(\u001b[0m\u001b[0;34m\"Airbnb unique zipcodes\"\u001b[0m\u001b[0;34m,\u001b[0m \u001b[0mlen\u001b[0m\u001b[0;34m(\u001b[0m\u001b[0mdf_airbnb_adic\u001b[0m\u001b[0;34m.\u001b[0m\u001b[0mzipcode\u001b[0m\u001b[0;34m.\u001b[0m\u001b[0munique\u001b[0m\u001b[0;34m(\u001b[0m\u001b[0;34m)\u001b[0m\u001b[0;34m)\u001b[0m\u001b[0;34m)\u001b[0m\u001b[0;34m\u001b[0m\u001b[0;34m\u001b[0m\u001b[0m\n\u001b[1;32m      5\u001b[0m \u001b[0mprint\u001b[0m\u001b[0;34m(\u001b[0m\u001b[0;34m\"Sales unique zipcodes\"\u001b[0m\u001b[0;34m,\u001b[0m \u001b[0mlen\u001b[0m\u001b[0;34m(\u001b[0m\u001b[0mmelb_df\u001b[0m\u001b[0;34m.\u001b[0m\u001b[0mPostcode\u001b[0m\u001b[0;34m.\u001b[0m\u001b[0munique\u001b[0m\u001b[0;34m(\u001b[0m\u001b[0;34m)\u001b[0m\u001b[0;34m)\u001b[0m\u001b[0;34m)\u001b[0m\u001b[0;34m\u001b[0m\u001b[0;34m\u001b[0m\u001b[0m\n",
            "\u001b[0;32m/usr/local/lib/python3.7/dist-packages/pandas/core/generic.py\u001b[0m in \u001b[0;36m__getattr__\u001b[0;34m(self, name)\u001b[0m\n\u001b[1;32m   5485\u001b[0m         ):\n\u001b[1;32m   5486\u001b[0m             \u001b[0;32mreturn\u001b[0m \u001b[0mself\u001b[0m\u001b[0;34m[\u001b[0m\u001b[0mname\u001b[0m\u001b[0;34m]\u001b[0m\u001b[0;34m\u001b[0m\u001b[0;34m\u001b[0m\u001b[0m\n\u001b[0;32m-> 5487\u001b[0;31m         \u001b[0;32mreturn\u001b[0m \u001b[0mobject\u001b[0m\u001b[0;34m.\u001b[0m\u001b[0m__getattribute__\u001b[0m\u001b[0;34m(\u001b[0m\u001b[0mself\u001b[0m\u001b[0;34m,\u001b[0m \u001b[0mname\u001b[0m\u001b[0;34m)\u001b[0m\u001b[0;34m\u001b[0m\u001b[0;34m\u001b[0m\u001b[0m\n\u001b[0m\u001b[1;32m   5488\u001b[0m \u001b[0;34m\u001b[0m\u001b[0m\n\u001b[1;32m   5489\u001b[0m     \u001b[0;32mdef\u001b[0m \u001b[0m__setattr__\u001b[0m\u001b[0;34m(\u001b[0m\u001b[0mself\u001b[0m\u001b[0;34m,\u001b[0m \u001b[0mname\u001b[0m\u001b[0;34m:\u001b[0m \u001b[0mstr\u001b[0m\u001b[0;34m,\u001b[0m \u001b[0mvalue\u001b[0m\u001b[0;34m)\u001b[0m \u001b[0;34m->\u001b[0m \u001b[0;32mNone\u001b[0m\u001b[0;34m:\u001b[0m\u001b[0;34m\u001b[0m\u001b[0;34m\u001b[0m\u001b[0m\n",
            "\u001b[0;31mAttributeError\u001b[0m: 'DataFrame' object has no attribute 'Postcode'"
          ]
        }
      ]
    },
    {
      "cell_type": "markdown",
      "source": [
        "Como se puede apreciar hay **248** valores de **zipcode** distintos en el conjunto de datos de *Airbnb* y **198** en el de **Melbourne**. A su vez hay **191** valores en común en ambos conjuntos de datos."
      ],
      "metadata": {
        "id": "HWXCdOUISTM7"
      },
      "id": "HWXCdOUISTM7"
    },
    {
      "cell_type": "code",
      "source": [
        "print('Records in Sales df with corresponding zipcode form Airbnb df',\n",
        "      melb_df.Postcode.isin(intersection).sum() / len(melb_df))\n",
        "print('Records in Airbnb df with corresponding zipcode form Sales df',\n",
        "      df_airbnb_adic.zipcode.isin(intersection).sum() / len(df_airbnb_adic))"
      ],
      "metadata": {
        "id": "uMKiuP8HTbXr"
      },
      "id": "uMKiuP8HTbXr",
      "execution_count": null,
      "outputs": []
    },
    {
      "cell_type": "markdown",
      "source": [
        "Se puede observar que hay un 99%  estan en la interseccion , no asi de los que estan en el dataframe de Airbnb. "
      ],
      "metadata": {
        "id": "g9fXrpelTi6j"
      },
      "id": "g9fXrpelTi6j"
    },
    {
      "cell_type": "markdown",
      "source": [
        "### Filtrado de zipcodes\n",
        "\n",
        "Eliminamos los valores de zipcode con tres o menos ocurrencias"
      ],
      "metadata": {
        "id": "HuW9NoxyIg-Y"
      },
      "id": "HuW9NoxyIg-Y"
    },
    {
      "cell_type": "code",
      "source": [
        "threshold = 3\n",
        "zipcode_counts = df_airbnb_adic.zipcode.value_counts()\n",
        "size_filter = zipcode_counts > threshold\n",
        "print(len(zipcode_counts[size_filter]))\n",
        "print(len(zipcode_counts[~size_filter]))\n",
        "\n",
        "selected_zipcodes = zipcode_counts[size_filter]"
      ],
      "metadata": {
        "id": "8V2N1hKB3A-h",
        "colab": {
          "base_uri": "https://localhost:8080/",
          "height": 244
        },
        "outputId": "faffa310-caa8-4121-de02-ac043457afa0"
      },
      "id": "8V2N1hKB3A-h",
      "execution_count": 34,
      "outputs": [
        {
          "output_type": "error",
          "ename": "NameError",
          "evalue": "ignored",
          "traceback": [
            "\u001b[0;31m---------------------------------------------------------------------------\u001b[0m",
            "\u001b[0;31mNameError\u001b[0m                                 Traceback (most recent call last)",
            "\u001b[0;32m<ipython-input-34-79c4ecab4d32>\u001b[0m in \u001b[0;36m<module>\u001b[0;34m()\u001b[0m\n\u001b[1;32m      1\u001b[0m \u001b[0mthreshold\u001b[0m \u001b[0;34m=\u001b[0m \u001b[0;36m3\u001b[0m\u001b[0;34m\u001b[0m\u001b[0;34m\u001b[0m\u001b[0m\n\u001b[0;32m----> 2\u001b[0;31m \u001b[0mzipcode_counts\u001b[0m \u001b[0;34m=\u001b[0m \u001b[0mdf_airbnb_adic\u001b[0m\u001b[0;34m.\u001b[0m\u001b[0mzipcode\u001b[0m\u001b[0;34m.\u001b[0m\u001b[0mvalue_counts\u001b[0m\u001b[0;34m(\u001b[0m\u001b[0;34m)\u001b[0m\u001b[0;34m\u001b[0m\u001b[0;34m\u001b[0m\u001b[0m\n\u001b[0m\u001b[1;32m      3\u001b[0m \u001b[0msize_filter\u001b[0m \u001b[0;34m=\u001b[0m \u001b[0mzipcode_counts\u001b[0m \u001b[0;34m>\u001b[0m \u001b[0mthreshold\u001b[0m\u001b[0;34m\u001b[0m\u001b[0;34m\u001b[0m\u001b[0m\n\u001b[1;32m      4\u001b[0m \u001b[0mprint\u001b[0m\u001b[0;34m(\u001b[0m\u001b[0mlen\u001b[0m\u001b[0;34m(\u001b[0m\u001b[0mzipcode_counts\u001b[0m\u001b[0;34m[\u001b[0m\u001b[0msize_filter\u001b[0m\u001b[0;34m]\u001b[0m\u001b[0;34m)\u001b[0m\u001b[0;34m)\u001b[0m\u001b[0;34m\u001b[0m\u001b[0;34m\u001b[0m\u001b[0m\n\u001b[1;32m      5\u001b[0m \u001b[0mprint\u001b[0m\u001b[0;34m(\u001b[0m\u001b[0mlen\u001b[0m\u001b[0;34m(\u001b[0m\u001b[0mzipcode_counts\u001b[0m\u001b[0;34m[\u001b[0m\u001b[0;34m~\u001b[0m\u001b[0msize_filter\u001b[0m\u001b[0;34m]\u001b[0m\u001b[0;34m)\u001b[0m\u001b[0;34m)\u001b[0m\u001b[0;34m\u001b[0m\u001b[0;34m\u001b[0m\u001b[0m\n",
            "\u001b[0;31mNameError\u001b[0m: name 'df_airbnb_adic' is not defined"
          ]
        }
      ]
    },
    {
      "cell_type": "code",
      "source": [
        "selected_zipcodes = zipcode_counts[size_filter].index.array\n",
        "df_airbnb_adic = df_airbnb_adic[df_airbnb_adic.zipcode.isin(selected_zipcodes)]\n",
        "df_airbnb_adic.sample(5)"
      ],
      "metadata": {
        "id": "J1EPKyXHG8cT"
      },
      "id": "J1EPKyXHG8cT",
      "execution_count": null,
      "outputs": []
    },
    {
      "cell_type": "markdown",
      "source": [
        "Observamos que podemos agregar como datos: el promedio de precio semanal (*weekly_price*), promedio de precio mensual (*monthly_price*)."
      ],
      "metadata": {
        "id": "DWepuIBiXVqR"
      },
      "id": "DWepuIBiXVqR"
    },
    {
      "cell_type": "code",
      "source": [
        "relevant_cols = ['price', 'weekly_price', 'monthly_price']"
      ],
      "metadata": {
        "id": "6UKk9HkQXPmB"
      },
      "id": "6UKk9HkQXPmB",
      "execution_count": null,
      "outputs": []
    },
    {
      "cell_type": "code",
      "source": [
        "\n",
        "df_airbnb_adic[relevant_cols + ['zipcode']].groupby('zipcode').mean().reset_index()[:5]"
      ],
      "metadata": {
        "id": "OVVHWbLcXnmI"
      },
      "id": "OVVHWbLcXnmI",
      "execution_count": null,
      "outputs": []
    },
    {
      "cell_type": "code",
      "source": [
        "# Agregamos algunas columnas relevantes \n",
        "relevant_cols = ['price', 'weekly_price', 'monthly_price', 'zipcode', 'street', 'neighborhood', 'city','suburb']#, 'state', 'latitute', 'longitude']\n",
        "\n",
        "airbnb_price_by_zipcode = df_airbnb_adic[relevant_cols].groupby('zipcode')\\\n",
        "  .agg({'price': ['mean', 'count'], 'weekly_price': 'mean',\n",
        "        'monthly_price': 'mean', 'street': 'count', 'neighborhood': 'count', 'city': 'count','suburb': 'count'})\\\n",
        "  .reset_index()"
      ],
      "metadata": {
        "id": "i-Wk9w4QZpYA"
      },
      "id": "i-Wk9w4QZpYA",
      "execution_count": null,
      "outputs": []
    },
    {
      "cell_type": "code",
      "source": [
        "airbnb_price_by_zipcode"
      ],
      "metadata": {
        "id": "2RLPeho0aDMf"
      },
      "id": "2RLPeho0aDMf",
      "execution_count": null,
      "outputs": []
    },
    {
      "cell_type": "code",
      "source": [
        "# Flatten the two level columns\n",
        "airbnb_price_by_zipcode.columns = [\n",
        "  ' '.join(col).strip()\n",
        "  for col in airbnb_price_by_zipcode.columns.values]\n",
        "# Rename columns\n",
        "airbnb_price_by_zipcode = airbnb_price_by_zipcode.rename(\n",
        "    columns={'price mean': 'airbnb_price_mean',\n",
        "             'price count': 'airbnb_record_count',\n",
        "             'weekly_price mean': 'airbnb_weekly_price_mean',\n",
        "             'monthly_price mean': 'airbnb_monthly_price_mean'}\n",
        ")\n",
        "airbnb_price_by_zipcode[:3]"
      ],
      "metadata": {
        "id": "IK3Au9CyaG6o"
      },
      "id": "IK3Au9CyaG6o",
      "execution_count": null,
      "outputs": []
    },
    {
      "cell_type": "code",
      "source": [
        "# ahora hacemos la interseccion en pandas\n",
        "\n",
        "merged_sales_df = melb_df.merge(\n",
        "    airbnb_price_by_zipcode, how='left',\n",
        "    left_on='Postcode', right_on='zipcode')\n"
      ],
      "metadata": {
        "id": "TJ_um6B0cTdw"
      },
      "id": "TJ_um6B0cTdw",
      "execution_count": null,
      "outputs": []
    },
    {
      "cell_type": "code",
      "source": [
        "merged_sales_df[:3]"
      ],
      "metadata": {
        "id": "_NmHmPuac2ao"
      },
      "id": "_NmHmPuac2ao",
      "execution_count": null,
      "outputs": []
    },
    {
      "cell_type": "code",
      "source": [
        "from google.colab import files\n",
        "\n",
        "filename = \"melb_df_filtered_columns.csv\"\n",
        "melb_df.to_csv(filename) \n",
        "files.download(filename)"
      ],
      "metadata": {
        "colab": {
          "base_uri": "https://localhost:8080/",
          "height": 17
        },
        "id": "YSX4C-BZ8aec",
        "outputId": "3fa4733a-ed38-4b5f-8edb-3a632ab68aa8"
      },
      "id": "YSX4C-BZ8aec",
      "execution_count": 87,
      "outputs": [
        {
          "output_type": "display_data",
          "data": {
            "text/plain": [
              "<IPython.core.display.Javascript object>"
            ],
            "application/javascript": [
              "\n",
              "    async function download(id, filename, size) {\n",
              "      if (!google.colab.kernel.accessAllowed) {\n",
              "        return;\n",
              "      }\n",
              "      const div = document.createElement('div');\n",
              "      const label = document.createElement('label');\n",
              "      label.textContent = `Downloading \"${filename}\": `;\n",
              "      div.appendChild(label);\n",
              "      const progress = document.createElement('progress');\n",
              "      progress.max = size;\n",
              "      div.appendChild(progress);\n",
              "      document.body.appendChild(div);\n",
              "\n",
              "      const buffers = [];\n",
              "      let downloaded = 0;\n",
              "\n",
              "      const channel = await google.colab.kernel.comms.open(id);\n",
              "      // Send a message to notify the kernel that we're ready.\n",
              "      channel.send({})\n",
              "\n",
              "      for await (const message of channel.messages) {\n",
              "        // Send a message to notify the kernel that we're ready.\n",
              "        channel.send({})\n",
              "        if (message.buffers) {\n",
              "          for (const buffer of message.buffers) {\n",
              "            buffers.push(buffer);\n",
              "            downloaded += buffer.byteLength;\n",
              "            progress.value = downloaded;\n",
              "          }\n",
              "        }\n",
              "      }\n",
              "      const blob = new Blob(buffers, {type: 'application/binary'});\n",
              "      const a = document.createElement('a');\n",
              "      a.href = window.URL.createObjectURL(blob);\n",
              "      a.download = filename;\n",
              "      div.appendChild(a);\n",
              "      a.click();\n",
              "      div.remove();\n",
              "    }\n",
              "  "
            ]
          },
          "metadata": {}
        },
        {
          "output_type": "display_data",
          "data": {
            "text/plain": [
              "<IPython.core.display.Javascript object>"
            ],
            "application/javascript": [
              "download(\"download_13054cf5-b731-4927-8fc7-a553a7ddfc55\", \"melb_df_filtered_columns.csv\", 2161610)"
            ]
          },
          "metadata": {}
        }
      ]
    },
    {
      "cell_type": "markdown",
      "source": [
        "## Ejercicio 2, Punto 3 Otras columnas"
      ],
      "metadata": {
        "id": "Dz-Yctt2L9yj"
      },
      "id": "Dz-Yctt2L9yj"
    },
    {
      "cell_type": "markdown",
      "source": [
        "Para seleccionar columnas candidatas que sirvan para combinar ambos conjuntos de datos podemos plantear los siguientes criterios\n",
        "\n",
        "* Agrupar por variables estructurales. Por ejemplo, cantidad de habitaciones o baños\n",
        "* Agrupar por ubicación dentro del área urbana, como ser suburbio o barrio\n",
        "\n",
        "* Agregar por espacio para estacionar. Si bien no existe explícitamente en el conjunto de datos de airbnb, si se puede derivar a partir de la columna `amenities`\n",
        "* Por areas poligonales definidas en un catálogo. A partir de los valores de latitud y longitud (disponibles en ambos conjuntos de datos) se puede evaluar la pertenencia de la propiedad dentro de un area arbitraria.\n",
        "\n",
        "\n",
        "\n"
      ],
      "metadata": {
        "id": "d03Mykl6NyOD"
      },
      "id": "d03Mykl6NyOD"
    },
    {
      "cell_type": "markdown",
      "source": [
        "Finalmente tomamos las columas que indican\n",
        "* Cantidad de baños (`Bathroom` / `bathrooms`)\n",
        "* Ubicación de la propiedad (`Suburb` / `street`)\n",
        "\n",
        "La justificación se basa en que se analizan dimensiones distintas de cada propiedad, y que existe una correlación entre la cantidad de baños y otros parametros de una casa o departamento."
      ],
      "metadata": {
        "id": "adK5cOLDdyAq"
      },
      "id": "adK5cOLDdyAq"
    },
    {
      "cell_type": "markdown",
      "source": [
        "\n",
        "\n",
        "---\n",
        "\n"
      ],
      "metadata": {
        "id": "OxaF_gcKbLNl"
      },
      "id": "OxaF_gcKbLNl"
    },
    {
      "cell_type": "code",
      "source": [
        "melb_df.columns"
      ],
      "metadata": {
        "id": "hA-C8KXyL9g9",
        "colab": {
          "base_uri": "https://localhost:8080/"
        },
        "outputId": "d944a676-8d17-40f4-f38c-0a336cf40c18"
      },
      "id": "hA-C8KXyL9g9",
      "execution_count": 72,
      "outputs": [
        {
          "output_type": "execute_result",
          "data": {
            "text/plain": [
              "Index(['Suburb', 'Address', 'Rooms', 'Type', 'Price', 'Method', 'SellerG',\n",
              "       'Date', 'Distance', 'Postcode', 'Bedroom2', 'Bathroom', 'Car',\n",
              "       'Landsize', 'BuildingArea', 'YearBuilt', 'CouncilArea', 'Lattitude',\n",
              "       'Longtitude', 'Regionname', 'Propertycount'],\n",
              "      dtype='object')"
            ]
          },
          "metadata": {},
          "execution_count": 72
        }
      ]
    },
    {
      "cell_type": "code",
      "source": [
        "airbnb_df = pandas.read_csv(\n",
        "    'https://cs.famaf.unc.edu.ar/~mteruel/datasets/diplodatos/cleansed_listings_dec18.csv')\n",
        "\n",
        "airbnb_df.columns"
      ],
      "metadata": {
        "id": "SxLIDlJjMKXm",
        "colab": {
          "base_uri": "https://localhost:8080/"
        },
        "outputId": "37966391-d2fc-4dd5-9623-f6577f87ebcb"
      },
      "execution_count": 73,
      "outputs": [
        {
          "output_type": "stream",
          "name": "stderr",
          "text": [
            "/usr/local/lib/python3.7/dist-packages/IPython/core/interactiveshell.py:2882: DtypeWarning:\n",
            "\n",
            "Columns (35,77) have mixed types.Specify dtype option on import or set low_memory=False.\n",
            "\n"
          ]
        },
        {
          "output_type": "execute_result",
          "data": {
            "text/plain": [
              "Index(['id', 'listing_url', 'scrape_id', 'last_scraped', 'name', 'summary',\n",
              "       'space', 'description', 'neighborhood_overview', 'notes', 'transit',\n",
              "       'access', 'interaction', 'house_rules', 'picture_url', 'host_id',\n",
              "       'host_url', 'host_name', 'host_since', 'host_location', 'host_about',\n",
              "       'host_response_time', 'host_response_rate', 'host_is_superhost',\n",
              "       'host_thumbnail_url', 'host_picture_url', 'host_neighborhood',\n",
              "       'host_verifications', 'host_has_profile_pic', 'host_identity_verified',\n",
              "       'street', 'neighborhood', 'city', 'suburb', 'state', 'zipcode',\n",
              "       'smart_location', 'country_code', 'country', 'latitude', 'longitude',\n",
              "       'is_location_exact', 'property_type', 'room_type', 'accommodates',\n",
              "       'bathrooms', 'bedrooms', 'beds', 'bed_type', 'amenities', 'price',\n",
              "       'weekly_price', 'monthly_price', 'security_deposit', 'cleaning_fee',\n",
              "       'guests_included', 'extra_people', 'minimum_nights', 'maximum_nights',\n",
              "       'calendar_updated', 'has_availability', 'availability_30',\n",
              "       'availability_60', 'availability_90', 'availability_365',\n",
              "       'calendar_last_scraped', 'number_of_reviews', 'first_review',\n",
              "       'last_review', 'review_scores_rating', 'review_scores_accuracy',\n",
              "       'review_scores_cleanliness', 'review_scores_checkin',\n",
              "       'review_scores_communication', 'review_scores_location',\n",
              "       'review_scores_value', 'requires_license', 'license',\n",
              "       'instant_bookable', 'cancellation_policy',\n",
              "       'require_guest_profile_picture', 'require_guest_phone_verification',\n",
              "       'calculated_host_listings_count', 'reviews_per_month'],\n",
              "      dtype='object')"
            ]
          },
          "metadata": {},
          "execution_count": 73
        }
      ],
      "id": "SxLIDlJjMKXm"
    },
    {
      "cell_type": "markdown",
      "source": [
        "#### Por ubicación\n",
        "\n",
        "Se puede hacer una correspondencia entre los valores la columna `Suburb` del conjunto de datos `melb_df` y un subconjunto de los presentes en la columna `street` del conjunto de datos `airbnb_df`"
      ],
      "metadata": {
        "id": "XgFGW5zdZvuy"
      },
      "id": "XgFGW5zdZvuy"
    },
    {
      "cell_type": "code",
      "source": [
        "melb_df.Suburb.value_counts()"
      ],
      "metadata": {
        "id": "Awo3xdrzYRCz",
        "colab": {
          "base_uri": "https://localhost:8080/"
        },
        "outputId": "2f66a6a9-e298-4d7c-dbed-7de540bbcc4d"
      },
      "id": "Awo3xdrzYRCz",
      "execution_count": 74,
      "outputs": [
        {
          "output_type": "execute_result",
          "data": {
            "text/plain": [
              "Reservoir         359\n",
              "Richmond          260\n",
              "Bentleigh East    249\n",
              "Preston           239\n",
              "Brunswick         222\n",
              "                 ... \n",
              "Sandhurst           1\n",
              "Bullengarook        1\n",
              "Croydon South       1\n",
              "Montrose            1\n",
              "Monbulk             1\n",
              "Name: Suburb, Length: 314, dtype: int64"
            ]
          },
          "metadata": {},
          "execution_count": 74
        }
      ]
    },
    {
      "cell_type": "code",
      "source": [
        "airbnb_df[airbnb_df.street.str.contains('Melbourne')].street.value_counts()"
      ],
      "metadata": {
        "id": "T11kKKhHYHJ1",
        "colab": {
          "base_uri": "https://localhost:8080/"
        },
        "outputId": "2bc163bd-f656-4d17-89b9-7b22739b62ea"
      },
      "id": "T11kKKhHYHJ1",
      "execution_count": 75,
      "outputs": [
        {
          "output_type": "execute_result",
          "data": {
            "text/plain": [
              "Melbourne, VIC, Australia                            4222\n",
              "North Melbourne, VIC, Australia                       340\n",
              "South Melbourne, VIC, Australia                       284\n",
              "West Melbourne, VIC, Australia                        262\n",
              "Port Melbourne, VIC, Australia                        253\n",
              "East Melbourne, VIC, Australia                        191\n",
              "Melbourne , VIC, Australia                             30\n",
              "Melbourne, Australia                                    9\n",
              "Victoria, Melbourne, Australia                          6\n",
              "Brighton East, Melbourne, VIC, Australia                4\n",
              "Fitzroy, Melbourne, VIC, Australia                      3\n",
              "Melbourne City, VIC, Australia                          3\n",
              "Elwood, Melbourne, VIC, Australia                       3\n",
              "Melbourne, Victoria, AU, VIC, Australia                 3\n",
              "Melbourne, Vic, Australia                               3\n",
              "Port Melbourne, Australia                               3\n",
              "Melbourne , Vic, Australia                              2\n",
              "Melbourne , vic, Australia                              2\n",
              "Middle Park Melbourne, VIC, Australia                   2\n",
              "Melbourne , Victory, Australia                          2\n",
              "Port Melbourne , VIC, Australia                         2\n",
              "Collingwood, Melbourne, VIC, Australia                  2\n",
              "South Melbourne, Vic, Australia                         2\n",
              "Hawthorn, Melbourne, VIC, Australia                     2\n",
              "Melbourne, Mel, Australia                               1\n",
              "Brunswick / Melbourne, VIC, Australia                   1\n",
              "St Kilda east, Melbourne, Victoria, Australia           1\n",
              "Melbourne Victoria, Australia                           1\n",
              "Abbotsford, Melbourne, VIC, Australia                   1\n",
              "South Melbourne, Australia                              1\n",
              "Doncaster，Melbourne, VIC, Australia                     1\n",
              "Melbourne CBD, VIC, Australia                           1\n",
              "Melbourne VIC 3000, Melbourne VIC 3000, Australia       1\n",
              "Melbourne, vic, Australia                               1\n",
              "West Melbourne - flagstaff , VIC, Australia             1\n",
              "Melbourne VIC 3004, Melbourne VIC 3004, Australia       1\n",
              "East Melbourne, Australia                               1\n",
              "St. Kilda, Melbourne, Australia                         1\n",
              "East Melbourne , VIC, Australia                         1\n",
              "West Melbourne, VI, Australia                           1\n",
              "Brunswick East, Melbourne, VIC, Australia               1\n",
              "South Melbourne, Melbourne, VIC, Australia              1\n",
              "Albert Park. Melbourne , VIC, Australia                 1\n",
              "Melbourne, VICTORIA, Australia                          1\n",
              "Malvern, Melbourne, VIC, Australia                      1\n",
              "Toorak, Melbourne., VIC, Australia                      1\n",
              "Southbank, Melbourne, VIC, Australia                    1\n",
              "Southbank Melbourne , VIC, Australia                    1\n",
              "St Kilda West Melbourne, VIC, Australia                 1\n",
              "Coburg (Melbourne), VIC, Australia                      1\n",
              "South Melbourne , Vic, Australia                        1\n",
              "Ivanhoe (Melbourne), VIC, Australia                     1\n",
              "Glen Iris, Victoria, AU, Melbourne, Australia           1\n",
              "North Melbourne, Victoria, AU, VIC, Australia           1\n",
              "Maribyrnong, Melbourne, VIC, Australia                  1\n",
              "Melbourne (Eltham), VIC, Australia                      1\n",
              "Brunswick West, Melbourne, VIC, Australia               1\n",
              "墨爾本 Melbourne, 維多利亞 VIC, Australia                      1\n",
              "Carlton, Melbourne, VIC, Australia                      1\n",
              "Melbourne, victoria, Australia                          1\n",
              "Name: street, dtype: int64"
            ]
          },
          "metadata": {},
          "execution_count": 75
        }
      ]
    },
    {
      "cell_type": "markdown",
      "source": [
        "#### Columna candidata: Tipo de propiedad\n",
        "\n",
        "Ambos conjuntos de datos tienen una columna que indica el tipo de propiedad. Esta columna ces "
      ],
      "metadata": {
        "id": "wxTYpO5QPgUt"
      },
      "id": "wxTYpO5QPgUt"
    },
    {
      "cell_type": "code",
      "source": [
        "airbnb_df.property_type.value_counts()"
      ],
      "metadata": {
        "id": "XJ24lxflOO6o",
        "colab": {
          "base_uri": "https://localhost:8080/"
        },
        "outputId": "22775f74-208b-46c8-d975-525de8d40f60"
      },
      "id": "XJ24lxflOO6o",
      "execution_count": 76,
      "outputs": [
        {
          "output_type": "execute_result",
          "data": {
            "text/plain": [
              "Apartment                 12469\n",
              "House                      5967\n",
              "Townhouse                  1434\n",
              "Condominium                 544\n",
              "Serviced apartment          500\n",
              "Villa                       326\n",
              "Guesthouse                  276\n",
              "Bed and breakfast           263\n",
              "Guest suite                 260\n",
              "Loft                        191\n",
              "Cottage                     157\n",
              "Bungalow                    157\n",
              "Other                        49\n",
              "Cabin                        46\n",
              "Boutique hotel               44\n",
              "Farm stay                    43\n",
              "Hostel                       32\n",
              "Tiny house                   25\n",
              "Camper/RV                    16\n",
              "Aparthotel                   12\n",
              "Hotel                        11\n",
              "Campsite                     10\n",
              "Earth house                  10\n",
              "Tent                          9\n",
              "Nature lodge                  8\n",
              "Boat                          8\n",
              "Resort                        6\n",
              "Barn                          5\n",
              "Chalet                        4\n",
              "Castle                        4\n",
              "Hut                           3\n",
              "Treehouse                     3\n",
              "Train                         1\n",
              "Minsu (Taiwan)                1\n",
              "Casa particular (Cuba)        1\n",
              "Name: property_type, dtype: int64"
            ]
          },
          "metadata": {},
          "execution_count": 76
        }
      ]
    },
    {
      "cell_type": "code",
      "source": [
        "melb_df.Type.value_counts()"
      ],
      "metadata": {
        "id": "eHY5FHsyObAG",
        "colab": {
          "base_uri": "https://localhost:8080/"
        },
        "outputId": "e579bf24-13f5-4249-9b2d-bf23923fbe11"
      },
      "id": "eHY5FHsyObAG",
      "execution_count": 77,
      "outputs": [
        {
          "output_type": "execute_result",
          "data": {
            "text/plain": [
              "h    9449\n",
              "u    3017\n",
              "t    1114\n",
              "Name: Type, dtype: int64"
            ]
          },
          "metadata": {},
          "execution_count": 77
        }
      ]
    },
    {
      "cell_type": "markdown",
      "source": [
        "#### Columna candidata : Baños"
      ],
      "metadata": {
        "id": "f7aWpxNrUp31"
      },
      "id": "f7aWpxNrUp31"
    },
    {
      "cell_type": "code",
      "source": [
        "airbnb_df.bathrooms.value_counts()"
      ],
      "metadata": {
        "id": "xRH9DYzIOwaz",
        "colab": {
          "base_uri": "https://localhost:8080/"
        },
        "outputId": "4c70ca31-6d06-4a33-b1f5-91046f9c59cc"
      },
      "id": "xRH9DYzIOwaz",
      "execution_count": 78,
      "outputs": [
        {
          "output_type": "execute_result",
          "data": {
            "text/plain": [
              "1.00     16568\n",
              "2.00      3681\n",
              "1.50      1290\n",
              "2.50       657\n",
              "3.00       324\n",
              "3.50       110\n",
              "0.50        81\n",
              "4.00        70\n",
              "5.00        34\n",
              "0.00        31\n",
              "4.50        11\n",
              "6.00         6\n",
              "5.50         6\n",
              "7.00         2\n",
              "6.50         2\n",
              "8.00         1\n",
              "14.00        1\n",
              "9.00         1\n",
              "7.50         1\n",
              "10.00        1\n",
              "Name: bathrooms, dtype: int64"
            ]
          },
          "metadata": {},
          "execution_count": 78
        }
      ]
    },
    {
      "cell_type": "code",
      "source": [
        "melb_df.Bathroom.value_counts()"
      ],
      "metadata": {
        "id": "IN-7PXHQOzX4",
        "colab": {
          "base_uri": "https://localhost:8080/"
        },
        "outputId": "0a0a9f59-aee1-4aed-b90e-a0ded3ce72a4"
      },
      "id": "IN-7PXHQOzX4",
      "execution_count": 79,
      "outputs": [
        {
          "output_type": "execute_result",
          "data": {
            "text/plain": [
              "1.00    7512\n",
              "2.00    4974\n",
              "3.00     917\n",
              "4.00     106\n",
              "0.00      34\n",
              "5.00      28\n",
              "6.00       5\n",
              "7.00       2\n",
              "8.00       2\n",
              "Name: Bathroom, dtype: int64"
            ]
          },
          "metadata": {},
          "execution_count": 79
        }
      ]
    },
    {
      "cell_type": "markdown",
      "source": [
        "Si bien las distribuciones no son exactamente iguales (y deben curarse los casos donde figuran fracciones de baños), esta columna es una buena candidata ya que ambas variables presentan una distribución similar"
      ],
      "metadata": {
        "id": "FfzsXsVvc61d"
      },
      "id": "FfzsXsVvc61d"
    },
    {
      "cell_type": "code",
      "source": [
        "melb_df.Bathroom.describe()"
      ],
      "metadata": {
        "id": "fIgdQJNuddID",
        "colab": {
          "base_uri": "https://localhost:8080/"
        },
        "outputId": "bca0d32e-c20b-4ddc-e93b-bca44fbbc905"
      },
      "id": "fIgdQJNuddID",
      "execution_count": 80,
      "outputs": [
        {
          "output_type": "execute_result",
          "data": {
            "text/plain": [
              "count   13580.00\n",
              "mean        1.53\n",
              "std         0.69\n",
              "min         0.00\n",
              "25%         1.00\n",
              "50%         1.00\n",
              "75%         2.00\n",
              "max         8.00\n",
              "Name: Bathroom, dtype: float64"
            ]
          },
          "metadata": {},
          "execution_count": 80
        }
      ]
    },
    {
      "cell_type": "code",
      "source": [
        "airbnb_df.bathrooms.describe()"
      ],
      "metadata": {
        "id": "Q9BkYPZadgcr",
        "colab": {
          "base_uri": "https://localhost:8080/"
        },
        "outputId": "993a6e4d-71cd-4204-cf24-fe0ea38cac6c"
      },
      "id": "Q9BkYPZadgcr",
      "execution_count": 81,
      "outputs": [
        {
          "output_type": "execute_result",
          "data": {
            "text/plain": [
              "count   22878.00\n",
              "mean        1.29\n",
              "std         0.58\n",
              "min         0.00\n",
              "25%         1.00\n",
              "50%         1.00\n",
              "75%         1.50\n",
              "max        14.00\n",
              "Name: bathrooms, dtype: float64"
            ]
          },
          "metadata": {},
          "execution_count": 81
        }
      ]
    },
    {
      "cell_type": "code",
      "source": [
        "fig, (ax1, ax2) = plt.subplots(1, 2, figsize = (20, 20))\n",
        "plt.title('Cantidad de baños (airbnb vs melb)')\n",
        "\n",
        "seaborn.histplot(data = airbnb_df, x='bathrooms', ax=ax1)\n",
        "seaborn.histplot(data = melb_df, x='Bathroom', ax=ax2)"
      ],
      "metadata": {
        "id": "PpNLxCWDbVh6",
        "colab": {
          "base_uri": "https://localhost:8080/",
          "height": 73
        },
        "outputId": "8d077a83-8fca-44db-e0a5-5d6ac6dd0ae7"
      },
      "id": "PpNLxCWDbVh6",
      "execution_count": 82,
      "outputs": [
        {
          "output_type": "execute_result",
          "data": {
            "text/plain": [
              "<matplotlib.axes._subplots.AxesSubplot at 0x7f6515e3c090>"
            ]
          },
          "metadata": {},
          "execution_count": 82
        },
        {
          "output_type": "display_data",
          "data": {
            "text/plain": [
              "<Figure size 1440x1440 with 2 Axes>"
            ],
            "image/png": "[encoded data removed]"
          },
          "metadata": {
            "needs_background": "light"
          }
        }
      ]
    },
    {
      "cell_type": "code",
      "source": [
        ""
      ],
      "metadata": {
        "id": "KO5F6BtndbDc"
      },
      "id": "KO5F6BtndbDc",
      "execution_count": 82,
      "outputs": []
    },
    {
      "cell_type": "markdown",
      "source": [
        "#### Columna candidata: Espacio para estacionar"
      ],
      "metadata": {
        "id": "BqIIK3KXUuWe"
      },
      "id": "BqIIK3KXUuWe"
    },
    {
      "cell_type": "markdown",
      "source": [
        "Mas de `2/3` de las propiedades en el conjunto de datos de airbnb contienen espacio para estacionar"
      ],
      "metadata": {
        "id": "9Cj5xlmYVBLM"
      },
      "id": "9Cj5xlmYVBLM"
    },
    {
      "cell_type": "code",
      "source": [
        "def naive_parking_detector(s):\n",
        "  \"\"\"\n",
        "  Naive check to validate if an airbnb property includes parking space.\n",
        "  It assumes that the word 'parking' is not preceded or followed by a negative\n",
        "  modifier, such as 'no parking' or 'parking forbidden'. \n",
        "  Also, performance is not considered as a factor.\n",
        "  \"\"\"\n",
        "  r = s.replace(\"{\", \"\").replace(\"}\", \"\")\\\n",
        "  .replace('\"','').lower()\n",
        "\n",
        "  return 'parking' in r.lower()\n",
        "\n",
        "airbnb_df['car'] = airbnb_df.amenities.apply(naive_parking_detector)\n",
        "airbnb_df.car.value_counts()"
      ],
      "metadata": {
        "id": "DlziP26lVVt8",
        "colab": {
          "base_uri": "https://localhost:8080/"
        },
        "outputId": "932bd89e-2a16-4de0-90c8-4f1693d997e7"
      },
      "id": "DlziP26lVVt8",
      "execution_count": 83,
      "outputs": [
        {
          "output_type": "execute_result",
          "data": {
            "text/plain": [
              "True     16815\n",
              "False     6080\n",
              "Name: car, dtype: int64"
            ]
          },
          "metadata": {},
          "execution_count": 83
        }
      ]
    },
    {
      "cell_type": "markdown",
      "source": [
        "En el conjunto de datos de Melbourne, la proporción es aún mas alta."
      ],
      "metadata": {
        "id": "W8WZdmxeVWPH"
      },
      "id": "W8WZdmxeVWPH"
    },
    {
      "cell_type": "code",
      "source": [
        "print(len(melb_df))\n",
        "len(melb_df[melb_df.Car > 0])"
      ],
      "metadata": {
        "id": "xjCuXDlUVH6d",
        "colab": {
          "base_uri": "https://localhost:8080/"
        },
        "outputId": "c2cb4ef2-656c-4d21-cf91-3306beeb854c"
      },
      "id": "xjCuXDlUVH6d",
      "execution_count": 84,
      "outputs": [
        {
          "output_type": "stream",
          "name": "stdout",
          "text": [
            "13580\n"
          ]
        },
        {
          "output_type": "execute_result",
          "data": {
            "text/plain": [
              "12492"
            ]
          },
          "metadata": {},
          "execution_count": 84
        }
      ]
    }
  ],
  "metadata": {
    "kernelspec": {
      "display_name": "Python 3",
      "language": "python",
      "name": "python3"
    },
    "language_info": {
      "codemirror_mode": {
        "name": "ipython",
        "version": 3
      },
      "file_extension": ".py",
      "mimetype": "text/x-python",
      "name": "python",
      "nbconvert_exporter": "python",
      "pygments_lexer": "ipython3",
      "version": "3.8.8"
    },
    "colab": {
      "name": "CuraciondeDatos_entregable_parte_1y2_reversionado.ipynb",
      "provenance": [],
      "collapsed_sections": [
        "t50-CKAiKjJw",
        "77CD1rp_sdOR",
        "aMSsoHQnhWtA",
        "Dz-Yctt2L9yj",
        "XgFGW5zdZvuy",
        "wxTYpO5QPgUt",
        "f7aWpxNrUp31",
        "BqIIK3KXUuWe"
      ],
      "toc_visible": true,
      "include_colab_link": true
    }
  },
  "nbformat": 4,
  "nbformat_minor": 5
}