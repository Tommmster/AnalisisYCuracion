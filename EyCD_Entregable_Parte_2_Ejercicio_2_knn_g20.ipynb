{
  "nbformat": 4,
  "nbformat_minor": 0,
  "metadata": {
    "colab": {
      "name": "EyCD_Entregable_Parte_2_Ejercicio_1_g20.ipynb",
      "provenance": [],
      "collapsed_sections": [],
      "include_colab_link": true
    },
    "kernelspec": {
      "name": "python3",
      "display_name": "Python 3"
    },
    "language_info": {
      "name": "python"
    },
    "accelerator": "GPU",
    "gpuClass": "standard"
  },
  "cells": [
    {
      "cell_type": "markdown",
      "metadata": {
        "id": "view-in-github",
        "colab_type": "text"
      },
      "source": [
        "<a href=\"https://colab.research.google.com/github/Tommmster/AnalisisYCuracion/blob/master/EyCD_Entregable_Parte_2_Ejercicio_2_knn_g20.ipynb\" target=\"_parent\"><img src=\"https://colab.research.google.com/assets/colab-badge.svg\" alt=\"Open In Colab\"/></a>"
      ]
    },
    {
      "cell_type": "markdown",
      "metadata": {
        "id": "zO4bRoxr2Apy"
      },
      "source": [
        "\n",
        "**Diplomatura en Ciencia de Datos, Aprendizaje Automático y sus Aplicaciones**\n",
        "\n",
        "**Exploración y Curación de Datos**\n",
        "\n",
        "**Edición 2022**\n",
        "\n",
        "---\n",
        "## **Trabajo práctico entregable - Parte 2**\n",
        "---\n",
        "\n",
        "## **Grupo 20**\n",
        "\n",
        "**Integrantes:** Fanny Ruales, Gastón Briozzo, Tomás Niño Kehoe\n",
        "\n",
        "**Profesor de Práctico:** Alejandro García\n",
        "\n",
        "\n",
        "En el ejercicio 2 de la parte 1 del entregable seleccionaron las filas y columnas relevantes al problema de predicción de precios de una propiedad e imputaron los valores faltantes de las columnas `Suburb` y las columnas obtenidas a partir del conjunto de datos `airbnb`.\n",
        "\n",
        "En esta notebook, **se utilizará resultado de dichas operaciones.** que fue guardado en un archivo (Ejercicio 3 entregable 1). \n"
      ]
    },
    {
      "cell_type": "code",
      "metadata": {
        "id": "4udjxjk1EtVU"
      },
      "source": [
        "import matplotlib.pyplot as plt\n",
        "import numpy as np\n",
        "import pandas as pd\n",
        "\n",
        "import seaborn\n",
        "seaborn.set_context('talk')"
      ],
      "execution_count": 1,
      "outputs": []
    },
    {
      "cell_type": "code",
      "metadata": {
        "colab": {
          "base_uri": "https://localhost:8080/",
          "height": 306
        },
        "id": "_qeFN3GnEvMk",
        "outputId": "4726ba65-b8e4-4081-9c01-f3ba069e0364"
      },
      "source": [
        "# Acá deberían leer el conjunto de datos que ya tienen.\n",
        "melb_df = pd.read_csv('melb_data_extended.csv')\n",
        "melb_df[:3]"
      ],
      "execution_count": 2,
      "outputs": [
        {
          "output_type": "execute_result",
          "data": {
            "text/plain": [
              "       Suburb          Address  Rooms Type      Price Method SellerG  \\\n",
              "0  Abbotsford     85 Turner St      2    h  1480000.0      S  Biggin   \n",
              "1  Abbotsford  25 Bloomburg St      2    h  1035000.0      S  Biggin   \n",
              "2  Abbotsford     5 Charles St      3    h  1465000.0     SP  Biggin   \n",
              "\n",
              "        Date  Distance  Postcode  ...  CouncilArea  Lattitude  Longtitude  \\\n",
              "0  3/12/2016       2.5    3067.0  ...        Yarra   -37.7996    144.9984   \n",
              "1  4/02/2016       2.5    3067.0  ...        Yarra   -37.8079    144.9934   \n",
              "2  4/03/2017       2.5    3067.0  ...        Yarra   -37.8093    144.9944   \n",
              "\n",
              "              Regionname  Propertycount  zipcode airbnb_price_mean  \\\n",
              "0  Northern Metropolitan         4019.0   3067.0        130.624031   \n",
              "1  Northern Metropolitan         4019.0   3067.0        130.624031   \n",
              "2  Northern Metropolitan         4019.0   3067.0        130.624031   \n",
              "\n",
              "   airbnb_record_count  airbnb_weekly_price_mean airbnb_monthly_price_mean  \n",
              "0                258.0                605.152174               2187.032258  \n",
              "1                258.0                605.152174               2187.032258  \n",
              "2                258.0                605.152174               2187.032258  \n",
              "\n",
              "[3 rows x 26 columns]"
            ],
            "text/html": [
              "\n",
              "  <div id=\"df-d1cc0ab6-726f-4d18-bc5e-6c6b004dc342\">\n",
              "    <div class=\"colab-df-container\">\n",
              "      <div>\n",
              "<style scoped>\n",
              "    .dataframe tbody tr th:only-of-type {\n",
              "        vertical-align: middle;\n",
              "    }\n",
              "\n",
              "    .dataframe tbody tr th {\n",
              "        vertical-align: top;\n",
              "    }\n",
              "\n",
              "    .dataframe thead th {\n",
              "        text-align: right;\n",
              "    }\n",
              "</style>\n",
              "<table border=\"1\" class=\"dataframe\">\n",
              "  <thead>\n",
              "    <tr style=\"text-align: right;\">\n",
              "      <th></th>\n",
              "      <th>Suburb</th>\n",
              "      <th>Address</th>\n",
              "      <th>Rooms</th>\n",
              "      <th>Type</th>\n",
              "      <th>Price</th>\n",
              "      <th>Method</th>\n",
              "      <th>SellerG</th>\n",
              "      <th>Date</th>\n",
              "      <th>Distance</th>\n",
              "      <th>Postcode</th>\n",
              "      <th>...</th>\n",
              "      <th>CouncilArea</th>\n",
              "      <th>Lattitude</th>\n",
              "      <th>Longtitude</th>\n",
              "      <th>Regionname</th>\n",
              "      <th>Propertycount</th>\n",
              "      <th>zipcode</th>\n",
              "      <th>airbnb_price_mean</th>\n",
              "      <th>airbnb_record_count</th>\n",
              "      <th>airbnb_weekly_price_mean</th>\n",
              "      <th>airbnb_monthly_price_mean</th>\n",
              "    </tr>\n",
              "  </thead>\n",
              "  <tbody>\n",
              "    <tr>\n",
              "      <th>0</th>\n",
              "      <td>Abbotsford</td>\n",
              "      <td>85 Turner St</td>\n",
              "      <td>2</td>\n",
              "      <td>h</td>\n",
              "      <td>1480000.0</td>\n",
              "      <td>S</td>\n",
              "      <td>Biggin</td>\n",
              "      <td>3/12/2016</td>\n",
              "      <td>2.5</td>\n",
              "      <td>3067.0</td>\n",
              "      <td>...</td>\n",
              "      <td>Yarra</td>\n",
              "      <td>-37.7996</td>\n",
              "      <td>144.9984</td>\n",
              "      <td>Northern Metropolitan</td>\n",
              "      <td>4019.0</td>\n",
              "      <td>3067.0</td>\n",
              "      <td>130.624031</td>\n",
              "      <td>258.0</td>\n",
              "      <td>605.152174</td>\n",
              "      <td>2187.032258</td>\n",
              "    </tr>\n",
              "    <tr>\n",
              "      <th>1</th>\n",
              "      <td>Abbotsford</td>\n",
              "      <td>25 Bloomburg St</td>\n",
              "      <td>2</td>\n",
              "      <td>h</td>\n",
              "      <td>1035000.0</td>\n",
              "      <td>S</td>\n",
              "      <td>Biggin</td>\n",
              "      <td>4/02/2016</td>\n",
              "      <td>2.5</td>\n",
              "      <td>3067.0</td>\n",
              "      <td>...</td>\n",
              "      <td>Yarra</td>\n",
              "      <td>-37.8079</td>\n",
              "      <td>144.9934</td>\n",
              "      <td>Northern Metropolitan</td>\n",
              "      <td>4019.0</td>\n",
              "      <td>3067.0</td>\n",
              "      <td>130.624031</td>\n",
              "      <td>258.0</td>\n",
              "      <td>605.152174</td>\n",
              "      <td>2187.032258</td>\n",
              "    </tr>\n",
              "    <tr>\n",
              "      <th>2</th>\n",
              "      <td>Abbotsford</td>\n",
              "      <td>5 Charles St</td>\n",
              "      <td>3</td>\n",
              "      <td>h</td>\n",
              "      <td>1465000.0</td>\n",
              "      <td>SP</td>\n",
              "      <td>Biggin</td>\n",
              "      <td>4/03/2017</td>\n",
              "      <td>2.5</td>\n",
              "      <td>3067.0</td>\n",
              "      <td>...</td>\n",
              "      <td>Yarra</td>\n",
              "      <td>-37.8093</td>\n",
              "      <td>144.9944</td>\n",
              "      <td>Northern Metropolitan</td>\n",
              "      <td>4019.0</td>\n",
              "      <td>3067.0</td>\n",
              "      <td>130.624031</td>\n",
              "      <td>258.0</td>\n",
              "      <td>605.152174</td>\n",
              "      <td>2187.032258</td>\n",
              "    </tr>\n",
              "  </tbody>\n",
              "</table>\n",
              "<p>3 rows × 26 columns</p>\n",
              "</div>\n",
              "      <button class=\"colab-df-convert\" onclick=\"convertToInteractive('df-d1cc0ab6-726f-4d18-bc5e-6c6b004dc342')\"\n",
              "              title=\"Convert this dataframe to an interactive table.\"\n",
              "              style=\"display:none;\">\n",
              "        \n",
              "  <svg xmlns=\"http://www.w3.org/2000/svg\" height=\"24px\"viewBox=\"0 0 24 24\"\n",
              "       width=\"24px\">\n",
              "    <path d=\"M0 0h24v24H0V0z\" fill=\"none\"/>\n",
              "    <path d=\"M18.56 5.44l.94 2.06.94-2.06 2.06-.94-2.06-.94-.94-2.06-.94 2.06-2.06.94zm-11 1L8.5 8.5l.94-2.06 2.06-.94-2.06-.94L8.5 2.5l-.94 2.06-2.06.94zm10 10l.94 2.06.94-2.06 2.06-.94-2.06-.94-.94-2.06-.94 2.06-2.06.94z\"/><path d=\"M17.41 7.96l-1.37-1.37c-.4-.4-.92-.59-1.43-.59-.52 0-1.04.2-1.43.59L10.3 9.45l-7.72 7.72c-.78.78-.78 2.05 0 2.83L4 21.41c.39.39.9.59 1.41.59.51 0 1.02-.2 1.41-.59l7.78-7.78 2.81-2.81c.8-.78.8-2.07 0-2.86zM5.41 20L4 18.59l7.72-7.72 1.47 1.35L5.41 20z\"/>\n",
              "  </svg>\n",
              "      </button>\n",
              "      \n",
              "  <style>\n",
              "    .colab-df-container {\n",
              "      display:flex;\n",
              "      flex-wrap:wrap;\n",
              "      gap: 12px;\n",
              "    }\n",
              "\n",
              "    .colab-df-convert {\n",
              "      background-color: #E8F0FE;\n",
              "      border: none;\n",
              "      border-radius: 50%;\n",
              "      cursor: pointer;\n",
              "      display: none;\n",
              "      fill: #1967D2;\n",
              "      height: 32px;\n",
              "      padding: 0 0 0 0;\n",
              "      width: 32px;\n",
              "    }\n",
              "\n",
              "    .colab-df-convert:hover {\n",
              "      background-color: #E2EBFA;\n",
              "      box-shadow: 0px 1px 2px rgba(60, 64, 67, 0.3), 0px 1px 3px 1px rgba(60, 64, 67, 0.15);\n",
              "      fill: #174EA6;\n",
              "    }\n",
              "\n",
              "    [theme=dark] .colab-df-convert {\n",
              "      background-color: #3B4455;\n",
              "      fill: #D2E3FC;\n",
              "    }\n",
              "\n",
              "    [theme=dark] .colab-df-convert:hover {\n",
              "      background-color: #434B5C;\n",
              "      box-shadow: 0px 1px 3px 1px rgba(0, 0, 0, 0.15);\n",
              "      filter: drop-shadow(0px 1px 2px rgba(0, 0, 0, 0.3));\n",
              "      fill: #FFFFFF;\n",
              "    }\n",
              "  </style>\n",
              "\n",
              "      <script>\n",
              "        const buttonEl =\n",
              "          document.querySelector('#df-d1cc0ab6-726f-4d18-bc5e-6c6b004dc342 button.colab-df-convert');\n",
              "        buttonEl.style.display =\n",
              "          google.colab.kernel.accessAllowed ? 'block' : 'none';\n",
              "\n",
              "        async function convertToInteractive(key) {\n",
              "          const element = document.querySelector('#df-d1cc0ab6-726f-4d18-bc5e-6c6b004dc342');\n",
              "          const dataTable =\n",
              "            await google.colab.kernel.invokeFunction('convertToInteractive',\n",
              "                                                     [key], {});\n",
              "          if (!dataTable) return;\n",
              "\n",
              "          const docLinkHtml = 'Like what you see? Visit the ' +\n",
              "            '<a target=\"_blank\" href=https://colab.research.google.com/notebooks/data_table.ipynb>data table notebook</a>'\n",
              "            + ' to learn more about interactive tables.';\n",
              "          element.innerHTML = '';\n",
              "          dataTable['output_type'] = 'display_data';\n",
              "          await google.colab.output.renderOutput(dataTable, element);\n",
              "          const docLink = document.createElement('div');\n",
              "          docLink.innerHTML = docLinkHtml;\n",
              "          element.appendChild(docLink);\n",
              "        }\n",
              "      </script>\n",
              "    </div>\n",
              "  </div>\n",
              "  "
            ]
          },
          "metadata": {},
          "execution_count": 2
        }
      ]
    },
    {
      "cell_type": "markdown",
      "metadata": {
        "id": "s-mixICN22kA"
      },
      "source": [
        "## Ejercicio 1: Encoding\n",
        "\n",
        "1. Seleccionar todas las filas y columnas del conjunto de datos obtenido en la parte 1 del entregable, **excepto** `BuildingArea` y `YearBuilt`, que volveremos a imputar más adelante.\n",
        "\n",
        "2. Aplicar una codificación One-hot encoding a cada fila, tanto para variables numéricas como categóricas. Si lo consideran necesario, pueden volver a reducir el número de categorías únicas.\n",
        "\n",
        "Algunas opciones:\n",
        "  1. Utilizar `OneHotEncoder` junto con el parámetro `categories` para las variables categóricas y luego usar `numpy.hstack` para concatenar el resultado con las variables numéricas. \n",
        "  2. `DictVectorizer` con algunos pasos de pre-proceso previo.\n",
        "\n",
        "Recordar también que el atributo `pandas.DataFrame.values` permite acceder a la matriz de numpy subyacente a un DataFrame.\n"
      ]
    },
    {
      "cell_type": "markdown",
      "source": [
        "### 1.1. Seleccionar todas las filas y columnas del conjunto de datos obtenido en la parte 1 del entregable, excepto BuildingArea y YearBuilt, que volveremos a imputar más adelante."
      ],
      "metadata": {
        "id": "Zej38VOEXHYE"
      }
    },
    {
      "cell_type": "code",
      "source": [
        "#df = melb_df\n",
        "df = melb_df.drop(['BuildingArea', 'YearBuilt'], axis=1, inplace=False)\n",
        "print(df.columns)\n",
        "df[:3]"
      ],
      "metadata": {
        "colab": {
          "base_uri": "https://localhost:8080/",
          "height": 417
        },
        "id": "GMHVVCgKXR4h",
        "outputId": "d6e02c7c-0696-443c-b16d-7a07c155d29a"
      },
      "execution_count": 3,
      "outputs": [
        {
          "output_type": "stream",
          "name": "stdout",
          "text": [
            "Index(['Suburb', 'Address', 'Rooms', 'Type', 'Price', 'Method', 'SellerG',\n",
            "       'Date', 'Distance', 'Postcode', 'Bedroom2', 'Bathroom', 'Car',\n",
            "       'Landsize', 'CouncilArea', 'Lattitude', 'Longtitude', 'Regionname',\n",
            "       'Propertycount', 'zipcode', 'airbnb_price_mean', 'airbnb_record_count',\n",
            "       'airbnb_weekly_price_mean', 'airbnb_monthly_price_mean'],\n",
            "      dtype='object')\n"
          ]
        },
        {
          "output_type": "execute_result",
          "data": {
            "text/plain": [
              "       Suburb          Address  Rooms Type      Price Method SellerG  \\\n",
              "0  Abbotsford     85 Turner St      2    h  1480000.0      S  Biggin   \n",
              "1  Abbotsford  25 Bloomburg St      2    h  1035000.0      S  Biggin   \n",
              "2  Abbotsford     5 Charles St      3    h  1465000.0     SP  Biggin   \n",
              "\n",
              "        Date  Distance  Postcode  ...  CouncilArea  Lattitude  Longtitude  \\\n",
              "0  3/12/2016       2.5    3067.0  ...        Yarra   -37.7996    144.9984   \n",
              "1  4/02/2016       2.5    3067.0  ...        Yarra   -37.8079    144.9934   \n",
              "2  4/03/2017       2.5    3067.0  ...        Yarra   -37.8093    144.9944   \n",
              "\n",
              "              Regionname Propertycount  zipcode  airbnb_price_mean  \\\n",
              "0  Northern Metropolitan        4019.0   3067.0         130.624031   \n",
              "1  Northern Metropolitan        4019.0   3067.0         130.624031   \n",
              "2  Northern Metropolitan        4019.0   3067.0         130.624031   \n",
              "\n",
              "  airbnb_record_count  airbnb_weekly_price_mean  airbnb_monthly_price_mean  \n",
              "0               258.0                605.152174                2187.032258  \n",
              "1               258.0                605.152174                2187.032258  \n",
              "2               258.0                605.152174                2187.032258  \n",
              "\n",
              "[3 rows x 24 columns]"
            ],
            "text/html": [
              "\n",
              "  <div id=\"df-d589813a-9f79-4a1d-8544-83865fbdddf4\">\n",
              "    <div class=\"colab-df-container\">\n",
              "      <div>\n",
              "<style scoped>\n",
              "    .dataframe tbody tr th:only-of-type {\n",
              "        vertical-align: middle;\n",
              "    }\n",
              "\n",
              "    .dataframe tbody tr th {\n",
              "        vertical-align: top;\n",
              "    }\n",
              "\n",
              "    .dataframe thead th {\n",
              "        text-align: right;\n",
              "    }\n",
              "</style>\n",
              "<table border=\"1\" class=\"dataframe\">\n",
              "  <thead>\n",
              "    <tr style=\"text-align: right;\">\n",
              "      <th></th>\n",
              "      <th>Suburb</th>\n",
              "      <th>Address</th>\n",
              "      <th>Rooms</th>\n",
              "      <th>Type</th>\n",
              "      <th>Price</th>\n",
              "      <th>Method</th>\n",
              "      <th>SellerG</th>\n",
              "      <th>Date</th>\n",
              "      <th>Distance</th>\n",
              "      <th>Postcode</th>\n",
              "      <th>...</th>\n",
              "      <th>CouncilArea</th>\n",
              "      <th>Lattitude</th>\n",
              "      <th>Longtitude</th>\n",
              "      <th>Regionname</th>\n",
              "      <th>Propertycount</th>\n",
              "      <th>zipcode</th>\n",
              "      <th>airbnb_price_mean</th>\n",
              "      <th>airbnb_record_count</th>\n",
              "      <th>airbnb_weekly_price_mean</th>\n",
              "      <th>airbnb_monthly_price_mean</th>\n",
              "    </tr>\n",
              "  </thead>\n",
              "  <tbody>\n",
              "    <tr>\n",
              "      <th>0</th>\n",
              "      <td>Abbotsford</td>\n",
              "      <td>85 Turner St</td>\n",
              "      <td>2</td>\n",
              "      <td>h</td>\n",
              "      <td>1480000.0</td>\n",
              "      <td>S</td>\n",
              "      <td>Biggin</td>\n",
              "      <td>3/12/2016</td>\n",
              "      <td>2.5</td>\n",
              "      <td>3067.0</td>\n",
              "      <td>...</td>\n",
              "      <td>Yarra</td>\n",
              "      <td>-37.7996</td>\n",
              "      <td>144.9984</td>\n",
              "      <td>Northern Metropolitan</td>\n",
              "      <td>4019.0</td>\n",
              "      <td>3067.0</td>\n",
              "      <td>130.624031</td>\n",
              "      <td>258.0</td>\n",
              "      <td>605.152174</td>\n",
              "      <td>2187.032258</td>\n",
              "    </tr>\n",
              "    <tr>\n",
              "      <th>1</th>\n",
              "      <td>Abbotsford</td>\n",
              "      <td>25 Bloomburg St</td>\n",
              "      <td>2</td>\n",
              "      <td>h</td>\n",
              "      <td>1035000.0</td>\n",
              "      <td>S</td>\n",
              "      <td>Biggin</td>\n",
              "      <td>4/02/2016</td>\n",
              "      <td>2.5</td>\n",
              "      <td>3067.0</td>\n",
              "      <td>...</td>\n",
              "      <td>Yarra</td>\n",
              "      <td>-37.8079</td>\n",
              "      <td>144.9934</td>\n",
              "      <td>Northern Metropolitan</td>\n",
              "      <td>4019.0</td>\n",
              "      <td>3067.0</td>\n",
              "      <td>130.624031</td>\n",
              "      <td>258.0</td>\n",
              "      <td>605.152174</td>\n",
              "      <td>2187.032258</td>\n",
              "    </tr>\n",
              "    <tr>\n",
              "      <th>2</th>\n",
              "      <td>Abbotsford</td>\n",
              "      <td>5 Charles St</td>\n",
              "      <td>3</td>\n",
              "      <td>h</td>\n",
              "      <td>1465000.0</td>\n",
              "      <td>SP</td>\n",
              "      <td>Biggin</td>\n",
              "      <td>4/03/2017</td>\n",
              "      <td>2.5</td>\n",
              "      <td>3067.0</td>\n",
              "      <td>...</td>\n",
              "      <td>Yarra</td>\n",
              "      <td>-37.8093</td>\n",
              "      <td>144.9944</td>\n",
              "      <td>Northern Metropolitan</td>\n",
              "      <td>4019.0</td>\n",
              "      <td>3067.0</td>\n",
              "      <td>130.624031</td>\n",
              "      <td>258.0</td>\n",
              "      <td>605.152174</td>\n",
              "      <td>2187.032258</td>\n",
              "    </tr>\n",
              "  </tbody>\n",
              "</table>\n",
              "<p>3 rows × 24 columns</p>\n",
              "</div>\n",
              "      <button class=\"colab-df-convert\" onclick=\"convertToInteractive('df-d589813a-9f79-4a1d-8544-83865fbdddf4')\"\n",
              "              title=\"Convert this dataframe to an interactive table.\"\n",
              "              style=\"display:none;\">\n",
              "        \n",
              "  <svg xmlns=\"http://www.w3.org/2000/svg\" height=\"24px\"viewBox=\"0 0 24 24\"\n",
              "       width=\"24px\">\n",
              "    <path d=\"M0 0h24v24H0V0z\" fill=\"none\"/>\n",
              "    <path d=\"M18.56 5.44l.94 2.06.94-2.06 2.06-.94-2.06-.94-.94-2.06-.94 2.06-2.06.94zm-11 1L8.5 8.5l.94-2.06 2.06-.94-2.06-.94L8.5 2.5l-.94 2.06-2.06.94zm10 10l.94 2.06.94-2.06 2.06-.94-2.06-.94-.94-2.06-.94 2.06-2.06.94z\"/><path d=\"M17.41 7.96l-1.37-1.37c-.4-.4-.92-.59-1.43-.59-.52 0-1.04.2-1.43.59L10.3 9.45l-7.72 7.72c-.78.78-.78 2.05 0 2.83L4 21.41c.39.39.9.59 1.41.59.51 0 1.02-.2 1.41-.59l7.78-7.78 2.81-2.81c.8-.78.8-2.07 0-2.86zM5.41 20L4 18.59l7.72-7.72 1.47 1.35L5.41 20z\"/>\n",
              "  </svg>\n",
              "      </button>\n",
              "      \n",
              "  <style>\n",
              "    .colab-df-container {\n",
              "      display:flex;\n",
              "      flex-wrap:wrap;\n",
              "      gap: 12px;\n",
              "    }\n",
              "\n",
              "    .colab-df-convert {\n",
              "      background-color: #E8F0FE;\n",
              "      border: none;\n",
              "      border-radius: 50%;\n",
              "      cursor: pointer;\n",
              "      display: none;\n",
              "      fill: #1967D2;\n",
              "      height: 32px;\n",
              "      padding: 0 0 0 0;\n",
              "      width: 32px;\n",
              "    }\n",
              "\n",
              "    .colab-df-convert:hover {\n",
              "      background-color: #E2EBFA;\n",
              "      box-shadow: 0px 1px 2px rgba(60, 64, 67, 0.3), 0px 1px 3px 1px rgba(60, 64, 67, 0.15);\n",
              "      fill: #174EA6;\n",
              "    }\n",
              "\n",
              "    [theme=dark] .colab-df-convert {\n",
              "      background-color: #3B4455;\n",
              "      fill: #D2E3FC;\n",
              "    }\n",
              "\n",
              "    [theme=dark] .colab-df-convert:hover {\n",
              "      background-color: #434B5C;\n",
              "      box-shadow: 0px 1px 3px 1px rgba(0, 0, 0, 0.15);\n",
              "      filter: drop-shadow(0px 1px 2px rgba(0, 0, 0, 0.3));\n",
              "      fill: #FFFFFF;\n",
              "    }\n",
              "  </style>\n",
              "\n",
              "      <script>\n",
              "        const buttonEl =\n",
              "          document.querySelector('#df-d589813a-9f79-4a1d-8544-83865fbdddf4 button.colab-df-convert');\n",
              "        buttonEl.style.display =\n",
              "          google.colab.kernel.accessAllowed ? 'block' : 'none';\n",
              "\n",
              "        async function convertToInteractive(key) {\n",
              "          const element = document.querySelector('#df-d589813a-9f79-4a1d-8544-83865fbdddf4');\n",
              "          const dataTable =\n",
              "            await google.colab.kernel.invokeFunction('convertToInteractive',\n",
              "                                                     [key], {});\n",
              "          if (!dataTable) return;\n",
              "\n",
              "          const docLinkHtml = 'Like what you see? Visit the ' +\n",
              "            '<a target=\"_blank\" href=https://colab.research.google.com/notebooks/data_table.ipynb>data table notebook</a>'\n",
              "            + ' to learn more about interactive tables.';\n",
              "          element.innerHTML = '';\n",
              "          dataTable['output_type'] = 'display_data';\n",
              "          await google.colab.output.renderOutput(dataTable, element);\n",
              "          const docLink = document.createElement('div');\n",
              "          docLink.innerHTML = docLinkHtml;\n",
              "          element.appendChild(docLink);\n",
              "        }\n",
              "      </script>\n",
              "    </div>\n",
              "  </div>\n",
              "  "
            ]
          },
          "metadata": {},
          "execution_count": 3
        }
      ]
    },
    {
      "cell_type": "markdown",
      "source": [
        "### 1.2. Aplicar una codificación One-hot encoding a cada fila, tanto para variables numéricas como categóricas. Si lo consideran necesario, pueden volver a reducir el número de categorías únicas."
      ],
      "metadata": {
        "id": "qwY3-g_xZI96"
      }
    },
    {
      "cell_type": "code",
      "source": [
        "## A partir de los tipos de columa los podemos separar en features numericos y categoricos (al menos aproximadamente)\n",
        "df.info()"
      ],
      "metadata": {
        "colab": {
          "base_uri": "https://localhost:8080/"
        },
        "id": "4OWdtS4XVVEf",
        "outputId": "35e73695-132e-4cc3-ca73-4f59079b45ea"
      },
      "execution_count": 4,
      "outputs": [
        {
          "output_type": "stream",
          "name": "stdout",
          "text": [
            "<class 'pandas.core.frame.DataFrame'>\n",
            "RangeIndex: 13580 entries, 0 to 13579\n",
            "Data columns (total 24 columns):\n",
            " #   Column                     Non-Null Count  Dtype  \n",
            "---  ------                     --------------  -----  \n",
            " 0   Suburb                     13580 non-null  object \n",
            " 1   Address                    13580 non-null  object \n",
            " 2   Rooms                      13580 non-null  int64  \n",
            " 3   Type                       13580 non-null  object \n",
            " 4   Price                      13580 non-null  float64\n",
            " 5   Method                     13580 non-null  object \n",
            " 6   SellerG                    13580 non-null  object \n",
            " 7   Date                       13580 non-null  object \n",
            " 8   Distance                   13580 non-null  float64\n",
            " 9   Postcode                   13580 non-null  float64\n",
            " 10  Bedroom2                   13580 non-null  float64\n",
            " 11  Bathroom                   13580 non-null  float64\n",
            " 12  Car                        13518 non-null  float64\n",
            " 13  Landsize                   13580 non-null  float64\n",
            " 14  CouncilArea                12211 non-null  object \n",
            " 15  Lattitude                  13580 non-null  float64\n",
            " 16  Longtitude                 13580 non-null  float64\n",
            " 17  Regionname                 13580 non-null  object \n",
            " 18  Propertycount              13580 non-null  float64\n",
            " 19  zipcode                    13560 non-null  float64\n",
            " 20  airbnb_price_mean          13560 non-null  float64\n",
            " 21  airbnb_record_count        13560 non-null  float64\n",
            " 22  airbnb_weekly_price_mean   12705 non-null  float64\n",
            " 23  airbnb_monthly_price_mean  12312 non-null  float64\n",
            "dtypes: float64(15), int64(1), object(8)\n",
            "memory usage: 2.5+ MB\n"
          ]
        }
      ]
    },
    {
      "cell_type": "code",
      "source": [
        "vs = df.columns.to_series().groupby(df.dtypes).groups\n",
        "vs"
      ],
      "metadata": {
        "colab": {
          "base_uri": "https://localhost:8080/"
        },
        "id": "IjvYClrIWMKJ",
        "outputId": "eebbaa0d-c0c6-42ae-eab3-612f0136a1eb"
      },
      "execution_count": 5,
      "outputs": [
        {
          "output_type": "execute_result",
          "data": {
            "text/plain": [
              "{int64: ['Rooms'], float64: ['Price', 'Distance', 'Postcode', 'Bedroom2', 'Bathroom', 'Car', 'Landsize', 'Lattitude', 'Longtitude', 'Propertycount', 'zipcode', 'airbnb_price_mean', 'airbnb_record_count', 'airbnb_weekly_price_mean', 'airbnb_monthly_price_mean'], object: ['Suburb', 'Address', 'Type', 'Method', 'SellerG', 'Date', 'CouncilArea', 'Regionname']}"
            ]
          },
          "metadata": {},
          "execution_count": 5
        }
      ]
    },
    {
      "cell_type": "code",
      "source": [
        "non_numeric_cols = ['zipcode', 'Postcode']"
      ],
      "metadata": {
        "id": "IUOplWQNkkSr"
      },
      "execution_count": 6,
      "outputs": []
    },
    {
      "cell_type": "code",
      "source": [
        "protonumeric = np.append(vs[np.dtype('float64')].values, vs[np.dtype('int64')].values)\n",
        "numeric = [n for n in protonumeric if n not in non_numeric_cols]\n",
        "numeric"
      ],
      "metadata": {
        "colab": {
          "base_uri": "https://localhost:8080/"
        },
        "id": "BI1EJx8rZgB1",
        "outputId": "61a7e1e5-1a6d-4280-869d-475a4bb0558c"
      },
      "execution_count": 7,
      "outputs": [
        {
          "output_type": "execute_result",
          "data": {
            "text/plain": [
              "['Price',\n",
              " 'Distance',\n",
              " 'Bedroom2',\n",
              " 'Bathroom',\n",
              " 'Car',\n",
              " 'Landsize',\n",
              " 'Lattitude',\n",
              " 'Longtitude',\n",
              " 'Propertycount',\n",
              " 'airbnb_price_mean',\n",
              " 'airbnb_record_count',\n",
              " 'airbnb_weekly_price_mean',\n",
              " 'airbnb_monthly_price_mean',\n",
              " 'Rooms']"
            ]
          },
          "metadata": {},
          "execution_count": 7
        }
      ]
    },
    {
      "cell_type": "code",
      "source": [
        "categorical = vs[np.dtype('O')]\n",
        "categorical = np.append(categorical, non_numeric_cols)\n",
        "categorical"
      ],
      "metadata": {
        "colab": {
          "base_uri": "https://localhost:8080/"
        },
        "id": "Be5v70F5bgGn",
        "outputId": "b04beb52-5548-4da3-82a8-8928880dbe46"
      },
      "execution_count": 8,
      "outputs": [
        {
          "output_type": "execute_result",
          "data": {
            "text/plain": [
              "array(['Suburb', 'Address', 'Type', 'Method', 'SellerG', 'Date',\n",
              "       'CouncilArea', 'Regionname', 'zipcode', 'Postcode'], dtype=object)"
            ]
          },
          "metadata": {},
          "execution_count": 8
        }
      ]
    },
    {
      "cell_type": "code",
      "metadata": {
        "id": "K_Qk43aLIl4d"
      },
      "source": [
        "c_all = df.columns\n",
        "c_cat = categorical\n",
        "c_num = numeric"
      ],
      "execution_count": 9,
      "outputs": []
    },
    {
      "cell_type": "code",
      "metadata": {
        "colab": {
          "base_uri": "https://localhost:8080/"
        },
        "id": "oSNfW1BBJnV0",
        "outputId": "a22dae37-d4ba-4426-dfe9-43f39d4c1872"
      },
      "source": [
        "df[c_cat].nunique()"
      ],
      "execution_count": 10,
      "outputs": [
        {
          "output_type": "execute_result",
          "data": {
            "text/plain": [
              "Suburb           314\n",
              "Address        13378\n",
              "Type               3\n",
              "Method             5\n",
              "SellerG          268\n",
              "Date              58\n",
              "CouncilArea       33\n",
              "Regionname         8\n",
              "zipcode          191\n",
              "Postcode         198\n",
              "dtype: int64"
            ]
          },
          "metadata": {},
          "execution_count": 10
        }
      ]
    },
    {
      "cell_type": "code",
      "metadata": {
        "colab": {
          "base_uri": "https://localhost:8080/"
        },
        "id": "XPDDOVHNNywn",
        "outputId": "2b787ce6-6ddf-478e-892f-0f87570c8237"
      },
      "source": [
        "# Check for nulls\n",
        "df[c_cat].isna().sum()"
      ],
      "execution_count": 11,
      "outputs": [
        {
          "output_type": "execute_result",
          "data": {
            "text/plain": [
              "Suburb            0\n",
              "Address           0\n",
              "Type              0\n",
              "Method            0\n",
              "SellerG           0\n",
              "Date              0\n",
              "CouncilArea    1369\n",
              "Regionname        0\n",
              "zipcode          20\n",
              "Postcode          0\n",
              "dtype: int64"
            ]
          },
          "metadata": {},
          "execution_count": 11
        }
      ]
    },
    {
      "cell_type": "code",
      "source": [
        "from sklearn.preprocessing import OneHotEncoder\n",
        "\n",
        "encoder_sub = OneHotEncoder(sparse=False)\n",
        "encoder_sub.fit(df[['Suburb']])\n",
        "#print('Suburb')\n",
        "#print(encoder_sub.categories_)\n",
        "#print()\n",
        "\n",
        "encoder_typ = OneHotEncoder(sparse=False)\n",
        "encoder_typ.fit(df[['Type']])\n",
        "#print('Type')\n",
        "#print(encoder_typ.categories_)\n",
        "#print()\n",
        "\n",
        "encoder_met = OneHotEncoder(sparse=False)\n",
        "encoder_met.fit(df[['Method']])\n",
        "#print('Method')\n",
        "#print(encoder_met.categories_)\n",
        "#print()\n",
        "\n",
        "encoder_sel = OneHotEncoder(sparse=False)\n",
        "encoder_sel.fit(df[['SellerG']])\n",
        "#print('SellerG')\n",
        "#print(encoder_sel.categories_)\n",
        "#print()\n",
        "\n",
        "encoder_dat = OneHotEncoder(sparse=False)\n",
        "encoder_dat.fit(df[['Date']])\n",
        "#print('Date')\n",
        "#print(encoder_dat.categories_)\n",
        "#print()\n",
        "\n",
        "encoder_cou = OneHotEncoder(sparse=False)\n",
        "encoder_cou.fit(df[['CouncilArea']])\n",
        "#print('CouncilArea')\n",
        "#print(encoder_cou.categories_)\n",
        "#print()\n",
        "\n",
        "encoder_reg = OneHotEncoder(sparse=False)\n",
        "encoder_reg.fit(df[['Regionname']])\n",
        "#print('Regionname')\n",
        "#print(encoder_reg.categories_)\n",
        "#print()"
      ],
      "metadata": {
        "id": "be9_k-1Zao8h",
        "colab": {
          "base_uri": "https://localhost:8080/"
        },
        "outputId": "55a5ab03-0333-4dcf-cf0a-6bfab049ae8d"
      },
      "execution_count": 12,
      "outputs": [
        {
          "output_type": "execute_result",
          "data": {
            "text/plain": [
              "OneHotEncoder(sparse=False)"
            ]
          },
          "metadata": {},
          "execution_count": 12
        }
      ]
    },
    {
      "cell_type": "code",
      "source": [
        "et_sub = encoder_sub.transform(df[['Suburb']])\n",
        "et_typ = encoder_typ.transform(df[['Type']])\n",
        "et_met = encoder_met.transform(df[['Method']])\n",
        "et_sel = encoder_sel.transform(df[['SellerG']])\n",
        "et_dat = encoder_dat.transform(df[['Date']])\n",
        "et_cou = encoder_cou.transform(df[['CouncilArea']])\n",
        "et_reg = encoder_reg.transform(df[['Regionname']])\n",
        "\n",
        "et_sub[:5]"
      ],
      "metadata": {
        "id": "naHSDcEAnudS",
        "colab": {
          "base_uri": "https://localhost:8080/"
        },
        "outputId": "c8a6f7ce-0677-4fcb-ff48-7c75c11057a0"
      },
      "execution_count": 13,
      "outputs": [
        {
          "output_type": "execute_result",
          "data": {
            "text/plain": [
              "array([[1., 0., 0., ..., 0., 0., 0.],\n",
              "       [1., 0., 0., ..., 0., 0., 0.],\n",
              "       [1., 0., 0., ..., 0., 0., 0.],\n",
              "       [1., 0., 0., ..., 0., 0., 0.],\n",
              "       [1., 0., 0., ..., 0., 0., 0.]])"
            ]
          },
          "metadata": {},
          "execution_count": 13
        }
      ]
    },
    {
      "cell_type": "code",
      "source": [
        "from sklearn.pipeline import Pipeline\n",
        "from sklearn import preprocessing\n",
        "from sklearn.preprocessing import OneHotEncoder\n",
        "from sklearn.compose import ColumnTransformer\n",
        "\n",
        "#c_cat = ['Suburb', 'Type', 'Method', 'SellerG', 'Date', 'CouncilArea', 'Regionname']\n",
        "#c_num = ['Address', 'Rooms', 'Price', 'Distance', 'Postcode', 'Bedroom2', \n",
        "#         'Bathroom', 'Car', 'Landsize', 'Lattitude', 'Longtitude', \n",
        "#         'Propertycount', 'zipcode', 'airbnb_price_mean', 'airbnb_record_count',\n",
        "#         'airbnb_weekly_price_mean', 'airbnb_monthly_price_mean']\n",
        "\n",
        "categorical_cols = ['Type', 'Regionname','Suburb']\n",
        "numerical_cols = ['Rooms', 'Bathroom']\n",
        "melb_df_categoricas=df[categorical_cols]\n",
        "melb_df_numericas=df[numerical_cols]\n",
        "\n",
        "feature_cols = ['Type','Regionname','Suburb']\n",
        "TypeList=melb_df_categoricas['Type'].unique()\n",
        "RegionnameList=melb_df_categoricas['Regionname'].unique()\n",
        "SuburbList=melb_df_categoricas['Suburb'].unique()\n",
        "\n",
        "x = melb_df_categoricas.values  # genera un numpy.ndarray\n",
        "enc = preprocessing.OneHotEncoder(categories=[TypeList, RegionnameList, SuburbList])\n",
        "enc.fit(x)\n",
        "encoded_categoricas = enc.transform(melb_df_categoricas).toarray()\n",
        "\n",
        "encoded_categoricas[:3]\n",
        "enc.get_feature_names() "
      ],
      "metadata": {
        "colab": {
          "base_uri": "https://localhost:8080/"
        },
        "id": "vZQrahdyqaq9",
        "outputId": "f1728abc-209c-4ed3-a2be-90f486fd33a2"
      },
      "execution_count": 14,
      "outputs": [
        {
          "output_type": "stream",
          "name": "stderr",
          "text": [
            "/usr/local/lib/python3.7/dist-packages/sklearn/base.py:444: UserWarning: X has feature names, but OneHotEncoder was fitted without feature names\n",
            "  f\"X has feature names, but {self.__class__.__name__} was fitted without\"\n",
            "/usr/local/lib/python3.7/dist-packages/sklearn/utils/deprecation.py:87: FutureWarning: Function get_feature_names is deprecated; get_feature_names is deprecated in 1.0 and will be removed in 1.2. Please use get_feature_names_out instead.\n",
            "  warnings.warn(msg, category=FutureWarning)\n"
          ]
        },
        {
          "output_type": "execute_result",
          "data": {
            "text/plain": [
              "array(['x0_h', 'x0_u', 'x0_t', 'x1_Northern Metropolitan',\n",
              "       'x1_Western Metropolitan', 'x1_Southern Metropolitan',\n",
              "       'x1_Eastern Metropolitan', 'x1_South-Eastern Metropolitan',\n",
              "       'x1_Eastern Victoria', 'x1_Northern Victoria',\n",
              "       'x1_Western Victoria', 'x2_Abbotsford', 'x2_Airport West',\n",
              "       'x2_Albert Park', 'x2_Alphington', 'x2_Altona', 'x2_Altona North',\n",
              "       'x2_Armadale', 'x2_Ascot Vale', 'x2_Ashburton', 'x2_Ashwood',\n",
              "       'x2_Avondale Heights', 'x2_Balaclava', 'x2_Balwyn',\n",
              "       'x2_Balwyn North', 'x2_Bentleigh', 'x2_Bentleigh East',\n",
              "       'x2_Box Hill', 'x2_Braybrook', 'x2_Brighton', 'x2_Brighton East',\n",
              "       'x2_Brunswick', 'x2_Brunswick West', 'x2_Bulleen', 'x2_Burwood',\n",
              "       'x2_Camberwell', 'x2_Canterbury', 'x2_Carlton North',\n",
              "       'x2_Carnegie', 'x2_Caulfield', 'x2_Caulfield North',\n",
              "       'x2_Caulfield South', 'x2_Chadstone', 'x2_Clifton Hill',\n",
              "       'x2_Coburg', 'x2_Coburg North', 'x2_Collingwood', 'x2_Doncaster',\n",
              "       'x2_Eaglemont', 'x2_Elsternwick', 'x2_Elwood', 'x2_Essendon',\n",
              "       'x2_Essendon North', 'x2_Fairfield', 'x2_Fitzroy',\n",
              "       'x2_Fitzroy North', 'x2_Flemington', 'x2_Footscray',\n",
              "       'x2_Glen Iris', 'x2_Glenroy', 'x2_Gowanbrae', 'x2_Hadfield',\n",
              "       'x2_Hampton', 'x2_Hampton East', 'x2_Hawthorn',\n",
              "       'x2_Heidelberg Heights', 'x2_Heidelberg West', 'x2_Hughesdale',\n",
              "       'x2_Ivanhoe', 'x2_Kealba', 'x2_Keilor East', 'x2_Kensington',\n",
              "       'x2_Kew', 'x2_Kew East', 'x2_Kooyong', 'x2_Maidstone',\n",
              "       'x2_Malvern', 'x2_Malvern East', 'x2_Maribyrnong', 'x2_Melbourne',\n",
              "       'x2_Middle Park', 'x2_Mont Albert', 'x2_Moonee Ponds',\n",
              "       'x2_Moorabbin', 'x2_Newport', 'x2_Niddrie', 'x2_North Melbourne',\n",
              "       'x2_Northcote', 'x2_Oak Park', 'x2_Oakleigh South', 'x2_Parkville',\n",
              "       'x2_Pascoe Vale', 'x2_Port Melbourne', 'x2_Prahran', 'x2_Preston',\n",
              "       'x2_Reservoir', 'x2_Richmond', 'x2_Rosanna', 'x2_Seddon',\n",
              "       'x2_South Melbourne', 'x2_South Yarra', 'x2_Southbank',\n",
              "       'x2_Spotswood', 'x2_St Kilda', 'x2_Strathmore', 'x2_Sunshine',\n",
              "       'x2_Sunshine North', 'x2_Sunshine West', 'x2_Surrey Hills',\n",
              "       'x2_Templestowe Lower', 'x2_Thornbury', 'x2_Toorak', 'x2_Viewbank',\n",
              "       'x2_Watsonia', 'x2_West Melbourne', 'x2_Williamstown',\n",
              "       'x2_Williamstown North', 'x2_Windsor', 'x2_Yallambie',\n",
              "       'x2_Yarraville', 'x2_Aberfeldie', 'x2_Bellfield',\n",
              "       'x2_Brunswick East', 'x2_Burnley', 'x2_Campbellfield',\n",
              "       'x2_Carlton', 'x2_East Melbourne', 'x2_Essendon West',\n",
              "       'x2_Fawkner', 'x2_Hawthorn East', 'x2_Heidelberg',\n",
              "       'x2_Ivanhoe East', 'x2_Jacana', 'x2_Kingsbury', 'x2_Kingsville',\n",
              "       'x2_Murrumbeena', 'x2_Ormond', 'x2_West Footscray', 'x2_Albion',\n",
              "       'x2_Brooklyn', 'x2_Glen Huntly', 'x2_Oakleigh', 'x2_Ripponlea',\n",
              "       'x2_Cremorne', 'x2_Docklands', 'x2_South Kingsville',\n",
              "       'x2_Strathmore Heights', 'x2_Travancore', 'x2_Caulfield East',\n",
              "       'x2_Seaholme', 'x2_Keilor Park', 'x2_Gardenvale',\n",
              "       'x2_Princes Hill', 'x2_Bayswater', 'x2_Bayswater North',\n",
              "       'x2_Beaumaris', 'x2_Berwick', 'x2_Boronia', 'x2_Briar Hill',\n",
              "       'x2_Broadmeadows', 'x2_Bundoora', 'x2_Burnside Heights',\n",
              "       'x2_Burwood East', 'x2_Cairnlea', 'x2_Caroline Springs',\n",
              "       'x2_Cheltenham', 'x2_Craigieburn', 'x2_Cranbourne', 'x2_Croydon',\n",
              "       'x2_Dandenong', 'x2_Dandenong North', 'x2_Diamond Creek',\n",
              "       'x2_Dingley Village', 'x2_Doncaster East', 'x2_Donvale',\n",
              "       'x2_Doreen', 'x2_Eltham', 'x2_Epping', 'x2_Forest Hill',\n",
              "       'x2_Frankston', 'x2_Frankston North', 'x2_Frankston South',\n",
              "       'x2_Gisborne', 'x2_Gladstone Park', 'x2_Greensborough',\n",
              "       'x2_Hallam', 'x2_Healesville', 'x2_Highett', 'x2_Hillside',\n",
              "       'x2_Huntingdale', 'x2_Keilor Downs', 'x2_Keilor Lodge',\n",
              "       'x2_Keysborough', 'x2_Kings Park', 'x2_Lalor', 'x2_Lower Plenty',\n",
              "       'x2_Melton', 'x2_Mernda', 'x2_Mill Park', 'x2_Mitcham',\n",
              "       'x2_Montmorency', 'x2_Mordialloc', 'x2_Mount Waverley',\n",
              "       'x2_Narre Warren', 'x2_Nunawading', 'x2_Oakleigh East',\n",
              "       'x2_Parkdale', 'x2_Point Cook', 'x2_Ringwood East', 'x2_Rockbank',\n",
              "       'x2_Rowville', 'x2_Sandringham', 'x2_Seaford', 'x2_Skye',\n",
              "       'x2_South Morang', 'x2_Springvale', 'x2_St Albans', 'x2_Sunbury',\n",
              "       'x2_Tarneit', 'x2_Taylors Hill', 'x2_Taylors Lakes',\n",
              "       'x2_The Basin', 'x2_Thomastown', 'x2_Truganina', 'x2_Tullamarine',\n",
              "       'x2_Vermont', 'x2_Wantirna', 'x2_Wantirna South', 'x2_Werribee',\n",
              "       'x2_Westmeadows', 'x2_Williams Landing', 'x2_Wollert',\n",
              "       'x2_Wyndham Vale', 'x2_Black Rock', 'x2_Blackburn',\n",
              "       'x2_Blackburn North', 'x2_Bonbeach', 'x2_Carrum', 'x2_Chelsea',\n",
              "       'x2_Clayton', 'x2_Doveton', 'x2_Ferntree Gully',\n",
              "       'x2_Glen Waverley', 'x2_Greenvale', 'x2_Heathmont',\n",
              "       'x2_Hoppers Crossing', 'x2_McKinnon', 'x2_Melton South',\n",
              "       'x2_Melton West', 'x2_Mentone', 'x2_Mooroolbark', 'x2_Mulgrave',\n",
              "       'x2_Ringwood', 'x2_Roxburgh Park', 'x2_Seabrook', 'x2_Templestowe',\n",
              "       'x2_Vermont South', 'x2_Warrandyte', 'x2_Watsonia North',\n",
              "       'x2_Wheelers Hill', 'x2_Altona Meadows', 'x2_Blackburn South',\n",
              "       'x2_Carrum Downs', 'x2_Clayton South', 'x2_Croydon North',\n",
              "       'x2_Langwarrin', 'x2_Noble Park', 'x2_Notting Hill',\n",
              "       'x2_Ringwood North', 'x2_Sydenham', 'x2_Albanvale',\n",
              "       'x2_Beaconsfield Upper', 'x2_Chelsea Heights', 'x2_Dallas',\n",
              "       'x2_Deer Park', 'x2_Eltham North', 'x2_Keilor',\n",
              "       'x2_Meadow Heights', 'x2_Mount Evelyn', 'x2_North Warrandyte',\n",
              "       'x2_Pakenham', 'x2_Riddells Creek', 'x2_Sandhurst', 'x2_Scoresby',\n",
              "       'x2_Silvan', 'x2_Aspendale', 'x2_Chirnside Park',\n",
              "       'x2_Croydon Hills', 'x2_Croydon South', 'x2_Derrimut',\n",
              "       'x2_Diggers Rest', 'x2_Edithvale', 'x2_Hampton Park',\n",
              "       'x2_Knoxfield', 'x2_St Helena', 'x2_Upwey', 'x2_Bacchus Marsh',\n",
              "       'x2_Coolaroo', 'x2_Cranbourne North', 'x2_Kilsyth', 'x2_Montrose',\n",
              "       'x2_Aspendale Gardens', 'x2_Bullengarook', 'x2_Clarinda',\n",
              "       'x2_Deepdene', 'x2_Delahey', 'x2_Hurstbridge', 'x2_Kurunjang',\n",
              "       'x2_Wonga Park', 'x2_Endeavour Hills', 'x2_Officer',\n",
              "       'x2_Waterways', 'x2_Ardeer', 'x2_Beaconsfield',\n",
              "       'x2_Springvale South', 'x2_Yarra Glen', 'x2_Brookfield',\n",
              "       'x2_Emerald', 'x2_Whittlesea', 'x2_Burnside', 'x2_Attwood',\n",
              "       'x2_Wallan', 'x2_New Gisborne', 'x2_Plumpton', 'x2_Monbulk'],\n",
              "      dtype=object)"
            ]
          },
          "metadata": {},
          "execution_count": 14
        }
      ]
    },
    {
      "cell_type": "markdown",
      "source": [
        "**VERSION FINAL**"
      ],
      "metadata": {
        "id": "z3al_HjQ5q_a"
      }
    },
    {
      "cell_type": "code",
      "source": [
        "df_cat = df[c_cat]\n",
        "df_num = df[c_num]\n",
        "\n",
        "df_cat['Postcode'] = df_cat['Postcode'].apply(str)\n",
        "df_cat['zipcode']  = df_cat['zipcode'].apply(str)\n",
        "\n",
        "#valores de las variables categoricas\n",
        "categorias = [df_cat[col].value_counts().index.values for col in c_cat]"
      ],
      "metadata": {
        "colab": {
          "base_uri": "https://localhost:8080/"
        },
        "id": "JPWBYB9h5qtc",
        "outputId": "1fae3664-cd11-4c1b-c00f-3f0a3e64b1dc"
      },
      "execution_count": 15,
      "outputs": [
        {
          "output_type": "stream",
          "name": "stderr",
          "text": [
            "/usr/local/lib/python3.7/dist-packages/ipykernel_launcher.py:4: SettingWithCopyWarning: \n",
            "A value is trying to be set on a copy of a slice from a DataFrame.\n",
            "Try using .loc[row_indexer,col_indexer] = value instead\n",
            "\n",
            "See the caveats in the documentation: https://pandas.pydata.org/pandas-docs/stable/user_guide/indexing.html#returning-a-view-versus-a-copy\n",
            "  after removing the cwd from sys.path.\n",
            "/usr/local/lib/python3.7/dist-packages/ipykernel_launcher.py:5: SettingWithCopyWarning: \n",
            "A value is trying to be set on a copy of a slice from a DataFrame.\n",
            "Try using .loc[row_indexer,col_indexer] = value instead\n",
            "\n",
            "See the caveats in the documentation: https://pandas.pydata.org/pandas-docs/stable/user_guide/indexing.html#returning-a-view-versus-a-copy\n",
            "  \"\"\"\n"
          ]
        }
      ]
    },
    {
      "cell_type": "code",
      "source": [
        "encoder = OneHotEncoder(categories=categorias, handle_unknown=\"ignore\")\n",
        "encoder.fit(df_cat)\n",
        "\n",
        "et = encoder.transform(df_cat).toarray()#.todense()\n",
        "dat_enc = np.hstack([et, df_num])\n",
        "dat_enc.shape"
      ],
      "metadata": {
        "colab": {
          "base_uri": "https://localhost:8080/"
        },
        "id": "iaLCYLtwlot4",
        "outputId": "7bbaba73-0430-4cd0-f557-c50c4fd9e02d"
      },
      "execution_count": 16,
      "outputs": [
        {
          "output_type": "execute_result",
          "data": {
            "text/plain": [
              "(13580, 14471)"
            ]
          },
          "metadata": {},
          "execution_count": 16
        }
      ]
    },
    {
      "cell_type": "markdown",
      "source": [
        "En `dat_enc` estan todos los datos categoricos ya codificados, unidos con los datos numéricos del dataframe original. La única observación es que los datos están en formato matriz, no en un dataframe."
      ],
      "metadata": {
        "id": "Ggd-6I5b-ZrL"
      }
    },
    {
      "cell_type": "code",
      "source": [
        "ohc = encoder.get_feature_names_out(df_cat.columns)\n",
        "cols = np.append(ohc, df_num.columns)\n",
        "oh_df = pd.DataFrame(dat_enc, columns = cols)"
      ],
      "metadata": {
        "id": "7eNlynvBUHaJ"
      },
      "execution_count": 17,
      "outputs": []
    },
    {
      "cell_type": "markdown",
      "metadata": {
        "id": "ismngxPcfoWb"
      },
      "source": [
        "## Ejercicio 2: Imputación por KNN\n",
        "\n",
        "En el teórico se presentó el método `IterativeImputer` para imputar valores faltantes en variables numéricas. Sin embargo, los ejemplos presentados sólo utilizaban algunas variables numéricas presentes en el conjunto de datos. En este ejercicio, utilizaremos la matriz de datos codificada para imputar datos faltantes de manera más precisa.\n",
        "\n",
        "1. Agregue a la matriz obtenida en el punto anterior las columnas `YearBuilt` y `BuildingArea`.\n",
        "2. Aplique una instancia de `IterativeImputer` con un estimador `KNeighborsRegressor` para imputar los valores de las variables. ¿Es necesario estandarizar o escalar los datos previamente?\n",
        "3. Realice un gráfico mostrando la distribución de cada variable antes de ser imputada, y con ambos métodos de imputación."
      ]
    },
    {
      "cell_type": "code",
      "metadata": {
        "id": "G4ClSr_JapCw"
      },
      "source": [
        "from sklearn.experimental import enable_iterative_imputer\n",
        "from sklearn.neighbors import KNeighborsRegressor\n",
        "from sklearn.impute import IterativeImputer\n",
        "\n",
        "#melb_data_mice = melb_df.copy(deep=True)\n",
        "\n",
        "#mice_imputer = IterativeImputer(random_state=0, estimator=KNeighborsRegressor())\n",
        "#melb_data_mice[['YearBuilt','BuildingArea']] = mice_imputer.fit_transform(\n",
        "#    melb_data_mice[['YearBuilt', 'BuildingArea']])"
      ],
      "execution_count": 18,
      "outputs": []
    },
    {
      "cell_type": "markdown",
      "metadata": {
        "id": "ImjXQZUbVoKH"
      },
      "source": [
        "Ejemplo de gráfico comparando las distribuciones de datos obtenidas con cada método de imputación."
      ]
    },
    {
      "cell_type": "code",
      "metadata": {
        "id": "PMK1ktqYQTJK"
      },
      "source": [
        "# mice_year_built = melb_data_mice.YearBuilt.to_frame()\n",
        "# mice_year_built['Imputation'] = 'KNN over YearBuilt and BuildingArea'\n",
        "# melb_year_build = melb_df.YearBuilt.dropna().to_frame()\n",
        "# melb_year_build['Imputation'] = 'Original'\n",
        "# data = pandas.concat([mice_year_built, melb_year_build])\n",
        "# fig = plt.figure(figsize=(8, 5))\n",
        "# g = seaborn.kdeplot(data=data, x='YearBuilt', hue='Imputation')"
      ],
      "execution_count": 19,
      "outputs": []
    },
    {
      "cell_type": "markdown",
      "source": [
        "## Agregado de columnas\n",
        "Las columnas `YearBuilt` y `BuildingArea` se encuentran en el dataframe original (que no pasó por el `OneHot Encoder` del puntor anterior"
      ],
      "metadata": {
        "id": "0_eT5iSSFwSQ"
      }
    },
    {
      "cell_type": "code",
      "source": [
        "target_cols = ['YearBuilt', 'BuildingArea']"
      ],
      "metadata": {
        "id": "Hc1rllccP5Tx"
      },
      "execution_count": 20,
      "outputs": []
    },
    {
      "cell_type": "code",
      "source": [
        "melb_df.columns"
      ],
      "metadata": {
        "colab": {
          "base_uri": "https://localhost:8080/"
        },
        "id": "uASeTD-EHojz",
        "outputId": "f4a9bfbe-3401-4062-d25d-93c4d17f49c1"
      },
      "execution_count": 21,
      "outputs": [
        {
          "output_type": "execute_result",
          "data": {
            "text/plain": [
              "Index(['Suburb', 'Address', 'Rooms', 'Type', 'Price', 'Method', 'SellerG',\n",
              "       'Date', 'Distance', 'Postcode', 'Bedroom2', 'Bathroom', 'Car',\n",
              "       'Landsize', 'BuildingArea', 'YearBuilt', 'CouncilArea', 'Lattitude',\n",
              "       'Longtitude', 'Regionname', 'Propertycount', 'zipcode',\n",
              "       'airbnb_price_mean', 'airbnb_record_count', 'airbnb_weekly_price_mean',\n",
              "       'airbnb_monthly_price_mean'],\n",
              "      dtype='object')"
            ]
          },
          "metadata": {},
          "execution_count": 21
        }
      ]
    },
    {
      "cell_type": "code",
      "source": [
        "melb_data_knn = oh_df.copy(deep = True)\n",
        "\n",
        "for tc in target_cols: \n",
        "  melb_data_knn[tc] = melb_df[tc]\n",
        "  melb_data_knn[tc] = melb_df[tc]"
      ],
      "metadata": {
        "id": "8mpmcoeJF0El"
      },
      "execution_count": 22,
      "outputs": []
    },
    {
      "cell_type": "code",
      "source": [
        "melb_data_knn.sample(2)"
      ],
      "metadata": {
        "colab": {
          "base_uri": "https://localhost:8080/",
          "height": 223
        },
        "id": "8snUSHKiQHOm",
        "outputId": "2d6dab0e-b540-4d7b-dd07-8d1831a4f4d0"
      },
      "execution_count": 23,
      "outputs": [
        {
          "output_type": "execute_result",
          "data": {
            "text/plain": [
              "      Suburb_Reservoir  Suburb_Richmond  Suburb_Bentleigh East  \\\n",
              "804                0.0              0.0                    1.0   \n",
              "5607               0.0              0.0                    0.0   \n",
              "\n",
              "      Suburb_Preston  Suburb_Brunswick  Suburb_Essendon  Suburb_South Yarra  \\\n",
              "804              0.0               0.0              0.0                 0.0   \n",
              "5607             0.0               0.0              0.0                 1.0   \n",
              "\n",
              "      Suburb_Glen Iris  Suburb_Hawthorn  Suburb_Coburg  ...  Lattitude  \\\n",
              "804                0.0              0.0            0.0  ...   -37.9168   \n",
              "5607               0.0              0.0            0.0  ...   -37.8423   \n",
              "\n",
              "      Longtitude  Propertycount  airbnb_price_mean  airbnb_record_count  \\\n",
              "804      145.069        10969.0         113.039216                 51.0   \n",
              "5607     144.997        14887.0         157.912599                881.0   \n",
              "\n",
              "      airbnb_weekly_price_mean  airbnb_monthly_price_mean  Rooms  YearBuilt  \\\n",
              "804                  563.20000                2032.800000    3.0     2012.0   \n",
              "5607                1040.40367                3417.811111    1.0        NaN   \n",
              "\n",
              "      BuildingArea  \n",
              "804          141.0  \n",
              "5607           NaN  \n",
              "\n",
              "[2 rows x 14473 columns]"
            ],
            "text/html": [
              "\n",
              "  <div id=\"df-16b57184-2b54-44f3-b460-3baa5e621c7e\">\n",
              "    <div class=\"colab-df-container\">\n",
              "      <div>\n",
              "<style scoped>\n",
              "    .dataframe tbody tr th:only-of-type {\n",
              "        vertical-align: middle;\n",
              "    }\n",
              "\n",
              "    .dataframe tbody tr th {\n",
              "        vertical-align: top;\n",
              "    }\n",
              "\n",
              "    .dataframe thead th {\n",
              "        text-align: right;\n",
              "    }\n",
              "</style>\n",
              "<table border=\"1\" class=\"dataframe\">\n",
              "  <thead>\n",
              "    <tr style=\"text-align: right;\">\n",
              "      <th></th>\n",
              "      <th>Suburb_Reservoir</th>\n",
              "      <th>Suburb_Richmond</th>\n",
              "      <th>Suburb_Bentleigh East</th>\n",
              "      <th>Suburb_Preston</th>\n",
              "      <th>Suburb_Brunswick</th>\n",
              "      <th>Suburb_Essendon</th>\n",
              "      <th>Suburb_South Yarra</th>\n",
              "      <th>Suburb_Glen Iris</th>\n",
              "      <th>Suburb_Hawthorn</th>\n",
              "      <th>Suburb_Coburg</th>\n",
              "      <th>...</th>\n",
              "      <th>Lattitude</th>\n",
              "      <th>Longtitude</th>\n",
              "      <th>Propertycount</th>\n",
              "      <th>airbnb_price_mean</th>\n",
              "      <th>airbnb_record_count</th>\n",
              "      <th>airbnb_weekly_price_mean</th>\n",
              "      <th>airbnb_monthly_price_mean</th>\n",
              "      <th>Rooms</th>\n",
              "      <th>YearBuilt</th>\n",
              "      <th>BuildingArea</th>\n",
              "    </tr>\n",
              "  </thead>\n",
              "  <tbody>\n",
              "    <tr>\n",
              "      <th>804</th>\n",
              "      <td>0.0</td>\n",
              "      <td>0.0</td>\n",
              "      <td>1.0</td>\n",
              "      <td>0.0</td>\n",
              "      <td>0.0</td>\n",
              "      <td>0.0</td>\n",
              "      <td>0.0</td>\n",
              "      <td>0.0</td>\n",
              "      <td>0.0</td>\n",
              "      <td>0.0</td>\n",
              "      <td>...</td>\n",
              "      <td>-37.9168</td>\n",
              "      <td>145.069</td>\n",
              "      <td>10969.0</td>\n",
              "      <td>113.039216</td>\n",
              "      <td>51.0</td>\n",
              "      <td>563.20000</td>\n",
              "      <td>2032.800000</td>\n",
              "      <td>3.0</td>\n",
              "      <td>2012.0</td>\n",
              "      <td>141.0</td>\n",
              "    </tr>\n",
              "    <tr>\n",
              "      <th>5607</th>\n",
              "      <td>0.0</td>\n",
              "      <td>0.0</td>\n",
              "      <td>0.0</td>\n",
              "      <td>0.0</td>\n",
              "      <td>0.0</td>\n",
              "      <td>0.0</td>\n",
              "      <td>1.0</td>\n",
              "      <td>0.0</td>\n",
              "      <td>0.0</td>\n",
              "      <td>0.0</td>\n",
              "      <td>...</td>\n",
              "      <td>-37.8423</td>\n",
              "      <td>144.997</td>\n",
              "      <td>14887.0</td>\n",
              "      <td>157.912599</td>\n",
              "      <td>881.0</td>\n",
              "      <td>1040.40367</td>\n",
              "      <td>3417.811111</td>\n",
              "      <td>1.0</td>\n",
              "      <td>NaN</td>\n",
              "      <td>NaN</td>\n",
              "    </tr>\n",
              "  </tbody>\n",
              "</table>\n",
              "<p>2 rows × 14473 columns</p>\n",
              "</div>\n",
              "      <button class=\"colab-df-convert\" onclick=\"convertToInteractive('df-16b57184-2b54-44f3-b460-3baa5e621c7e')\"\n",
              "              title=\"Convert this dataframe to an interactive table.\"\n",
              "              style=\"display:none;\">\n",
              "        \n",
              "  <svg xmlns=\"http://www.w3.org/2000/svg\" height=\"24px\"viewBox=\"0 0 24 24\"\n",
              "       width=\"24px\">\n",
              "    <path d=\"M0 0h24v24H0V0z\" fill=\"none\"/>\n",
              "    <path d=\"M18.56 5.44l.94 2.06.94-2.06 2.06-.94-2.06-.94-.94-2.06-.94 2.06-2.06.94zm-11 1L8.5 8.5l.94-2.06 2.06-.94-2.06-.94L8.5 2.5l-.94 2.06-2.06.94zm10 10l.94 2.06.94-2.06 2.06-.94-2.06-.94-.94-2.06-.94 2.06-2.06.94z\"/><path d=\"M17.41 7.96l-1.37-1.37c-.4-.4-.92-.59-1.43-.59-.52 0-1.04.2-1.43.59L10.3 9.45l-7.72 7.72c-.78.78-.78 2.05 0 2.83L4 21.41c.39.39.9.59 1.41.59.51 0 1.02-.2 1.41-.59l7.78-7.78 2.81-2.81c.8-.78.8-2.07 0-2.86zM5.41 20L4 18.59l7.72-7.72 1.47 1.35L5.41 20z\"/>\n",
              "  </svg>\n",
              "      </button>\n",
              "      \n",
              "  <style>\n",
              "    .colab-df-container {\n",
              "      display:flex;\n",
              "      flex-wrap:wrap;\n",
              "      gap: 12px;\n",
              "    }\n",
              "\n",
              "    .colab-df-convert {\n",
              "      background-color: #E8F0FE;\n",
              "      border: none;\n",
              "      border-radius: 50%;\n",
              "      cursor: pointer;\n",
              "      display: none;\n",
              "      fill: #1967D2;\n",
              "      height: 32px;\n",
              "      padding: 0 0 0 0;\n",
              "      width: 32px;\n",
              "    }\n",
              "\n",
              "    .colab-df-convert:hover {\n",
              "      background-color: #E2EBFA;\n",
              "      box-shadow: 0px 1px 2px rgba(60, 64, 67, 0.3), 0px 1px 3px 1px rgba(60, 64, 67, 0.15);\n",
              "      fill: #174EA6;\n",
              "    }\n",
              "\n",
              "    [theme=dark] .colab-df-convert {\n",
              "      background-color: #3B4455;\n",
              "      fill: #D2E3FC;\n",
              "    }\n",
              "\n",
              "    [theme=dark] .colab-df-convert:hover {\n",
              "      background-color: #434B5C;\n",
              "      box-shadow: 0px 1px 3px 1px rgba(0, 0, 0, 0.15);\n",
              "      filter: drop-shadow(0px 1px 2px rgba(0, 0, 0, 0.3));\n",
              "      fill: #FFFFFF;\n",
              "    }\n",
              "  </style>\n",
              "\n",
              "      <script>\n",
              "        const buttonEl =\n",
              "          document.querySelector('#df-16b57184-2b54-44f3-b460-3baa5e621c7e button.colab-df-convert');\n",
              "        buttonEl.style.display =\n",
              "          google.colab.kernel.accessAllowed ? 'block' : 'none';\n",
              "\n",
              "        async function convertToInteractive(key) {\n",
              "          const element = document.querySelector('#df-16b57184-2b54-44f3-b460-3baa5e621c7e');\n",
              "          const dataTable =\n",
              "            await google.colab.kernel.invokeFunction('convertToInteractive',\n",
              "                                                     [key], {});\n",
              "          if (!dataTable) return;\n",
              "\n",
              "          const docLinkHtml = 'Like what you see? Visit the ' +\n",
              "            '<a target=\"_blank\" href=https://colab.research.google.com/notebooks/data_table.ipynb>data table notebook</a>'\n",
              "            + ' to learn more about interactive tables.';\n",
              "          element.innerHTML = '';\n",
              "          dataTable['output_type'] = 'display_data';\n",
              "          await google.colab.output.renderOutput(dataTable, element);\n",
              "          const docLink = document.createElement('div');\n",
              "          docLink.innerHTML = docLinkHtml;\n",
              "          element.appendChild(docLink);\n",
              "        }\n",
              "      </script>\n",
              "    </div>\n",
              "  </div>\n",
              "  "
            ]
          },
          "metadata": {},
          "execution_count": 23
        }
      ]
    },
    {
      "cell_type": "markdown",
      "source": [
        "## Escalado e imputacion (1)\n",
        "En una primer version hacemos los pasos de escalado e imputación por separado"
      ],
      "metadata": {
        "id": "8HphDGQvDeI2"
      }
    },
    {
      "cell_type": "code",
      "source": [
        "melb_data_knn.values.shape"
      ],
      "metadata": {
        "colab": {
          "base_uri": "https://localhost:8080/"
        },
        "id": "koX2fcg_Wvvl",
        "outputId": "8692022d-e501-43f4-cd33-f954f91441e3"
      },
      "execution_count": 24,
      "outputs": [
        {
          "output_type": "execute_result",
          "data": {
            "text/plain": [
              "(13580, 14473)"
            ]
          },
          "metadata": {},
          "execution_count": 24
        }
      ]
    },
    {
      "cell_type": "code",
      "source": [
        "from sklearn.preprocessing import MaxAbsScaler\n",
        "\n",
        "scaler = MaxAbsScaler()\n",
        "scaled = scaler.fit_transform(melb_data_knn)"
      ],
      "metadata": {
        "id": "S7-MF3jzDdUV"
      },
      "execution_count": 25,
      "outputs": []
    },
    {
      "cell_type": "code",
      "source": [
        "#verificamos que los datos esten escalados usando un dataframe temporal\n",
        "pd.DataFrame(scaled, columns = melb_data_knn.columns).sample(3)"
      ],
      "metadata": {
        "colab": {
          "base_uri": "https://localhost:8080/",
          "height": 254
        },
        "id": "RPvmgJd6Skjz",
        "outputId": "e5e0c50d-ce4e-49bf-893b-71d46a453053"
      },
      "execution_count": 26,
      "outputs": [
        {
          "output_type": "execute_result",
          "data": {
            "text/plain": [
              "      Suburb_Reservoir  Suburb_Richmond  Suburb_Bentleigh East  \\\n",
              "6487               0.0              0.0                    0.0   \n",
              "2841               0.0              0.0                    0.0   \n",
              "2939               0.0              0.0                    0.0   \n",
              "\n",
              "      Suburb_Preston  Suburb_Brunswick  Suburb_Essendon  Suburb_South Yarra  \\\n",
              "6487             0.0               0.0              0.0                 0.0   \n",
              "2841             0.0               0.0              0.0                 0.0   \n",
              "2939             0.0               0.0              0.0                 0.0   \n",
              "\n",
              "      Suburb_Glen Iris  Suburb_Hawthorn  Suburb_Coburg  ...  Lattitude  \\\n",
              "6487               0.0              0.0            0.0  ...  -0.991765   \n",
              "2841               1.0              0.0            0.0  ...  -0.991215   \n",
              "2939               0.0              0.0            0.0  ...  -0.987373   \n",
              "\n",
              "      Longtitude  Propertycount  airbnb_price_mean  airbnb_record_count  \\\n",
              "6487    0.995692       0.294688           0.251744             0.021978   \n",
              "2841    0.996734       0.480924           0.178944             0.021384   \n",
              "2939    0.995978       0.409700           0.090943             0.017820   \n",
              "\n",
              "      airbnb_weekly_price_mean  airbnb_monthly_price_mean  Rooms  YearBuilt  \\\n",
              "6487                  0.273733                   0.210711    0.3   0.946482   \n",
              "2841                  0.344312                   0.292321    0.3   0.958870   \n",
              "2939                  0.156930                   0.107025    0.4        NaN   \n",
              "\n",
              "      BuildingArea  \n",
              "6487      0.004178  \n",
              "2841      0.002404  \n",
              "2939           NaN  \n",
              "\n",
              "[3 rows x 14473 columns]"
            ],
            "text/html": [
              "\n",
              "  <div id=\"df-337f3b99-cb0c-415a-8161-0a03f078bab1\">\n",
              "    <div class=\"colab-df-container\">\n",
              "      <div>\n",
              "<style scoped>\n",
              "    .dataframe tbody tr th:only-of-type {\n",
              "        vertical-align: middle;\n",
              "    }\n",
              "\n",
              "    .dataframe tbody tr th {\n",
              "        vertical-align: top;\n",
              "    }\n",
              "\n",
              "    .dataframe thead th {\n",
              "        text-align: right;\n",
              "    }\n",
              "</style>\n",
              "<table border=\"1\" class=\"dataframe\">\n",
              "  <thead>\n",
              "    <tr style=\"text-align: right;\">\n",
              "      <th></th>\n",
              "      <th>Suburb_Reservoir</th>\n",
              "      <th>Suburb_Richmond</th>\n",
              "      <th>Suburb_Bentleigh East</th>\n",
              "      <th>Suburb_Preston</th>\n",
              "      <th>Suburb_Brunswick</th>\n",
              "      <th>Suburb_Essendon</th>\n",
              "      <th>Suburb_South Yarra</th>\n",
              "      <th>Suburb_Glen Iris</th>\n",
              "      <th>Suburb_Hawthorn</th>\n",
              "      <th>Suburb_Coburg</th>\n",
              "      <th>...</th>\n",
              "      <th>Lattitude</th>\n",
              "      <th>Longtitude</th>\n",
              "      <th>Propertycount</th>\n",
              "      <th>airbnb_price_mean</th>\n",
              "      <th>airbnb_record_count</th>\n",
              "      <th>airbnb_weekly_price_mean</th>\n",
              "      <th>airbnb_monthly_price_mean</th>\n",
              "      <th>Rooms</th>\n",
              "      <th>YearBuilt</th>\n",
              "      <th>BuildingArea</th>\n",
              "    </tr>\n",
              "  </thead>\n",
              "  <tbody>\n",
              "    <tr>\n",
              "      <th>6487</th>\n",
              "      <td>0.0</td>\n",
              "      <td>0.0</td>\n",
              "      <td>0.0</td>\n",
              "      <td>0.0</td>\n",
              "      <td>0.0</td>\n",
              "      <td>0.0</td>\n",
              "      <td>0.0</td>\n",
              "      <td>0.0</td>\n",
              "      <td>0.0</td>\n",
              "      <td>0.0</td>\n",
              "      <td>...</td>\n",
              "      <td>-0.991765</td>\n",
              "      <td>0.995692</td>\n",
              "      <td>0.294688</td>\n",
              "      <td>0.251744</td>\n",
              "      <td>0.021978</td>\n",
              "      <td>0.273733</td>\n",
              "      <td>0.210711</td>\n",
              "      <td>0.3</td>\n",
              "      <td>0.946482</td>\n",
              "      <td>0.004178</td>\n",
              "    </tr>\n",
              "    <tr>\n",
              "      <th>2841</th>\n",
              "      <td>0.0</td>\n",
              "      <td>0.0</td>\n",
              "      <td>0.0</td>\n",
              "      <td>0.0</td>\n",
              "      <td>0.0</td>\n",
              "      <td>0.0</td>\n",
              "      <td>0.0</td>\n",
              "      <td>1.0</td>\n",
              "      <td>0.0</td>\n",
              "      <td>0.0</td>\n",
              "      <td>...</td>\n",
              "      <td>-0.991215</td>\n",
              "      <td>0.996734</td>\n",
              "      <td>0.480924</td>\n",
              "      <td>0.178944</td>\n",
              "      <td>0.021384</td>\n",
              "      <td>0.344312</td>\n",
              "      <td>0.292321</td>\n",
              "      <td>0.3</td>\n",
              "      <td>0.958870</td>\n",
              "      <td>0.002404</td>\n",
              "    </tr>\n",
              "    <tr>\n",
              "      <th>2939</th>\n",
              "      <td>0.0</td>\n",
              "      <td>0.0</td>\n",
              "      <td>0.0</td>\n",
              "      <td>0.0</td>\n",
              "      <td>0.0</td>\n",
              "      <td>0.0</td>\n",
              "      <td>0.0</td>\n",
              "      <td>0.0</td>\n",
              "      <td>0.0</td>\n",
              "      <td>0.0</td>\n",
              "      <td>...</td>\n",
              "      <td>-0.987373</td>\n",
              "      <td>0.995978</td>\n",
              "      <td>0.409700</td>\n",
              "      <td>0.090943</td>\n",
              "      <td>0.017820</td>\n",
              "      <td>0.156930</td>\n",
              "      <td>0.107025</td>\n",
              "      <td>0.4</td>\n",
              "      <td>NaN</td>\n",
              "      <td>NaN</td>\n",
              "    </tr>\n",
              "  </tbody>\n",
              "</table>\n",
              "<p>3 rows × 14473 columns</p>\n",
              "</div>\n",
              "      <button class=\"colab-df-convert\" onclick=\"convertToInteractive('df-337f3b99-cb0c-415a-8161-0a03f078bab1')\"\n",
              "              title=\"Convert this dataframe to an interactive table.\"\n",
              "              style=\"display:none;\">\n",
              "        \n",
              "  <svg xmlns=\"http://www.w3.org/2000/svg\" height=\"24px\"viewBox=\"0 0 24 24\"\n",
              "       width=\"24px\">\n",
              "    <path d=\"M0 0h24v24H0V0z\" fill=\"none\"/>\n",
              "    <path d=\"M18.56 5.44l.94 2.06.94-2.06 2.06-.94-2.06-.94-.94-2.06-.94 2.06-2.06.94zm-11 1L8.5 8.5l.94-2.06 2.06-.94-2.06-.94L8.5 2.5l-.94 2.06-2.06.94zm10 10l.94 2.06.94-2.06 2.06-.94-2.06-.94-.94-2.06-.94 2.06-2.06.94z\"/><path d=\"M17.41 7.96l-1.37-1.37c-.4-.4-.92-.59-1.43-.59-.52 0-1.04.2-1.43.59L10.3 9.45l-7.72 7.72c-.78.78-.78 2.05 0 2.83L4 21.41c.39.39.9.59 1.41.59.51 0 1.02-.2 1.41-.59l7.78-7.78 2.81-2.81c.8-.78.8-2.07 0-2.86zM5.41 20L4 18.59l7.72-7.72 1.47 1.35L5.41 20z\"/>\n",
              "  </svg>\n",
              "      </button>\n",
              "      \n",
              "  <style>\n",
              "    .colab-df-container {\n",
              "      display:flex;\n",
              "      flex-wrap:wrap;\n",
              "      gap: 12px;\n",
              "    }\n",
              "\n",
              "    .colab-df-convert {\n",
              "      background-color: #E8F0FE;\n",
              "      border: none;\n",
              "      border-radius: 50%;\n",
              "      cursor: pointer;\n",
              "      display: none;\n",
              "      fill: #1967D2;\n",
              "      height: 32px;\n",
              "      padding: 0 0 0 0;\n",
              "      width: 32px;\n",
              "    }\n",
              "\n",
              "    .colab-df-convert:hover {\n",
              "      background-color: #E2EBFA;\n",
              "      box-shadow: 0px 1px 2px rgba(60, 64, 67, 0.3), 0px 1px 3px 1px rgba(60, 64, 67, 0.15);\n",
              "      fill: #174EA6;\n",
              "    }\n",
              "\n",
              "    [theme=dark] .colab-df-convert {\n",
              "      background-color: #3B4455;\n",
              "      fill: #D2E3FC;\n",
              "    }\n",
              "\n",
              "    [theme=dark] .colab-df-convert:hover {\n",
              "      background-color: #434B5C;\n",
              "      box-shadow: 0px 1px 3px 1px rgba(0, 0, 0, 0.15);\n",
              "      filter: drop-shadow(0px 1px 2px rgba(0, 0, 0, 0.3));\n",
              "      fill: #FFFFFF;\n",
              "    }\n",
              "  </style>\n",
              "\n",
              "      <script>\n",
              "        const buttonEl =\n",
              "          document.querySelector('#df-337f3b99-cb0c-415a-8161-0a03f078bab1 button.colab-df-convert');\n",
              "        buttonEl.style.display =\n",
              "          google.colab.kernel.accessAllowed ? 'block' : 'none';\n",
              "\n",
              "        async function convertToInteractive(key) {\n",
              "          const element = document.querySelector('#df-337f3b99-cb0c-415a-8161-0a03f078bab1');\n",
              "          const dataTable =\n",
              "            await google.colab.kernel.invokeFunction('convertToInteractive',\n",
              "                                                     [key], {});\n",
              "          if (!dataTable) return;\n",
              "\n",
              "          const docLinkHtml = 'Like what you see? Visit the ' +\n",
              "            '<a target=\"_blank\" href=https://colab.research.google.com/notebooks/data_table.ipynb>data table notebook</a>'\n",
              "            + ' to learn more about interactive tables.';\n",
              "          element.innerHTML = '';\n",
              "          dataTable['output_type'] = 'display_data';\n",
              "          await google.colab.output.renderOutput(dataTable, element);\n",
              "          const docLink = document.createElement('div');\n",
              "          docLink.innerHTML = docLinkHtml;\n",
              "          element.appendChild(docLink);\n",
              "        }\n",
              "      </script>\n",
              "    </div>\n",
              "  </div>\n",
              "  "
            ]
          },
          "metadata": {},
          "execution_count": 26
        }
      ]
    },
    {
      "cell_type": "code",
      "source": [
        "melb_data_knn.isna().sum().sort_values(ascending=False)"
      ],
      "metadata": {
        "colab": {
          "base_uri": "https://localhost:8080/"
        },
        "id": "K2sfrX1NT8uU",
        "outputId": "3c7f61ca-d393-4ca0-a4c5-6c53026c3e70"
      },
      "execution_count": 27,
      "outputs": [
        {
          "output_type": "execute_result",
          "data": {
            "text/plain": [
              "BuildingArea                 6450\n",
              "YearBuilt                    5375\n",
              "airbnb_monthly_price_mean    1268\n",
              "airbnb_weekly_price_mean      875\n",
              "Car                            62\n",
              "                             ... \n",
              "Address_28 Manoel Av            0\n",
              "Address_4 Newton St             0\n",
              "Address_149 Graham Rd           0\n",
              "Address_10 Hathaway Cl          0\n",
              "Address_1/20 College St         0\n",
              "Length: 14473, dtype: int64"
            ]
          },
          "metadata": {},
          "execution_count": 27
        }
      ]
    },
    {
      "cell_type": "code",
      "source": [
        "# # Luego de ejecutar el imputador deberiamos poder rearmar un data frame con los valore originales e imputados\n",
        "# imputer = IterativeImputer(random_state=0, estimator=KNeighborsRegressor(), missing_values = np.nan)\n",
        "# predictions = imputer.fit_transform(scaled)"
      ],
      "metadata": {
        "id": "rQLYT8rLJ2Ow"
      },
      "execution_count": 28,
      "outputs": []
    },
    {
      "cell_type": "markdown",
      "source": [
        "## Escalado e imputación, usando Pipeline\n",
        "### Escalado\n",
        "\n",
        "Antes de imputar los valores faltantes para las nuevas columnas, escalamos los datos al intervalo `[-1, 1]`\n",
        "\n",
        "### Imputación\n",
        "A partir del dataset escalado, buscamos imputar aquellos valores faltantes (marcados como `np.nan`)"
      ],
      "metadata": {
        "id": "MIAad-TEZ4xV"
      }
    },
    {
      "cell_type": "code",
      "source": [
        "from sklearn.pipeline import Pipeline\n",
        "\n",
        "piped_imputer = IterativeImputer(random_state=0, estimator=KNeighborsRegressor(n_neighbors = 2), missing_values = np.nan)\n",
        "pipeline = Pipeline([('scale', MaxAbsScaler()), ('imputer', piped_imputer )])\n",
        "\n",
        "values = pipeline.fit_transform(melb_data_knn)"
      ],
      "metadata": {
        "id": "MrjRTphmYoB_"
      },
      "execution_count": null,
      "outputs": []
    },
    {
      "cell_type": "markdown",
      "metadata": {
        "id": "NBN7-5OIxjJW"
      },
      "source": [
        "## Ejercicio 3: Reducción de dimensionalidad.\n",
        "\n",
        "Utilizando la matriz obtenida en el ejercicio anterior:\n",
        "1. Aplique `PCA` para obtener $n$ componentes principales de la matriz, donde `n = min(20, X.shape[0])`. ¿Es necesario estandarizar o escalar los datos?\n",
        "2. Grafique la varianza capturada por los primeros $n$ componentes principales, para cada $n$.\n",
        "3. En base al gráfico, seleccione las primeras $m$ columnas de la matriz transformada para agregar como nuevas características al conjunto de datos."
      ]
    },
    {
      "cell_type": "markdown",
      "metadata": {
        "id": "WrZTYmG_ZyDy"
      },
      "source": [
        "## Ejercicio 4: Composición del resultado\n",
        "\n",
        "Transformar nuevamente el conjunto de datos procesado en un `pandas.DataFrame` y guardarlo en un archivo.\n",
        "\n",
        "Para eso, será necesario recordar el nombre original de cada columna de la matriz, en el orden correcto. Tener en cuenta:\n",
        "1. El método `OneHotEncoder.get_feature_names` o el atributo `OneHotEncoder.categories_` permiten obtener una lista con los valores de la categoría que le corresponde a cada índice de la matriz.\n",
        "2. Ninguno de los métodos aplicados intercambia de lugar las columnas o las filas de la matriz."
      ]
    },
    {
      "cell_type": "code",
      "metadata": {
        "id": "DfchYPgTxvQ4"
      },
      "source": [
        "## Small example\n",
        "from sklearn.decomposition import PCA\n",
        "from sklearn.preprocessing import OneHotEncoder\n",
        "\n",
        "## If we process our data with the following steps:\n",
        "categorical_cols = ['Type', 'Regionname']\n",
        "numerical_cols = ['Rooms', 'Distance']\n",
        "new_columns = []\n",
        "\n",
        "# Step 1: encode categorical columns\n",
        "encoder = OneHotEncoder(handle_unknown='ignore', sparse=False)\n",
        "X_cat = encoder.fit_transform(melb_df[categorical_cols])\n",
        "for col, col_values in zip(categorical_cols, encoder.categories_):\n",
        "  for col_value in col_values:\n",
        "    new_columns.append('{}={}'.format(col, col_value))\n",
        "print(\"Matrix has shape {}, with columns: {}\".format(X_cat.shape, new_columns))\n",
        "\n",
        "# Step 2: Append the numerical columns\n",
        "X = numpy.hstack([X_cat, melb_df[numerical_cols].values])\n",
        "new_columns.extend(numerical_cols)\n",
        "print(\"Matrix has shape {}, with columns: {}\".format(X_cat.shape, new_columns))\n",
        "\n",
        "# Step 3: Append some new features, like PCA\n",
        "pca = PCA(n_components=2)\n",
        "pca_dummy_features = pca.fit_transform(X)\n",
        "X_pca = numpy.hstack([X, pca_dummy_features])\n",
        "new_columns.extend(['pca1', 'pca2'])\n",
        "\n",
        "## Re-build dataframe\n",
        "processed_melb_df = pandas.DataFrame(data=X_pca, columns=new_columns)\n",
        "processed_melb_df.head()"
      ],
      "execution_count": null,
      "outputs": []
    },
    {
      "cell_type": "markdown",
      "metadata": {
        "id": "mVBLFc8PhRtW"
      },
      "source": [
        "## Ejercicio 5: Documentación\n",
        "\n",
        "En un documento `.pdf` o `.md` realizar un reporte de las operaciones que realizaron para obtener el conjunto de datos final. Se debe incluir:\n",
        "  1. Criterios de exclusión (o inclusión) de filas\n",
        "  2. Interpretación de las columnas presentes\n",
        "  2. Todas las transofrmaciones realizadas\n",
        "\n",
        "Este documento es de uso técnico exclusivamente, y su objetivo es permitir que otres desarrolladores puedan reproducir los mismos pasos y obtener el mismo resultado. Debe ser detallado pero consiso. Por ejemplo:\n",
        "\n",
        "```\n",
        "  ## Criterios de exclusión de ejemplos\n",
        "  1. Se eliminan ejemplos donde el año de construcción es previo a 1900\n",
        "\n",
        "  ## Características seleccionadas\n",
        "  ### Características categóricas\n",
        "  1. Type: tipo de propiedad. 3 valores posibles\n",
        "  2. ...\n",
        "  Todas las características categóricas fueron codificadas con un\n",
        "  método OneHotEncoding utilizando como máximo sus 30 valores más \n",
        "  frecuentes.\n",
        "  \n",
        "  ### Características numéricas\n",
        "  1. Rooms: Cantidad de habitaciones\n",
        "  2. Distance: Distancia al centro de la ciudad.\n",
        "  3. airbnb_mean_price: Se agrega el precio promedio diario de \n",
        "     publicaciones de la plataforma AirBnB en el mismo código \n",
        "     postal. [Link al repositorio con datos externos].\n",
        "\n",
        "  ### Transformaciones:\n",
        "  1. Todas las características numéricas fueron estandarizadas.\n",
        "  2. La columna `Suburb` fue imputada utilizando el método ...\n",
        "  3. Las columnas `YearBuilt` y ... fueron imputadas utilizando el \n",
        "     algoritmo ...\n",
        "  4. ...\n",
        "\n",
        "  ### Datos aumentados\n",
        "  1. Se agregan las 5 primeras columnas obtenidas a través del\n",
        "     método de PCA, aplicado sobre el conjunto de datos\n",
        "     totalmente procesado.\n",
        "```\n"
      ]
    },
    {
      "cell_type": "markdown",
      "metadata": {
        "id": "Bq7nuPg2HIYx"
      },
      "source": [
        "```\n",
        "  # 1. Encoding\n",
        "  ## 1.1. Seleccionar todas las filas y columnas del conjunto de datos obtenido en la parte 1 del entregable, excepto BuildingArea y YearBuilt, que volveremos a imputar más adelante.\n",
        "  1. Se generó un dataframe con los datos obtenidos anteriormente.\n",
        "  2. Se eliminaron las columas BuildingArea y YearBuilt con la función drop(). Estas columnas serán imputadas más adelante.\n",
        "  ## 1.2. Aplicar una codificación One-hot encoding a cada fila, tanto para variables numéricas como categóricas. Si lo consideran necesario, pueden volver a reducir el número de categorías únicas.\n",
        "  1. Se generó una lista con las variables categóricas del dataframe c_cat = ['Suburb', 'Type', 'Method', 'SellerG', 'Date', 'CouncilArea', 'Regionname'].  \n",
        "  2. Para cada columna categóricas se codificaron sus datos con el método OneHotEncoding.\n",
        "  3. Los valores codificados fueron transformados a arreglos correspondientes a cada columna.\n",
        "  \n",
        "\n",
        "```"
      ]
    }
  ]
}