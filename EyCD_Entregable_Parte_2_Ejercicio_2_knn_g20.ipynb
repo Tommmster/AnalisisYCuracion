{
  "nbformat": 4,
  "nbformat_minor": 0,
  "metadata": {
    "colab": {
      "name": "EyCD_Entregable_Parte_2_Ejercicio_1_g20.ipynb",
      "provenance": [],
      "collapsed_sections": [],
      "include_colab_link": true
    },
    "kernelspec": {
      "name": "python3",
      "display_name": "Python 3"
    },
    "language_info": {
      "name": "python"
    }
  },
  "cells": [
    {
      "cell_type": "markdown",
      "metadata": {
        "id": "view-in-github",
        "colab_type": "text"
      },
      "source": [
        "<a href=\"https://colab.research.google.com/github/Tommmster/AnalisisYCuracion/blob/master/EyCD_Entregable_Parte_2_Ejercicio_2_knn_g20.ipynb\" target=\"_parent\"><img src=\"https://colab.research.google.com/assets/colab-badge.svg\" alt=\"Open In Colab\"/></a>"
      ]
    },
    {
      "cell_type": "markdown",
      "metadata": {
        "id": "zO4bRoxr2Apy"
      },
      "source": [
        "\n",
        "**Diplomatura en Ciencia de Datos, Aprendizaje Automático y sus Aplicaciones**\n",
        "\n",
        "**Exploración y Curación de Datos**\n",
        "\n",
        "**Edición 2022**\n",
        "\n",
        "---\n",
        "## **Trabajo práctico entregable - Parte 2**\n",
        "---\n",
        "\n",
        "## **Grupo 20**\n",
        "\n",
        "**Integrantes:** Fanny Ruales, Gastón Briozzo, Tomás Niño Kehoe\n",
        "\n",
        "**Profesor de Práctico:** Alejandro García\n",
        "\n",
        "\n",
        "En el ejercicio 2 de la parte 1 del entregable seleccionaron las filas y columnas relevantes al problema de predicción de precios de una propiedad e imputaron los valores faltantes de las columnas `Suburb` y las columnas obtenidas a partir del conjunto de datos `airbnb`.\n",
        "\n",
        "En esta notebook, **se utilizará resultado de dichas operaciones.** que fue guardado en un archivo (Ejercicio 3 entregable 1). \n"
      ]
    },
    {
      "cell_type": "code",
      "metadata": {
        "id": "4udjxjk1EtVU"
      },
      "source": [
        "import matplotlib.pyplot as plt\n",
        "import numpy as np\n",
        "import pandas as pd\n",
        "\n",
        "import seaborn\n",
        "seaborn.set_context('talk')"
      ],
      "execution_count": 1,
      "outputs": []
    },
    {
      "cell_type": "code",
      "metadata": {
        "colab": {
          "base_uri": "https://localhost:8080/",
          "height": 306
        },
        "id": "_qeFN3GnEvMk",
        "outputId": "93f07915-aa9c-417c-d451-18653f8d00cf"
      },
      "source": [
        "# Acá deberían leer el conjunto de datos que ya tienen.\n",
        "melb_df = pd.read_csv('melb_data_extended.csv')\n",
        "melb_df[:3]"
      ],
      "execution_count": 2,
      "outputs": [
        {
          "output_type": "execute_result",
          "data": {
            "text/plain": [
              "       Suburb          Address  Rooms Type      Price Method SellerG  \\\n",
              "0  Abbotsford     85 Turner St      2    h  1480000.0      S  Biggin   \n",
              "1  Abbotsford  25 Bloomburg St      2    h  1035000.0      S  Biggin   \n",
              "2  Abbotsford     5 Charles St      3    h  1465000.0     SP  Biggin   \n",
              "\n",
              "        Date  Distance  Postcode  ...  CouncilArea  Lattitude  Longtitude  \\\n",
              "0  3/12/2016       2.5    3067.0  ...        Yarra   -37.7996    144.9984   \n",
              "1  4/02/2016       2.5    3067.0  ...        Yarra   -37.8079    144.9934   \n",
              "2  4/03/2017       2.5    3067.0  ...        Yarra   -37.8093    144.9944   \n",
              "\n",
              "              Regionname  Propertycount  zipcode airbnb_price_mean  \\\n",
              "0  Northern Metropolitan         4019.0   3067.0        130.624031   \n",
              "1  Northern Metropolitan         4019.0   3067.0        130.624031   \n",
              "2  Northern Metropolitan         4019.0   3067.0        130.624031   \n",
              "\n",
              "   airbnb_record_count  airbnb_weekly_price_mean airbnb_monthly_price_mean  \n",
              "0                258.0                605.152174               2187.032258  \n",
              "1                258.0                605.152174               2187.032258  \n",
              "2                258.0                605.152174               2187.032258  \n",
              "\n",
              "[3 rows x 26 columns]"
            ],
            "text/html": [
              "\n",
              "  <div id=\"df-e8fb234b-1eb9-4b2e-bdfb-76d8305e896c\">\n",
              "    <div class=\"colab-df-container\">\n",
              "      <div>\n",
              "<style scoped>\n",
              "    .dataframe tbody tr th:only-of-type {\n",
              "        vertical-align: middle;\n",
              "    }\n",
              "\n",
              "    .dataframe tbody tr th {\n",
              "        vertical-align: top;\n",
              "    }\n",
              "\n",
              "    .dataframe thead th {\n",
              "        text-align: right;\n",
              "    }\n",
              "</style>\n",
              "<table border=\"1\" class=\"dataframe\">\n",
              "  <thead>\n",
              "    <tr style=\"text-align: right;\">\n",
              "      <th></th>\n",
              "      <th>Suburb</th>\n",
              "      <th>Address</th>\n",
              "      <th>Rooms</th>\n",
              "      <th>Type</th>\n",
              "      <th>Price</th>\n",
              "      <th>Method</th>\n",
              "      <th>SellerG</th>\n",
              "      <th>Date</th>\n",
              "      <th>Distance</th>\n",
              "      <th>Postcode</th>\n",
              "      <th>...</th>\n",
              "      <th>CouncilArea</th>\n",
              "      <th>Lattitude</th>\n",
              "      <th>Longtitude</th>\n",
              "      <th>Regionname</th>\n",
              "      <th>Propertycount</th>\n",
              "      <th>zipcode</th>\n",
              "      <th>airbnb_price_mean</th>\n",
              "      <th>airbnb_record_count</th>\n",
              "      <th>airbnb_weekly_price_mean</th>\n",
              "      <th>airbnb_monthly_price_mean</th>\n",
              "    </tr>\n",
              "  </thead>\n",
              "  <tbody>\n",
              "    <tr>\n",
              "      <th>0</th>\n",
              "      <td>Abbotsford</td>\n",
              "      <td>85 Turner St</td>\n",
              "      <td>2</td>\n",
              "      <td>h</td>\n",
              "      <td>1480000.0</td>\n",
              "      <td>S</td>\n",
              "      <td>Biggin</td>\n",
              "      <td>3/12/2016</td>\n",
              "      <td>2.5</td>\n",
              "      <td>3067.0</td>\n",
              "      <td>...</td>\n",
              "      <td>Yarra</td>\n",
              "      <td>-37.7996</td>\n",
              "      <td>144.9984</td>\n",
              "      <td>Northern Metropolitan</td>\n",
              "      <td>4019.0</td>\n",
              "      <td>3067.0</td>\n",
              "      <td>130.624031</td>\n",
              "      <td>258.0</td>\n",
              "      <td>605.152174</td>\n",
              "      <td>2187.032258</td>\n",
              "    </tr>\n",
              "    <tr>\n",
              "      <th>1</th>\n",
              "      <td>Abbotsford</td>\n",
              "      <td>25 Bloomburg St</td>\n",
              "      <td>2</td>\n",
              "      <td>h</td>\n",
              "      <td>1035000.0</td>\n",
              "      <td>S</td>\n",
              "      <td>Biggin</td>\n",
              "      <td>4/02/2016</td>\n",
              "      <td>2.5</td>\n",
              "      <td>3067.0</td>\n",
              "      <td>...</td>\n",
              "      <td>Yarra</td>\n",
              "      <td>-37.8079</td>\n",
              "      <td>144.9934</td>\n",
              "      <td>Northern Metropolitan</td>\n",
              "      <td>4019.0</td>\n",
              "      <td>3067.0</td>\n",
              "      <td>130.624031</td>\n",
              "      <td>258.0</td>\n",
              "      <td>605.152174</td>\n",
              "      <td>2187.032258</td>\n",
              "    </tr>\n",
              "    <tr>\n",
              "      <th>2</th>\n",
              "      <td>Abbotsford</td>\n",
              "      <td>5 Charles St</td>\n",
              "      <td>3</td>\n",
              "      <td>h</td>\n",
              "      <td>1465000.0</td>\n",
              "      <td>SP</td>\n",
              "      <td>Biggin</td>\n",
              "      <td>4/03/2017</td>\n",
              "      <td>2.5</td>\n",
              "      <td>3067.0</td>\n",
              "      <td>...</td>\n",
              "      <td>Yarra</td>\n",
              "      <td>-37.8093</td>\n",
              "      <td>144.9944</td>\n",
              "      <td>Northern Metropolitan</td>\n",
              "      <td>4019.0</td>\n",
              "      <td>3067.0</td>\n",
              "      <td>130.624031</td>\n",
              "      <td>258.0</td>\n",
              "      <td>605.152174</td>\n",
              "      <td>2187.032258</td>\n",
              "    </tr>\n",
              "  </tbody>\n",
              "</table>\n",
              "<p>3 rows × 26 columns</p>\n",
              "</div>\n",
              "      <button class=\"colab-df-convert\" onclick=\"convertToInteractive('df-e8fb234b-1eb9-4b2e-bdfb-76d8305e896c')\"\n",
              "              title=\"Convert this dataframe to an interactive table.\"\n",
              "              style=\"display:none;\">\n",
              "        \n",
              "  <svg xmlns=\"http://www.w3.org/2000/svg\" height=\"24px\"viewBox=\"0 0 24 24\"\n",
              "       width=\"24px\">\n",
              "    <path d=\"M0 0h24v24H0V0z\" fill=\"none\"/>\n",
              "    <path d=\"M18.56 5.44l.94 2.06.94-2.06 2.06-.94-2.06-.94-.94-2.06-.94 2.06-2.06.94zm-11 1L8.5 8.5l.94-2.06 2.06-.94-2.06-.94L8.5 2.5l-.94 2.06-2.06.94zm10 10l.94 2.06.94-2.06 2.06-.94-2.06-.94-.94-2.06-.94 2.06-2.06.94z\"/><path d=\"M17.41 7.96l-1.37-1.37c-.4-.4-.92-.59-1.43-.59-.52 0-1.04.2-1.43.59L10.3 9.45l-7.72 7.72c-.78.78-.78 2.05 0 2.83L4 21.41c.39.39.9.59 1.41.59.51 0 1.02-.2 1.41-.59l7.78-7.78 2.81-2.81c.8-.78.8-2.07 0-2.86zM5.41 20L4 18.59l7.72-7.72 1.47 1.35L5.41 20z\"/>\n",
              "  </svg>\n",
              "      </button>\n",
              "      \n",
              "  <style>\n",
              "    .colab-df-container {\n",
              "      display:flex;\n",
              "      flex-wrap:wrap;\n",
              "      gap: 12px;\n",
              "    }\n",
              "\n",
              "    .colab-df-convert {\n",
              "      background-color: #E8F0FE;\n",
              "      border: none;\n",
              "      border-radius: 50%;\n",
              "      cursor: pointer;\n",
              "      display: none;\n",
              "      fill: #1967D2;\n",
              "      height: 32px;\n",
              "      padding: 0 0 0 0;\n",
              "      width: 32px;\n",
              "    }\n",
              "\n",
              "    .colab-df-convert:hover {\n",
              "      background-color: #E2EBFA;\n",
              "      box-shadow: 0px 1px 2px rgba(60, 64, 67, 0.3), 0px 1px 3px 1px rgba(60, 64, 67, 0.15);\n",
              "      fill: #174EA6;\n",
              "    }\n",
              "\n",
              "    [theme=dark] .colab-df-convert {\n",
              "      background-color: #3B4455;\n",
              "      fill: #D2E3FC;\n",
              "    }\n",
              "\n",
              "    [theme=dark] .colab-df-convert:hover {\n",
              "      background-color: #434B5C;\n",
              "      box-shadow: 0px 1px 3px 1px rgba(0, 0, 0, 0.15);\n",
              "      filter: drop-shadow(0px 1px 2px rgba(0, 0, 0, 0.3));\n",
              "      fill: #FFFFFF;\n",
              "    }\n",
              "  </style>\n",
              "\n",
              "      <script>\n",
              "        const buttonEl =\n",
              "          document.querySelector('#df-e8fb234b-1eb9-4b2e-bdfb-76d8305e896c button.colab-df-convert');\n",
              "        buttonEl.style.display =\n",
              "          google.colab.kernel.accessAllowed ? 'block' : 'none';\n",
              "\n",
              "        async function convertToInteractive(key) {\n",
              "          const element = document.querySelector('#df-e8fb234b-1eb9-4b2e-bdfb-76d8305e896c');\n",
              "          const dataTable =\n",
              "            await google.colab.kernel.invokeFunction('convertToInteractive',\n",
              "                                                     [key], {});\n",
              "          if (!dataTable) return;\n",
              "\n",
              "          const docLinkHtml = 'Like what you see? Visit the ' +\n",
              "            '<a target=\"_blank\" href=https://colab.research.google.com/notebooks/data_table.ipynb>data table notebook</a>'\n",
              "            + ' to learn more about interactive tables.';\n",
              "          element.innerHTML = '';\n",
              "          dataTable['output_type'] = 'display_data';\n",
              "          await google.colab.output.renderOutput(dataTable, element);\n",
              "          const docLink = document.createElement('div');\n",
              "          docLink.innerHTML = docLinkHtml;\n",
              "          element.appendChild(docLink);\n",
              "        }\n",
              "      </script>\n",
              "    </div>\n",
              "  </div>\n",
              "  "
            ]
          },
          "metadata": {},
          "execution_count": 2
        }
      ]
    },
    {
      "cell_type": "markdown",
      "metadata": {
        "id": "s-mixICN22kA"
      },
      "source": [
        "## Ejercicio 1: Encoding\n",
        "\n",
        "1. Seleccionar todas las filas y columnas del conjunto de datos obtenido en la parte 1 del entregable, **excepto** `BuildingArea` y `YearBuilt`, que volveremos a imputar más adelante.\n",
        "\n",
        "2. Aplicar una codificación One-hot encoding a cada fila, tanto para variables numéricas como categóricas. Si lo consideran necesario, pueden volver a reducir el número de categorías únicas.\n",
        "\n",
        "Algunas opciones:\n",
        "  1. Utilizar `OneHotEncoder` junto con el parámetro `categories` para las variables categóricas y luego usar `numpy.hstack` para concatenar el resultado con las variables numéricas. \n",
        "  2. `DictVectorizer` con algunos pasos de pre-proceso previo.\n",
        "\n",
        "Recordar también que el atributo `pandas.DataFrame.values` permite acceder a la matriz de numpy subyacente a un DataFrame.\n"
      ]
    },
    {
      "cell_type": "markdown",
      "source": [
        "### 1.1. Seleccionar todas las filas y columnas del conjunto de datos obtenido en la parte 1 del entregable, excepto BuildingArea y YearBuilt, que volveremos a imputar más adelante."
      ],
      "metadata": {
        "id": "Zej38VOEXHYE"
      }
    },
    {
      "cell_type": "code",
      "source": [
        "#df = melb_df\n",
        "df = melb_df.drop(['BuildingArea', 'YearBuilt'], axis=1, inplace=False)\n",
        "print(df.columns)\n",
        "df[:3]"
      ],
      "metadata": {
        "colab": {
          "base_uri": "https://localhost:8080/",
          "height": 417
        },
        "id": "GMHVVCgKXR4h",
        "outputId": "bac67db1-4f23-47a2-8d2a-a6de07792f61"
      },
      "execution_count": 3,
      "outputs": [
        {
          "output_type": "stream",
          "name": "stdout",
          "text": [
            "Index(['Suburb', 'Address', 'Rooms', 'Type', 'Price', 'Method', 'SellerG',\n",
            "       'Date', 'Distance', 'Postcode', 'Bedroom2', 'Bathroom', 'Car',\n",
            "       'Landsize', 'CouncilArea', 'Lattitude', 'Longtitude', 'Regionname',\n",
            "       'Propertycount', 'zipcode', 'airbnb_price_mean', 'airbnb_record_count',\n",
            "       'airbnb_weekly_price_mean', 'airbnb_monthly_price_mean'],\n",
            "      dtype='object')\n"
          ]
        },
        {
          "output_type": "execute_result",
          "data": {
            "text/plain": [
              "       Suburb          Address  Rooms Type      Price Method SellerG  \\\n",
              "0  Abbotsford     85 Turner St      2    h  1480000.0      S  Biggin   \n",
              "1  Abbotsford  25 Bloomburg St      2    h  1035000.0      S  Biggin   \n",
              "2  Abbotsford     5 Charles St      3    h  1465000.0     SP  Biggin   \n",
              "\n",
              "        Date  Distance  Postcode  ...  CouncilArea  Lattitude  Longtitude  \\\n",
              "0  3/12/2016       2.5    3067.0  ...        Yarra   -37.7996    144.9984   \n",
              "1  4/02/2016       2.5    3067.0  ...        Yarra   -37.8079    144.9934   \n",
              "2  4/03/2017       2.5    3067.0  ...        Yarra   -37.8093    144.9944   \n",
              "\n",
              "              Regionname Propertycount  zipcode  airbnb_price_mean  \\\n",
              "0  Northern Metropolitan        4019.0   3067.0         130.624031   \n",
              "1  Northern Metropolitan        4019.0   3067.0         130.624031   \n",
              "2  Northern Metropolitan        4019.0   3067.0         130.624031   \n",
              "\n",
              "  airbnb_record_count  airbnb_weekly_price_mean  airbnb_monthly_price_mean  \n",
              "0               258.0                605.152174                2187.032258  \n",
              "1               258.0                605.152174                2187.032258  \n",
              "2               258.0                605.152174                2187.032258  \n",
              "\n",
              "[3 rows x 24 columns]"
            ],
            "text/html": [
              "\n",
              "  <div id=\"df-1aabfef0-3c38-49ef-805f-f5d323c5952c\">\n",
              "    <div class=\"colab-df-container\">\n",
              "      <div>\n",
              "<style scoped>\n",
              "    .dataframe tbody tr th:only-of-type {\n",
              "        vertical-align: middle;\n",
              "    }\n",
              "\n",
              "    .dataframe tbody tr th {\n",
              "        vertical-align: top;\n",
              "    }\n",
              "\n",
              "    .dataframe thead th {\n",
              "        text-align: right;\n",
              "    }\n",
              "</style>\n",
              "<table border=\"1\" class=\"dataframe\">\n",
              "  <thead>\n",
              "    <tr style=\"text-align: right;\">\n",
              "      <th></th>\n",
              "      <th>Suburb</th>\n",
              "      <th>Address</th>\n",
              "      <th>Rooms</th>\n",
              "      <th>Type</th>\n",
              "      <th>Price</th>\n",
              "      <th>Method</th>\n",
              "      <th>SellerG</th>\n",
              "      <th>Date</th>\n",
              "      <th>Distance</th>\n",
              "      <th>Postcode</th>\n",
              "      <th>...</th>\n",
              "      <th>CouncilArea</th>\n",
              "      <th>Lattitude</th>\n",
              "      <th>Longtitude</th>\n",
              "      <th>Regionname</th>\n",
              "      <th>Propertycount</th>\n",
              "      <th>zipcode</th>\n",
              "      <th>airbnb_price_mean</th>\n",
              "      <th>airbnb_record_count</th>\n",
              "      <th>airbnb_weekly_price_mean</th>\n",
              "      <th>airbnb_monthly_price_mean</th>\n",
              "    </tr>\n",
              "  </thead>\n",
              "  <tbody>\n",
              "    <tr>\n",
              "      <th>0</th>\n",
              "      <td>Abbotsford</td>\n",
              "      <td>85 Turner St</td>\n",
              "      <td>2</td>\n",
              "      <td>h</td>\n",
              "      <td>1480000.0</td>\n",
              "      <td>S</td>\n",
              "      <td>Biggin</td>\n",
              "      <td>3/12/2016</td>\n",
              "      <td>2.5</td>\n",
              "      <td>3067.0</td>\n",
              "      <td>...</td>\n",
              "      <td>Yarra</td>\n",
              "      <td>-37.7996</td>\n",
              "      <td>144.9984</td>\n",
              "      <td>Northern Metropolitan</td>\n",
              "      <td>4019.0</td>\n",
              "      <td>3067.0</td>\n",
              "      <td>130.624031</td>\n",
              "      <td>258.0</td>\n",
              "      <td>605.152174</td>\n",
              "      <td>2187.032258</td>\n",
              "    </tr>\n",
              "    <tr>\n",
              "      <th>1</th>\n",
              "      <td>Abbotsford</td>\n",
              "      <td>25 Bloomburg St</td>\n",
              "      <td>2</td>\n",
              "      <td>h</td>\n",
              "      <td>1035000.0</td>\n",
              "      <td>S</td>\n",
              "      <td>Biggin</td>\n",
              "      <td>4/02/2016</td>\n",
              "      <td>2.5</td>\n",
              "      <td>3067.0</td>\n",
              "      <td>...</td>\n",
              "      <td>Yarra</td>\n",
              "      <td>-37.8079</td>\n",
              "      <td>144.9934</td>\n",
              "      <td>Northern Metropolitan</td>\n",
              "      <td>4019.0</td>\n",
              "      <td>3067.0</td>\n",
              "      <td>130.624031</td>\n",
              "      <td>258.0</td>\n",
              "      <td>605.152174</td>\n",
              "      <td>2187.032258</td>\n",
              "    </tr>\n",
              "    <tr>\n",
              "      <th>2</th>\n",
              "      <td>Abbotsford</td>\n",
              "      <td>5 Charles St</td>\n",
              "      <td>3</td>\n",
              "      <td>h</td>\n",
              "      <td>1465000.0</td>\n",
              "      <td>SP</td>\n",
              "      <td>Biggin</td>\n",
              "      <td>4/03/2017</td>\n",
              "      <td>2.5</td>\n",
              "      <td>3067.0</td>\n",
              "      <td>...</td>\n",
              "      <td>Yarra</td>\n",
              "      <td>-37.8093</td>\n",
              "      <td>144.9944</td>\n",
              "      <td>Northern Metropolitan</td>\n",
              "      <td>4019.0</td>\n",
              "      <td>3067.0</td>\n",
              "      <td>130.624031</td>\n",
              "      <td>258.0</td>\n",
              "      <td>605.152174</td>\n",
              "      <td>2187.032258</td>\n",
              "    </tr>\n",
              "  </tbody>\n",
              "</table>\n",
              "<p>3 rows × 24 columns</p>\n",
              "</div>\n",
              "      <button class=\"colab-df-convert\" onclick=\"convertToInteractive('df-1aabfef0-3c38-49ef-805f-f5d323c5952c')\"\n",
              "              title=\"Convert this dataframe to an interactive table.\"\n",
              "              style=\"display:none;\">\n",
              "        \n",
              "  <svg xmlns=\"http://www.w3.org/2000/svg\" height=\"24px\"viewBox=\"0 0 24 24\"\n",
              "       width=\"24px\">\n",
              "    <path d=\"M0 0h24v24H0V0z\" fill=\"none\"/>\n",
              "    <path d=\"M18.56 5.44l.94 2.06.94-2.06 2.06-.94-2.06-.94-.94-2.06-.94 2.06-2.06.94zm-11 1L8.5 8.5l.94-2.06 2.06-.94-2.06-.94L8.5 2.5l-.94 2.06-2.06.94zm10 10l.94 2.06.94-2.06 2.06-.94-2.06-.94-.94-2.06-.94 2.06-2.06.94z\"/><path d=\"M17.41 7.96l-1.37-1.37c-.4-.4-.92-.59-1.43-.59-.52 0-1.04.2-1.43.59L10.3 9.45l-7.72 7.72c-.78.78-.78 2.05 0 2.83L4 21.41c.39.39.9.59 1.41.59.51 0 1.02-.2 1.41-.59l7.78-7.78 2.81-2.81c.8-.78.8-2.07 0-2.86zM5.41 20L4 18.59l7.72-7.72 1.47 1.35L5.41 20z\"/>\n",
              "  </svg>\n",
              "      </button>\n",
              "      \n",
              "  <style>\n",
              "    .colab-df-container {\n",
              "      display:flex;\n",
              "      flex-wrap:wrap;\n",
              "      gap: 12px;\n",
              "    }\n",
              "\n",
              "    .colab-df-convert {\n",
              "      background-color: #E8F0FE;\n",
              "      border: none;\n",
              "      border-radius: 50%;\n",
              "      cursor: pointer;\n",
              "      display: none;\n",
              "      fill: #1967D2;\n",
              "      height: 32px;\n",
              "      padding: 0 0 0 0;\n",
              "      width: 32px;\n",
              "    }\n",
              "\n",
              "    .colab-df-convert:hover {\n",
              "      background-color: #E2EBFA;\n",
              "      box-shadow: 0px 1px 2px rgba(60, 64, 67, 0.3), 0px 1px 3px 1px rgba(60, 64, 67, 0.15);\n",
              "      fill: #174EA6;\n",
              "    }\n",
              "\n",
              "    [theme=dark] .colab-df-convert {\n",
              "      background-color: #3B4455;\n",
              "      fill: #D2E3FC;\n",
              "    }\n",
              "\n",
              "    [theme=dark] .colab-df-convert:hover {\n",
              "      background-color: #434B5C;\n",
              "      box-shadow: 0px 1px 3px 1px rgba(0, 0, 0, 0.15);\n",
              "      filter: drop-shadow(0px 1px 2px rgba(0, 0, 0, 0.3));\n",
              "      fill: #FFFFFF;\n",
              "    }\n",
              "  </style>\n",
              "\n",
              "      <script>\n",
              "        const buttonEl =\n",
              "          document.querySelector('#df-1aabfef0-3c38-49ef-805f-f5d323c5952c button.colab-df-convert');\n",
              "        buttonEl.style.display =\n",
              "          google.colab.kernel.accessAllowed ? 'block' : 'none';\n",
              "\n",
              "        async function convertToInteractive(key) {\n",
              "          const element = document.querySelector('#df-1aabfef0-3c38-49ef-805f-f5d323c5952c');\n",
              "          const dataTable =\n",
              "            await google.colab.kernel.invokeFunction('convertToInteractive',\n",
              "                                                     [key], {});\n",
              "          if (!dataTable) return;\n",
              "\n",
              "          const docLinkHtml = 'Like what you see? Visit the ' +\n",
              "            '<a target=\"_blank\" href=https://colab.research.google.com/notebooks/data_table.ipynb>data table notebook</a>'\n",
              "            + ' to learn more about interactive tables.';\n",
              "          element.innerHTML = '';\n",
              "          dataTable['output_type'] = 'display_data';\n",
              "          await google.colab.output.renderOutput(dataTable, element);\n",
              "          const docLink = document.createElement('div');\n",
              "          docLink.innerHTML = docLinkHtml;\n",
              "          element.appendChild(docLink);\n",
              "        }\n",
              "      </script>\n",
              "    </div>\n",
              "  </div>\n",
              "  "
            ]
          },
          "metadata": {},
          "execution_count": 3
        }
      ]
    },
    {
      "cell_type": "markdown",
      "source": [
        "### 1.2. Aplicar una codificación One-hot encoding a cada fila, tanto para variables numéricas como categóricas. Si lo consideran necesario, pueden volver a reducir el número de categorías únicas."
      ],
      "metadata": {
        "id": "qwY3-g_xZI96"
      }
    },
    {
      "cell_type": "code",
      "source": [
        "df.columns\n",
        "df.info()"
      ],
      "metadata": {
        "id": "4OWdtS4XVVEf",
        "outputId": "3f5a38c5-9e80-4987-cc09-cadaf0fd0388",
        "colab": {
          "base_uri": "https://localhost:8080/"
        }
      },
      "execution_count": 4,
      "outputs": [
        {
          "output_type": "stream",
          "name": "stdout",
          "text": [
            "<class 'pandas.core.frame.DataFrame'>\n",
            "RangeIndex: 13580 entries, 0 to 13579\n",
            "Data columns (total 24 columns):\n",
            " #   Column                     Non-Null Count  Dtype  \n",
            "---  ------                     --------------  -----  \n",
            " 0   Suburb                     13580 non-null  object \n",
            " 1   Address                    13580 non-null  object \n",
            " 2   Rooms                      13580 non-null  int64  \n",
            " 3   Type                       13580 non-null  object \n",
            " 4   Price                      13580 non-null  float64\n",
            " 5   Method                     13580 non-null  object \n",
            " 6   SellerG                    13580 non-null  object \n",
            " 7   Date                       13580 non-null  object \n",
            " 8   Distance                   13580 non-null  float64\n",
            " 9   Postcode                   13580 non-null  float64\n",
            " 10  Bedroom2                   13580 non-null  float64\n",
            " 11  Bathroom                   13580 non-null  float64\n",
            " 12  Car                        13518 non-null  float64\n",
            " 13  Landsize                   13580 non-null  float64\n",
            " 14  CouncilArea                12211 non-null  object \n",
            " 15  Lattitude                  13580 non-null  float64\n",
            " 16  Longtitude                 13580 non-null  float64\n",
            " 17  Regionname                 13580 non-null  object \n",
            " 18  Propertycount              13580 non-null  float64\n",
            " 19  zipcode                    13560 non-null  float64\n",
            " 20  airbnb_price_mean          13560 non-null  float64\n",
            " 21  airbnb_record_count        13560 non-null  float64\n",
            " 22  airbnb_weekly_price_mean   12705 non-null  float64\n",
            " 23  airbnb_monthly_price_mean  12312 non-null  float64\n",
            "dtypes: float64(15), int64(1), object(8)\n",
            "memory usage: 2.5+ MB\n"
          ]
        }
      ]
    },
    {
      "cell_type": "code",
      "source": [
        "vs = df.columns.to_series().groupby(df.dtypes).groups\n",
        "list(vs.keys())"
      ],
      "metadata": {
        "id": "IjvYClrIWMKJ",
        "outputId": "0049dc38-f3d0-4d21-866b-aa6d9d8c4eb6",
        "colab": {
          "base_uri": "https://localhost:8080/"
        }
      },
      "execution_count": 5,
      "outputs": [
        {
          "output_type": "execute_result",
          "data": {
            "text/plain": [
              "[dtype('int64'), dtype('float64'), dtype('O')]"
            ]
          },
          "metadata": {},
          "execution_count": 5
        }
      ]
    },
    {
      "cell_type": "code",
      "source": [
        "vs[np.dtype('int64')]"
      ],
      "metadata": {
        "id": "VMazpC_SXlCM",
        "outputId": "149385b6-dc6a-4144-ab6f-2cd4dbf7be28",
        "colab": {
          "base_uri": "https://localhost:8080/"
        }
      },
      "execution_count": 6,
      "outputs": [
        {
          "output_type": "execute_result",
          "data": {
            "text/plain": [
              "Index(['Rooms'], dtype='object')"
            ]
          },
          "metadata": {},
          "execution_count": 6
        }
      ]
    },
    {
      "cell_type": "code",
      "source": [
        "non_numeric_cols = ['zipcode', 'Postcode']"
      ],
      "metadata": {
        "id": "IUOplWQNkkSr"
      },
      "execution_count": 7,
      "outputs": []
    },
    {
      "cell_type": "code",
      "source": [
        "protonumeric = np.append(vs[np.dtype('float64')].values, vs[np.dtype('int64')].values)\n",
        "numeric = [n for n in protonumeric if n not in non_numeric_cols]\n",
        "numeric"
      ],
      "metadata": {
        "id": "BI1EJx8rZgB1",
        "outputId": "30af27f0-e8af-47b4-b048-effdb6c34bca",
        "colab": {
          "base_uri": "https://localhost:8080/"
        }
      },
      "execution_count": 8,
      "outputs": [
        {
          "output_type": "execute_result",
          "data": {
            "text/plain": [
              "['Price',\n",
              " 'Distance',\n",
              " 'Bedroom2',\n",
              " 'Bathroom',\n",
              " 'Car',\n",
              " 'Landsize',\n",
              " 'Lattitude',\n",
              " 'Longtitude',\n",
              " 'Propertycount',\n",
              " 'airbnb_price_mean',\n",
              " 'airbnb_record_count',\n",
              " 'airbnb_weekly_price_mean',\n",
              " 'airbnb_monthly_price_mean',\n",
              " 'Rooms']"
            ]
          },
          "metadata": {},
          "execution_count": 8
        }
      ]
    },
    {
      "cell_type": "code",
      "source": [
        "categorical = vs[np.dtype('O')]\n",
        "categorical = np.append(categorical, non_numeric_cols)\n",
        "categorical"
      ],
      "metadata": {
        "id": "Be5v70F5bgGn",
        "outputId": "505a7ff4-83c0-4dd7-9d46-403a54a245ff",
        "colab": {
          "base_uri": "https://localhost:8080/"
        }
      },
      "execution_count": 9,
      "outputs": [
        {
          "output_type": "execute_result",
          "data": {
            "text/plain": [
              "array(['Suburb', 'Address', 'Type', 'Method', 'SellerG', 'Date',\n",
              "       'CouncilArea', 'Regionname', 'zipcode', 'Postcode'], dtype=object)"
            ]
          },
          "metadata": {},
          "execution_count": 9
        }
      ]
    },
    {
      "cell_type": "code",
      "metadata": {
        "id": "K_Qk43aLIl4d"
      },
      "source": [
        "c_all = df.columns\n",
        "c_cat = categorical\n",
        "c_num = numeric"
      ],
      "execution_count": 10,
      "outputs": []
    },
    {
      "cell_type": "code",
      "metadata": {
        "colab": {
          "base_uri": "https://localhost:8080/"
        },
        "id": "oSNfW1BBJnV0",
        "outputId": "87e61150-e300-4e7f-d8ef-7c22dff67829"
      },
      "source": [
        "df[c_cat].nunique()"
      ],
      "execution_count": 11,
      "outputs": [
        {
          "output_type": "execute_result",
          "data": {
            "text/plain": [
              "Suburb           314\n",
              "Address        13378\n",
              "Type               3\n",
              "Method             5\n",
              "SellerG          268\n",
              "Date              58\n",
              "CouncilArea       33\n",
              "Regionname         8\n",
              "zipcode          191\n",
              "Postcode         198\n",
              "dtype: int64"
            ]
          },
          "metadata": {},
          "execution_count": 11
        }
      ]
    },
    {
      "cell_type": "code",
      "metadata": {
        "colab": {
          "base_uri": "https://localhost:8080/"
        },
        "id": "XPDDOVHNNywn",
        "outputId": "30c9b2cb-340f-451f-e88f-b427169ffb31"
      },
      "source": [
        "# Check for nulls\n",
        "df[c_cat].isna().sum()"
      ],
      "execution_count": 12,
      "outputs": [
        {
          "output_type": "execute_result",
          "data": {
            "text/plain": [
              "Suburb            0\n",
              "Address           0\n",
              "Type              0\n",
              "Method            0\n",
              "SellerG           0\n",
              "Date              0\n",
              "CouncilArea    1369\n",
              "Regionname        0\n",
              "zipcode          20\n",
              "Postcode          0\n",
              "dtype: int64"
            ]
          },
          "metadata": {},
          "execution_count": 12
        }
      ]
    },
    {
      "cell_type": "code",
      "source": [
        "from sklearn.preprocessing import OneHotEncoder\n",
        "\n",
        "encoder_sub = OneHotEncoder(sparse=False)\n",
        "encoder_sub.fit(df[['Suburb']])\n",
        "#print('Suburb')\n",
        "#print(encoder_sub.categories_)\n",
        "#print()\n",
        "\n",
        "encoder_typ = OneHotEncoder(sparse=False)\n",
        "encoder_typ.fit(df[['Type']])\n",
        "#print('Type')\n",
        "#print(encoder_typ.categories_)\n",
        "#print()\n",
        "\n",
        "encoder_met = OneHotEncoder(sparse=False)\n",
        "encoder_met.fit(df[['Method']])\n",
        "#print('Method')\n",
        "#print(encoder_met.categories_)\n",
        "#print()\n",
        "\n",
        "encoder_sel = OneHotEncoder(sparse=False)\n",
        "encoder_sel.fit(df[['SellerG']])\n",
        "#print('SellerG')\n",
        "#print(encoder_sel.categories_)\n",
        "#print()\n",
        "\n",
        "encoder_dat = OneHotEncoder(sparse=False)\n",
        "encoder_dat.fit(df[['Date']])\n",
        "#print('Date')\n",
        "#print(encoder_dat.categories_)\n",
        "#print()\n",
        "\n",
        "encoder_cou = OneHotEncoder(sparse=False)\n",
        "encoder_cou.fit(df[['CouncilArea']])\n",
        "#print('CouncilArea')\n",
        "#print(encoder_cou.categories_)\n",
        "#print()\n",
        "\n",
        "encoder_reg = OneHotEncoder(sparse=False)\n",
        "encoder_reg.fit(df[['Regionname']])\n",
        "#print('Regionname')\n",
        "#print(encoder_reg.categories_)\n",
        "#print()"
      ],
      "metadata": {
        "id": "be9_k-1Zao8h",
        "colab": {
          "base_uri": "https://localhost:8080/"
        },
        "outputId": "e038f6a9-79e5-4242-e9fe-6a7bed4b0764"
      },
      "execution_count": 13,
      "outputs": [
        {
          "output_type": "execute_result",
          "data": {
            "text/plain": [
              "OneHotEncoder(sparse=False)"
            ]
          },
          "metadata": {},
          "execution_count": 13
        }
      ]
    },
    {
      "cell_type": "code",
      "source": [
        "et_sub = encoder_sub.transform(df[['Suburb']])\n",
        "et_typ = encoder_typ.transform(df[['Type']])\n",
        "et_met = encoder_met.transform(df[['Method']])\n",
        "et_sel = encoder_sel.transform(df[['SellerG']])\n",
        "et_dat = encoder_dat.transform(df[['Date']])\n",
        "et_cou = encoder_cou.transform(df[['CouncilArea']])\n",
        "et_reg = encoder_reg.transform(df[['Regionname']])\n",
        "\n",
        "et_sub[:5]"
      ],
      "metadata": {
        "id": "naHSDcEAnudS",
        "colab": {
          "base_uri": "https://localhost:8080/"
        },
        "outputId": "4a594451-cc7c-400d-a5a5-2150f2a20d1f"
      },
      "execution_count": 14,
      "outputs": [
        {
          "output_type": "execute_result",
          "data": {
            "text/plain": [
              "array([[1., 0., 0., ..., 0., 0., 0.],\n",
              "       [1., 0., 0., ..., 0., 0., 0.],\n",
              "       [1., 0., 0., ..., 0., 0., 0.],\n",
              "       [1., 0., 0., ..., 0., 0., 0.],\n",
              "       [1., 0., 0., ..., 0., 0., 0.]])"
            ]
          },
          "metadata": {},
          "execution_count": 14
        }
      ]
    },
    {
      "cell_type": "code",
      "source": [
        "from sklearn.pipeline import Pipeline\n",
        "from sklearn import preprocessing\n",
        "from sklearn.preprocessing import OneHotEncoder\n",
        "from sklearn.compose import ColumnTransformer\n",
        "\n",
        "#c_cat = ['Suburb', 'Type', 'Method', 'SellerG', 'Date', 'CouncilArea', 'Regionname']\n",
        "#c_num = ['Address', 'Rooms', 'Price', 'Distance', 'Postcode', 'Bedroom2', \n",
        "#         'Bathroom', 'Car', 'Landsize', 'Lattitude', 'Longtitude', \n",
        "#         'Propertycount', 'zipcode', 'airbnb_price_mean', 'airbnb_record_count',\n",
        "#         'airbnb_weekly_price_mean', 'airbnb_monthly_price_mean']\n",
        "\n",
        "categorical_cols = ['Type', 'Regionname','Suburb']\n",
        "numerical_cols = ['Rooms', 'Bathroom']\n",
        "melb_df_categoricas=df[categorical_cols]\n",
        "melb_df_numericas=df[numerical_cols]\n",
        "\n",
        "feature_cols = ['Type','Regionname','Suburb']\n",
        "TypeList=melb_df_categoricas['Type'].unique()\n",
        "RegionnameList=melb_df_categoricas['Regionname'].unique()\n",
        "SuburbList=melb_df_categoricas['Suburb'].unique()\n",
        "\n",
        "x = melb_df_categoricas.values  # genera un numpy.ndarray\n",
        "enc = preprocessing.OneHotEncoder(categories=[TypeList, RegionnameList, SuburbList])\n",
        "enc.fit(x)\n",
        "encoded_categoricas = enc.transform(melb_df_categoricas).toarray()\n",
        "\n",
        "encoded_categoricas[:3]\n",
        "enc.get_feature_names() "
      ],
      "metadata": {
        "colab": {
          "base_uri": "https://localhost:8080/"
        },
        "id": "vZQrahdyqaq9",
        "outputId": "8c7de155-ca5d-45f1-c8f9-f616f615593b"
      },
      "execution_count": 15,
      "outputs": [
        {
          "output_type": "stream",
          "name": "stderr",
          "text": [
            "/usr/local/lib/python3.7/dist-packages/sklearn/base.py:444: UserWarning: X has feature names, but OneHotEncoder was fitted without feature names\n",
            "  f\"X has feature names, but {self.__class__.__name__} was fitted without\"\n",
            "/usr/local/lib/python3.7/dist-packages/sklearn/utils/deprecation.py:87: FutureWarning: Function get_feature_names is deprecated; get_feature_names is deprecated in 1.0 and will be removed in 1.2. Please use get_feature_names_out instead.\n",
            "  warnings.warn(msg, category=FutureWarning)\n"
          ]
        },
        {
          "output_type": "execute_result",
          "data": {
            "text/plain": [
              "array(['x0_h', 'x0_u', 'x0_t', 'x1_Northern Metropolitan',\n",
              "       'x1_Western Metropolitan', 'x1_Southern Metropolitan',\n",
              "       'x1_Eastern Metropolitan', 'x1_South-Eastern Metropolitan',\n",
              "       'x1_Eastern Victoria', 'x1_Northern Victoria',\n",
              "       'x1_Western Victoria', 'x2_Abbotsford', 'x2_Airport West',\n",
              "       'x2_Albert Park', 'x2_Alphington', 'x2_Altona', 'x2_Altona North',\n",
              "       'x2_Armadale', 'x2_Ascot Vale', 'x2_Ashburton', 'x2_Ashwood',\n",
              "       'x2_Avondale Heights', 'x2_Balaclava', 'x2_Balwyn',\n",
              "       'x2_Balwyn North', 'x2_Bentleigh', 'x2_Bentleigh East',\n",
              "       'x2_Box Hill', 'x2_Braybrook', 'x2_Brighton', 'x2_Brighton East',\n",
              "       'x2_Brunswick', 'x2_Brunswick West', 'x2_Bulleen', 'x2_Burwood',\n",
              "       'x2_Camberwell', 'x2_Canterbury', 'x2_Carlton North',\n",
              "       'x2_Carnegie', 'x2_Caulfield', 'x2_Caulfield North',\n",
              "       'x2_Caulfield South', 'x2_Chadstone', 'x2_Clifton Hill',\n",
              "       'x2_Coburg', 'x2_Coburg North', 'x2_Collingwood', 'x2_Doncaster',\n",
              "       'x2_Eaglemont', 'x2_Elsternwick', 'x2_Elwood', 'x2_Essendon',\n",
              "       'x2_Essendon North', 'x2_Fairfield', 'x2_Fitzroy',\n",
              "       'x2_Fitzroy North', 'x2_Flemington', 'x2_Footscray',\n",
              "       'x2_Glen Iris', 'x2_Glenroy', 'x2_Gowanbrae', 'x2_Hadfield',\n",
              "       'x2_Hampton', 'x2_Hampton East', 'x2_Hawthorn',\n",
              "       'x2_Heidelberg Heights', 'x2_Heidelberg West', 'x2_Hughesdale',\n",
              "       'x2_Ivanhoe', 'x2_Kealba', 'x2_Keilor East', 'x2_Kensington',\n",
              "       'x2_Kew', 'x2_Kew East', 'x2_Kooyong', 'x2_Maidstone',\n",
              "       'x2_Malvern', 'x2_Malvern East', 'x2_Maribyrnong', 'x2_Melbourne',\n",
              "       'x2_Middle Park', 'x2_Mont Albert', 'x2_Moonee Ponds',\n",
              "       'x2_Moorabbin', 'x2_Newport', 'x2_Niddrie', 'x2_North Melbourne',\n",
              "       'x2_Northcote', 'x2_Oak Park', 'x2_Oakleigh South', 'x2_Parkville',\n",
              "       'x2_Pascoe Vale', 'x2_Port Melbourne', 'x2_Prahran', 'x2_Preston',\n",
              "       'x2_Reservoir', 'x2_Richmond', 'x2_Rosanna', 'x2_Seddon',\n",
              "       'x2_South Melbourne', 'x2_South Yarra', 'x2_Southbank',\n",
              "       'x2_Spotswood', 'x2_St Kilda', 'x2_Strathmore', 'x2_Sunshine',\n",
              "       'x2_Sunshine North', 'x2_Sunshine West', 'x2_Surrey Hills',\n",
              "       'x2_Templestowe Lower', 'x2_Thornbury', 'x2_Toorak', 'x2_Viewbank',\n",
              "       'x2_Watsonia', 'x2_West Melbourne', 'x2_Williamstown',\n",
              "       'x2_Williamstown North', 'x2_Windsor', 'x2_Yallambie',\n",
              "       'x2_Yarraville', 'x2_Aberfeldie', 'x2_Bellfield',\n",
              "       'x2_Brunswick East', 'x2_Burnley', 'x2_Campbellfield',\n",
              "       'x2_Carlton', 'x2_East Melbourne', 'x2_Essendon West',\n",
              "       'x2_Fawkner', 'x2_Hawthorn East', 'x2_Heidelberg',\n",
              "       'x2_Ivanhoe East', 'x2_Jacana', 'x2_Kingsbury', 'x2_Kingsville',\n",
              "       'x2_Murrumbeena', 'x2_Ormond', 'x2_West Footscray', 'x2_Albion',\n",
              "       'x2_Brooklyn', 'x2_Glen Huntly', 'x2_Oakleigh', 'x2_Ripponlea',\n",
              "       'x2_Cremorne', 'x2_Docklands', 'x2_South Kingsville',\n",
              "       'x2_Strathmore Heights', 'x2_Travancore', 'x2_Caulfield East',\n",
              "       'x2_Seaholme', 'x2_Keilor Park', 'x2_Gardenvale',\n",
              "       'x2_Princes Hill', 'x2_Bayswater', 'x2_Bayswater North',\n",
              "       'x2_Beaumaris', 'x2_Berwick', 'x2_Boronia', 'x2_Briar Hill',\n",
              "       'x2_Broadmeadows', 'x2_Bundoora', 'x2_Burnside Heights',\n",
              "       'x2_Burwood East', 'x2_Cairnlea', 'x2_Caroline Springs',\n",
              "       'x2_Cheltenham', 'x2_Craigieburn', 'x2_Cranbourne', 'x2_Croydon',\n",
              "       'x2_Dandenong', 'x2_Dandenong North', 'x2_Diamond Creek',\n",
              "       'x2_Dingley Village', 'x2_Doncaster East', 'x2_Donvale',\n",
              "       'x2_Doreen', 'x2_Eltham', 'x2_Epping', 'x2_Forest Hill',\n",
              "       'x2_Frankston', 'x2_Frankston North', 'x2_Frankston South',\n",
              "       'x2_Gisborne', 'x2_Gladstone Park', 'x2_Greensborough',\n",
              "       'x2_Hallam', 'x2_Healesville', 'x2_Highett', 'x2_Hillside',\n",
              "       'x2_Huntingdale', 'x2_Keilor Downs', 'x2_Keilor Lodge',\n",
              "       'x2_Keysborough', 'x2_Kings Park', 'x2_Lalor', 'x2_Lower Plenty',\n",
              "       'x2_Melton', 'x2_Mernda', 'x2_Mill Park', 'x2_Mitcham',\n",
              "       'x2_Montmorency', 'x2_Mordialloc', 'x2_Mount Waverley',\n",
              "       'x2_Narre Warren', 'x2_Nunawading', 'x2_Oakleigh East',\n",
              "       'x2_Parkdale', 'x2_Point Cook', 'x2_Ringwood East', 'x2_Rockbank',\n",
              "       'x2_Rowville', 'x2_Sandringham', 'x2_Seaford', 'x2_Skye',\n",
              "       'x2_South Morang', 'x2_Springvale', 'x2_St Albans', 'x2_Sunbury',\n",
              "       'x2_Tarneit', 'x2_Taylors Hill', 'x2_Taylors Lakes',\n",
              "       'x2_The Basin', 'x2_Thomastown', 'x2_Truganina', 'x2_Tullamarine',\n",
              "       'x2_Vermont', 'x2_Wantirna', 'x2_Wantirna South', 'x2_Werribee',\n",
              "       'x2_Westmeadows', 'x2_Williams Landing', 'x2_Wollert',\n",
              "       'x2_Wyndham Vale', 'x2_Black Rock', 'x2_Blackburn',\n",
              "       'x2_Blackburn North', 'x2_Bonbeach', 'x2_Carrum', 'x2_Chelsea',\n",
              "       'x2_Clayton', 'x2_Doveton', 'x2_Ferntree Gully',\n",
              "       'x2_Glen Waverley', 'x2_Greenvale', 'x2_Heathmont',\n",
              "       'x2_Hoppers Crossing', 'x2_McKinnon', 'x2_Melton South',\n",
              "       'x2_Melton West', 'x2_Mentone', 'x2_Mooroolbark', 'x2_Mulgrave',\n",
              "       'x2_Ringwood', 'x2_Roxburgh Park', 'x2_Seabrook', 'x2_Templestowe',\n",
              "       'x2_Vermont South', 'x2_Warrandyte', 'x2_Watsonia North',\n",
              "       'x2_Wheelers Hill', 'x2_Altona Meadows', 'x2_Blackburn South',\n",
              "       'x2_Carrum Downs', 'x2_Clayton South', 'x2_Croydon North',\n",
              "       'x2_Langwarrin', 'x2_Noble Park', 'x2_Notting Hill',\n",
              "       'x2_Ringwood North', 'x2_Sydenham', 'x2_Albanvale',\n",
              "       'x2_Beaconsfield Upper', 'x2_Chelsea Heights', 'x2_Dallas',\n",
              "       'x2_Deer Park', 'x2_Eltham North', 'x2_Keilor',\n",
              "       'x2_Meadow Heights', 'x2_Mount Evelyn', 'x2_North Warrandyte',\n",
              "       'x2_Pakenham', 'x2_Riddells Creek', 'x2_Sandhurst', 'x2_Scoresby',\n",
              "       'x2_Silvan', 'x2_Aspendale', 'x2_Chirnside Park',\n",
              "       'x2_Croydon Hills', 'x2_Croydon South', 'x2_Derrimut',\n",
              "       'x2_Diggers Rest', 'x2_Edithvale', 'x2_Hampton Park',\n",
              "       'x2_Knoxfield', 'x2_St Helena', 'x2_Upwey', 'x2_Bacchus Marsh',\n",
              "       'x2_Coolaroo', 'x2_Cranbourne North', 'x2_Kilsyth', 'x2_Montrose',\n",
              "       'x2_Aspendale Gardens', 'x2_Bullengarook', 'x2_Clarinda',\n",
              "       'x2_Deepdene', 'x2_Delahey', 'x2_Hurstbridge', 'x2_Kurunjang',\n",
              "       'x2_Wonga Park', 'x2_Endeavour Hills', 'x2_Officer',\n",
              "       'x2_Waterways', 'x2_Ardeer', 'x2_Beaconsfield',\n",
              "       'x2_Springvale South', 'x2_Yarra Glen', 'x2_Brookfield',\n",
              "       'x2_Emerald', 'x2_Whittlesea', 'x2_Burnside', 'x2_Attwood',\n",
              "       'x2_Wallan', 'x2_New Gisborne', 'x2_Plumpton', 'x2_Monbulk'],\n",
              "      dtype=object)"
            ]
          },
          "metadata": {},
          "execution_count": 15
        }
      ]
    },
    {
      "cell_type": "markdown",
      "source": [
        "**VERSION FINAL**"
      ],
      "metadata": {
        "id": "z3al_HjQ5q_a"
      }
    },
    {
      "cell_type": "code",
      "source": [
        "df_cat = df[c_cat]\n",
        "df_num = df[c_num]\n",
        "\n",
        "df_cat['Postcode'] = df_cat['Postcode'].apply(str)\n",
        "df_cat['zipcode']  = df_cat['zipcode'].apply(str)\n",
        "\n",
        "#valores de las variables categoricas\n",
        "categorias = [df_cat[col].value_counts().index.values for col in c_cat]"
      ],
      "metadata": {
        "colab": {
          "base_uri": "https://localhost:8080/"
        },
        "id": "JPWBYB9h5qtc",
        "outputId": "d213852c-417b-4639-8cb6-5f3c26ffd21d"
      },
      "execution_count": 16,
      "outputs": [
        {
          "output_type": "stream",
          "name": "stderr",
          "text": [
            "/usr/local/lib/python3.7/dist-packages/ipykernel_launcher.py:4: SettingWithCopyWarning: \n",
            "A value is trying to be set on a copy of a slice from a DataFrame.\n",
            "Try using .loc[row_indexer,col_indexer] = value instead\n",
            "\n",
            "See the caveats in the documentation: https://pandas.pydata.org/pandas-docs/stable/user_guide/indexing.html#returning-a-view-versus-a-copy\n",
            "  after removing the cwd from sys.path.\n",
            "/usr/local/lib/python3.7/dist-packages/ipykernel_launcher.py:5: SettingWithCopyWarning: \n",
            "A value is trying to be set on a copy of a slice from a DataFrame.\n",
            "Try using .loc[row_indexer,col_indexer] = value instead\n",
            "\n",
            "See the caveats in the documentation: https://pandas.pydata.org/pandas-docs/stable/user_guide/indexing.html#returning-a-view-versus-a-copy\n",
            "  \"\"\"\n"
          ]
        }
      ]
    },
    {
      "cell_type": "code",
      "source": [
        "encoder = OneHotEncoder(categories=categorias, handle_unknown=\"ignore\")\n",
        "encoder.fit(df_cat)\n",
        "\n",
        "et = encoder.transform(df_cat).toarray()#.todense()\n",
        "dat_enc = np.hstack([et, df_num])\n",
        "dat_enc.shape"
      ],
      "metadata": {
        "id": "iaLCYLtwlot4",
        "outputId": "0caaf942-09b6-4ae9-a44d-2314eda94ba6",
        "colab": {
          "base_uri": "https://localhost:8080/"
        }
      },
      "execution_count": 17,
      "outputs": [
        {
          "output_type": "execute_result",
          "data": {
            "text/plain": [
              "(13580, 14471)"
            ]
          },
          "metadata": {},
          "execution_count": 17
        }
      ]
    },
    {
      "cell_type": "markdown",
      "source": [
        "En `dat_enc` estan todos los datos categoricos ya codificados, unidos con los datos numéricos del dataframe original. La única observación es que los datos están en formato matriz, no en un dataframe."
      ],
      "metadata": {
        "id": "Ggd-6I5b-ZrL"
      }
    },
    {
      "cell_type": "code",
      "source": [
        "ohc = encoder.get_feature_names_out(df_cat.columns)\n",
        "cols = np.append(ohc, df_num.columns)\n",
        "oh_df = pd.DataFrame(dat_enc, columns = cols)"
      ],
      "metadata": {
        "id": "7eNlynvBUHaJ"
      },
      "execution_count": 18,
      "outputs": []
    },
    {
      "cell_type": "markdown",
      "metadata": {
        "id": "ismngxPcfoWb"
      },
      "source": [
        "## Ejercicio 2: Imputación por KNN\n",
        "\n",
        "En el teórico se presentó el método `IterativeImputer` para imputar valores faltantes en variables numéricas. Sin embargo, los ejemplos presentados sólo utilizaban algunas variables numéricas presentes en el conjunto de datos. En este ejercicio, utilizaremos la matriz de datos codificada para imputar datos faltantes de manera más precisa.\n",
        "\n",
        "1. Agregue a la matriz obtenida en el punto anterior las columnas `YearBuilt` y `BuildingArea`.\n",
        "2. Aplique una instancia de `IterativeImputer` con un estimador `KNeighborsRegressor` para imputar los valores de las variables. ¿Es necesario estandarizar o escalar los datos previamente?\n",
        "3. Realice un gráfico mostrando la distribución de cada variable antes de ser imputada, y con ambos métodos de imputación."
      ]
    },
    {
      "cell_type": "code",
      "metadata": {
        "id": "G4ClSr_JapCw",
        "colab": {
          "base_uri": "https://localhost:8080/"
        },
        "outputId": "ad49463d-ea6e-4e53-8c78-25498abdc01c"
      },
      "source": [
        "from sklearn.experimental import enable_iterative_imputer\n",
        "from sklearn.neighbors import KNeighborsRegressor\n",
        "from sklearn.impute import IterativeImputer\n",
        "\n",
        "melb_data_mice = melb_df.copy(deep=True)\n",
        "\n",
        "mice_imputer = IterativeImputer(random_state=0, estimator=KNeighborsRegressor())\n",
        "melb_data_mice[['YearBuilt','BuildingArea']] = mice_imputer.fit_transform(\n",
        "    melb_data_mice[['YearBuilt', 'BuildingArea']])"
      ],
      "execution_count": 19,
      "outputs": [
        {
          "output_type": "stream",
          "name": "stderr",
          "text": [
            "/usr/local/lib/python3.7/dist-packages/sklearn/impute/_iterative.py:701: ConvergenceWarning: [IterativeImputer] Early stopping criterion not reached.\n",
            "  ConvergenceWarning,\n"
          ]
        }
      ]
    },
    {
      "cell_type": "markdown",
      "metadata": {
        "id": "ImjXQZUbVoKH"
      },
      "source": [
        "Ejemplo de gráfico comparando las distribuciones de datos obtenidas con cada método de imputación."
      ]
    },
    {
      "cell_type": "code",
      "metadata": {
        "colab": {
          "base_uri": "https://localhost:8080/",
          "height": 244
        },
        "id": "PMK1ktqYQTJK",
        "outputId": "cdf9076b-4c7a-4155-d4cd-c8138c647701"
      },
      "source": [
        "mice_year_built = melb_data_mice.YearBuilt.to_frame()\n",
        "mice_year_built['Imputation'] = 'KNN over YearBuilt and BuildingArea'\n",
        "melb_year_build = melb_df.YearBuilt.dropna().to_frame()\n",
        "melb_year_build['Imputation'] = 'Original'\n",
        "data = pandas.concat([mice_year_built, melb_year_build])\n",
        "fig = plt.figure(figsize=(8, 5))\n",
        "g = seaborn.kdeplot(data=data, x='YearBuilt', hue='Imputation')"
      ],
      "execution_count": 20,
      "outputs": [
        {
          "output_type": "error",
          "ename": "NameError",
          "evalue": "ignored",
          "traceback": [
            "\u001b[0;31m---------------------------------------------------------------------------\u001b[0m",
            "\u001b[0;31mNameError\u001b[0m                                 Traceback (most recent call last)",
            "\u001b[0;32m<ipython-input-20-7b0b4c8c2633>\u001b[0m in \u001b[0;36m<module>\u001b[0;34m()\u001b[0m\n\u001b[1;32m      3\u001b[0m \u001b[0mmelb_year_build\u001b[0m \u001b[0;34m=\u001b[0m \u001b[0mmelb_df\u001b[0m\u001b[0;34m.\u001b[0m\u001b[0mYearBuilt\u001b[0m\u001b[0;34m.\u001b[0m\u001b[0mdropna\u001b[0m\u001b[0;34m(\u001b[0m\u001b[0;34m)\u001b[0m\u001b[0;34m.\u001b[0m\u001b[0mto_frame\u001b[0m\u001b[0;34m(\u001b[0m\u001b[0;34m)\u001b[0m\u001b[0;34m\u001b[0m\u001b[0;34m\u001b[0m\u001b[0m\n\u001b[1;32m      4\u001b[0m \u001b[0mmelb_year_build\u001b[0m\u001b[0;34m[\u001b[0m\u001b[0;34m'Imputation'\u001b[0m\u001b[0;34m]\u001b[0m \u001b[0;34m=\u001b[0m \u001b[0;34m'Original'\u001b[0m\u001b[0;34m\u001b[0m\u001b[0;34m\u001b[0m\u001b[0m\n\u001b[0;32m----> 5\u001b[0;31m \u001b[0mdata\u001b[0m \u001b[0;34m=\u001b[0m \u001b[0mpandas\u001b[0m\u001b[0;34m.\u001b[0m\u001b[0mconcat\u001b[0m\u001b[0;34m(\u001b[0m\u001b[0;34m[\u001b[0m\u001b[0mmice_year_built\u001b[0m\u001b[0;34m,\u001b[0m \u001b[0mmelb_year_build\u001b[0m\u001b[0;34m]\u001b[0m\u001b[0;34m)\u001b[0m\u001b[0;34m\u001b[0m\u001b[0;34m\u001b[0m\u001b[0m\n\u001b[0m\u001b[1;32m      6\u001b[0m \u001b[0mfig\u001b[0m \u001b[0;34m=\u001b[0m \u001b[0mplt\u001b[0m\u001b[0;34m.\u001b[0m\u001b[0mfigure\u001b[0m\u001b[0;34m(\u001b[0m\u001b[0mfigsize\u001b[0m\u001b[0;34m=\u001b[0m\u001b[0;34m(\u001b[0m\u001b[0;36m8\u001b[0m\u001b[0;34m,\u001b[0m \u001b[0;36m5\u001b[0m\u001b[0;34m)\u001b[0m\u001b[0;34m)\u001b[0m\u001b[0;34m\u001b[0m\u001b[0;34m\u001b[0m\u001b[0m\n\u001b[1;32m      7\u001b[0m \u001b[0mg\u001b[0m \u001b[0;34m=\u001b[0m \u001b[0mseaborn\u001b[0m\u001b[0;34m.\u001b[0m\u001b[0mkdeplot\u001b[0m\u001b[0;34m(\u001b[0m\u001b[0mdata\u001b[0m\u001b[0;34m=\u001b[0m\u001b[0mdata\u001b[0m\u001b[0;34m,\u001b[0m \u001b[0mx\u001b[0m\u001b[0;34m=\u001b[0m\u001b[0;34m'YearBuilt'\u001b[0m\u001b[0;34m,\u001b[0m \u001b[0mhue\u001b[0m\u001b[0;34m=\u001b[0m\u001b[0;34m'Imputation'\u001b[0m\u001b[0;34m)\u001b[0m\u001b[0;34m\u001b[0m\u001b[0;34m\u001b[0m\u001b[0m\n",
            "\u001b[0;31mNameError\u001b[0m: name 'pandas' is not defined"
          ]
        }
      ]
    },
    {
      "cell_type": "markdown",
      "source": [
        "## Agregado de columnas\n",
        "Las columnas `YearBuilt` y `BuildingArea` se encuentran en el dataframe original (que no pasó por el `OneHot Encoder` del puntor anterior"
      ],
      "metadata": {
        "id": "0_eT5iSSFwSQ"
      }
    },
    {
      "cell_type": "code",
      "source": [
        "target_cols = ['YearBuilt', 'BuildingArea']"
      ],
      "metadata": {
        "id": "Hc1rllccP5Tx"
      },
      "execution_count": 21,
      "outputs": []
    },
    {
      "cell_type": "code",
      "source": [
        "melb_df.columns"
      ],
      "metadata": {
        "id": "uASeTD-EHojz",
        "outputId": "1dd58ab6-4f5e-479e-caae-ee5c29157734",
        "colab": {
          "base_uri": "https://localhost:8080/"
        }
      },
      "execution_count": 22,
      "outputs": [
        {
          "output_type": "execute_result",
          "data": {
            "text/plain": [
              "Index(['Suburb', 'Address', 'Rooms', 'Type', 'Price', 'Method', 'SellerG',\n",
              "       'Date', 'Distance', 'Postcode', 'Bedroom2', 'Bathroom', 'Car',\n",
              "       'Landsize', 'BuildingArea', 'YearBuilt', 'CouncilArea', 'Lattitude',\n",
              "       'Longtitude', 'Regionname', 'Propertycount', 'zipcode',\n",
              "       'airbnb_price_mean', 'airbnb_record_count', 'airbnb_weekly_price_mean',\n",
              "       'airbnb_monthly_price_mean'],\n",
              "      dtype='object')"
            ]
          },
          "metadata": {},
          "execution_count": 22
        }
      ]
    },
    {
      "cell_type": "code",
      "source": [
        "melb_data_knn = oh_df.copy(deep = True)\n",
        "\n",
        "for tc in target_cols: \n",
        "  melb_data_knn[tc] = melb_df[tc]\n",
        "  melb_data_knn[tc] = melb_df[tc]"
      ],
      "metadata": {
        "id": "8mpmcoeJF0El"
      },
      "execution_count": 23,
      "outputs": []
    },
    {
      "cell_type": "code",
      "source": [
        "melb_data_knn.sample(2)"
      ],
      "metadata": {
        "id": "8snUSHKiQHOm"
      },
      "execution_count": null,
      "outputs": []
    },
    {
      "cell_type": "markdown",
      "source": [
        "## Escalado\n",
        "\n",
        "Antes de imputar los valores faltantes para las nuevas columnas, escalamos los datos al intervalo `[-1, 1]`"
      ],
      "metadata": {
        "id": "8HphDGQvDeI2"
      }
    },
    {
      "cell_type": "code",
      "source": [
        "from sklearn.preprocessing import MaxAbsScaler\n",
        "\n",
        "scaler = MaxAbsScaler()\n",
        "scaler.fit(melb_data_knn)\n",
        "\n",
        "scaled = scaler.transform(melb_data_knn)"
      ],
      "metadata": {
        "id": "S7-MF3jzDdUV"
      },
      "execution_count": 24,
      "outputs": []
    },
    {
      "cell_type": "code",
      "source": [
        "melb_data_knn.info()"
      ],
      "metadata": {
        "id": "NyR6fmVDSfgb"
      },
      "execution_count": null,
      "outputs": []
    },
    {
      "cell_type": "code",
      "source": [
        "scaled.shape"
      ],
      "metadata": {
        "id": "RPvmgJd6Skjz"
      },
      "execution_count": null,
      "outputs": []
    },
    {
      "cell_type": "markdown",
      "source": [
        "## Imputación\n",
        "En este punto buscamos imputar los valores faltantes en las columnas `YearBuilt` y `BuildingArea`"
      ],
      "metadata": {
        "id": "_dSSCPpEKCR5"
      }
    },
    {
      "cell_type": "code",
      "source": [
        "def info_missing(data, features):\n",
        "  \"\"\"\n",
        "  Print the number of rows with missing value for each feature\n",
        "  \"\"\"\n",
        "  for ct in features: \n",
        "    print(f\"Missing values in col {ct}: {data[ct].isna().sum()}\")\n",
        "\n",
        "info_missing(melb_data_knn, target_cols)"
      ],
      "metadata": {
        "id": "SFcB0pOZNV6Q"
      },
      "execution_count": null,
      "outputs": []
    },
    {
      "cell_type": "code",
      "source": [
        "melb_data_knn.isna().sum()"
      ],
      "metadata": {
        "id": "K2sfrX1NT8uU"
      },
      "execution_count": null,
      "outputs": []
    },
    {
      "cell_type": "code",
      "source": [
        "imputer = IterativeImputer(random_state=0, estimator=KNeighborsRegressor())\n",
        "predictions = imputer.fit_transform(melb_data_knn)"
      ],
      "metadata": {
        "id": "rQLYT8rLJ2Ow"
      },
      "execution_count": null,
      "outputs": []
    },
    {
      "cell_type": "code",
      "source": [
        "# Podemos ver que no hay mas nan\n",
        "info_missing(pd.DataFrame(predictions, columns = target_cols), target_cols)\n"
      ],
      "metadata": {
        "id": "c5aInaaSNCDR",
        "outputId": "397d32f9-80c8-4799-aa8f-c017d6b2a2c6",
        "colab": {
          "base_uri": "https://localhost:8080/"
        }
      },
      "execution_count": 54,
      "outputs": [
        {
          "output_type": "stream",
          "name": "stdout",
          "text": [
            "Missing values in col YearBuilt: 0\n",
            "Missing values in col BuildingArea: 0\n"
          ]
        }
      ]
    },
    {
      "cell_type": "markdown",
      "metadata": {
        "id": "NBN7-5OIxjJW"
      },
      "source": [
        "## Ejercicio 3: Reducción de dimensionalidad.\n",
        "\n",
        "Utilizando la matriz obtenida en el ejercicio anterior:\n",
        "1. Aplique `PCA` para obtener $n$ componentes principales de la matriz, donde `n = min(20, X.shape[0])`. ¿Es necesario estandarizar o escalar los datos?\n",
        "2. Grafique la varianza capturada por los primeros $n$ componentes principales, para cada $n$.\n",
        "3. En base al gráfico, seleccione las primeras $m$ columnas de la matriz transformada para agregar como nuevas características al conjunto de datos."
      ]
    },
    {
      "cell_type": "markdown",
      "metadata": {
        "id": "WrZTYmG_ZyDy"
      },
      "source": [
        "## Ejercicio 4: Composición del resultado\n",
        "\n",
        "Transformar nuevamente el conjunto de datos procesado en un `pandas.DataFrame` y guardarlo en un archivo.\n",
        "\n",
        "Para eso, será necesario recordar el nombre original de cada columna de la matriz, en el orden correcto. Tener en cuenta:\n",
        "1. El método `OneHotEncoder.get_feature_names` o el atributo `OneHotEncoder.categories_` permiten obtener una lista con los valores de la categoría que le corresponde a cada índice de la matriz.\n",
        "2. Ninguno de los métodos aplicados intercambia de lugar las columnas o las filas de la matriz."
      ]
    },
    {
      "cell_type": "code",
      "metadata": {
        "id": "DfchYPgTxvQ4"
      },
      "source": [
        "## Small example\n",
        "from sklearn.decomposition import PCA\n",
        "from sklearn.preprocessing import OneHotEncoder\n",
        "\n",
        "## If we process our data with the following steps:\n",
        "categorical_cols = ['Type', 'Regionname']\n",
        "numerical_cols = ['Rooms', 'Distance']\n",
        "new_columns = []\n",
        "\n",
        "# Step 1: encode categorical columns\n",
        "encoder = OneHotEncoder(handle_unknown='ignore', sparse=False)\n",
        "X_cat = encoder.fit_transform(melb_df[categorical_cols])\n",
        "for col, col_values in zip(categorical_cols, encoder.categories_):\n",
        "  for col_value in col_values:\n",
        "    new_columns.append('{}={}'.format(col, col_value))\n",
        "print(\"Matrix has shape {}, with columns: {}\".format(X_cat.shape, new_columns))\n",
        "\n",
        "# Step 2: Append the numerical columns\n",
        "X = numpy.hstack([X_cat, melb_df[numerical_cols].values])\n",
        "new_columns.extend(numerical_cols)\n",
        "print(\"Matrix has shape {}, with columns: {}\".format(X_cat.shape, new_columns))\n",
        "\n",
        "# Step 3: Append some new features, like PCA\n",
        "pca = PCA(n_components=2)\n",
        "pca_dummy_features = pca.fit_transform(X)\n",
        "X_pca = numpy.hstack([X, pca_dummy_features])\n",
        "new_columns.extend(['pca1', 'pca2'])\n",
        "\n",
        "## Re-build dataframe\n",
        "processed_melb_df = pandas.DataFrame(data=X_pca, columns=new_columns)\n",
        "processed_melb_df.head()"
      ],
      "execution_count": null,
      "outputs": []
    },
    {
      "cell_type": "markdown",
      "metadata": {
        "id": "mVBLFc8PhRtW"
      },
      "source": [
        "## Ejercicio 5: Documentación\n",
        "\n",
        "En un documento `.pdf` o `.md` realizar un reporte de las operaciones que realizaron para obtener el conjunto de datos final. Se debe incluir:\n",
        "  1. Criterios de exclusión (o inclusión) de filas\n",
        "  2. Interpretación de las columnas presentes\n",
        "  2. Todas las transofrmaciones realizadas\n",
        "\n",
        "Este documento es de uso técnico exclusivamente, y su objetivo es permitir que otres desarrolladores puedan reproducir los mismos pasos y obtener el mismo resultado. Debe ser detallado pero consiso. Por ejemplo:\n",
        "\n",
        "```\n",
        "  ## Criterios de exclusión de ejemplos\n",
        "  1. Se eliminan ejemplos donde el año de construcción es previo a 1900\n",
        "\n",
        "  ## Características seleccionadas\n",
        "  ### Características categóricas\n",
        "  1. Type: tipo de propiedad. 3 valores posibles\n",
        "  2. ...\n",
        "  Todas las características categóricas fueron codificadas con un\n",
        "  método OneHotEncoding utilizando como máximo sus 30 valores más \n",
        "  frecuentes.\n",
        "  \n",
        "  ### Características numéricas\n",
        "  1. Rooms: Cantidad de habitaciones\n",
        "  2. Distance: Distancia al centro de la ciudad.\n",
        "  3. airbnb_mean_price: Se agrega el precio promedio diario de \n",
        "     publicaciones de la plataforma AirBnB en el mismo código \n",
        "     postal. [Link al repositorio con datos externos].\n",
        "\n",
        "  ### Transformaciones:\n",
        "  1. Todas las características numéricas fueron estandarizadas.\n",
        "  2. La columna `Suburb` fue imputada utilizando el método ...\n",
        "  3. Las columnas `YearBuilt` y ... fueron imputadas utilizando el \n",
        "     algoritmo ...\n",
        "  4. ...\n",
        "\n",
        "  ### Datos aumentados\n",
        "  1. Se agregan las 5 primeras columnas obtenidas a través del\n",
        "     método de PCA, aplicado sobre el conjunto de datos\n",
        "     totalmente procesado.\n",
        "```\n"
      ]
    },
    {
      "cell_type": "markdown",
      "metadata": {
        "id": "Bq7nuPg2HIYx"
      },
      "source": [
        "```\n",
        "  # 1. Encoding\n",
        "  ## 1.1. Seleccionar todas las filas y columnas del conjunto de datos obtenido en la parte 1 del entregable, excepto BuildingArea y YearBuilt, que volveremos a imputar más adelante.\n",
        "  1. Se generó un dataframe con los datos obtenidos anteriormente.\n",
        "  2. Se eliminaron las columas BuildingArea y YearBuilt con la función drop(). Estas columnas serán imputadas más adelante.\n",
        "  ## 1.2. Aplicar una codificación One-hot encoding a cada fila, tanto para variables numéricas como categóricas. Si lo consideran necesario, pueden volver a reducir el número de categorías únicas.\n",
        "  1. Se generó una lista con las variables categóricas del dataframe c_cat = ['Suburb', 'Type', 'Method', 'SellerG', 'Date', 'CouncilArea', 'Regionname'].  \n",
        "  2. Para cada columna categóricas se codificaron sus datos con el método OneHotEncoding.\n",
        "  3. Los valores codificados fueron transformados a arreglos correspondientes a cada columna.\n",
        "  \n",
        "\n",
        "```"
      ]
    }
  ]
}